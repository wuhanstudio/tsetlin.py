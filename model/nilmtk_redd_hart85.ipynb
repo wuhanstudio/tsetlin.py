{
 "cells": [
  {
   "cell_type": "code",
   "execution_count": 1,
   "id": "ce2293af-e0bf-45f8-88a7-124ba18bd1cd",
   "metadata": {},
   "outputs": [],
   "source": [
    "import nilmtk\n",
    "from nilmtk.timeframe import TimeFrame"
   ]
  },
  {
   "cell_type": "code",
   "execution_count": 2,
   "id": "96885c24-ecd7-4035-9e4f-7ee367154dc3",
   "metadata": {},
   "outputs": [],
   "source": [
    "import pandas as pd\n",
    "import matplotlib.pyplot as plt"
   ]
  },
  {
   "cell_type": "code",
   "execution_count": 3,
   "id": "77dc2662-9766-4c43-afec-d06102bdc1a5",
   "metadata": {},
   "outputs": [],
   "source": [
    "TRAINING_DATA_DURATION = 12\n",
    "delta_time = pd.to_timedelta(TRAINING_DATA_DURATION, unit='h')"
   ]
  },
  {
   "cell_type": "markdown",
   "id": "5d7adab2-bf5f-46f5-8dcb-cd88fb6e545e",
   "metadata": {},
   "source": [
    "# Building 1"
   ]
  },
  {
   "cell_type": "code",
   "execution_count": 4,
   "id": "9bd468f8-2529-4010-a5df-955a01125ec1",
   "metadata": {},
   "outputs": [],
   "source": [
    "redd = nilmtk.DataSet(\"redd.h5\")"
   ]
  },
  {
   "cell_type": "code",
   "execution_count": 5,
   "id": "2884f764-9cb2-4fc4-ad77-66e34920ab68",
   "metadata": {},
   "outputs": [],
   "source": [
    "building_1 = redd.buildings[1].elec"
   ]
  },
  {
   "cell_type": "code",
   "execution_count": 6,
   "id": "b2e30e04-7a84-478b-a121-a97b87dc70bc",
   "metadata": {},
   "outputs": [
    {
     "data": {
      "text/plain": [
       "MeterGroup(meters=\n",
       "  ElecMeter(instance=1, building=1, dataset='REDD', site_meter, appliances=[])\n",
       "  ElecMeter(instance=2, building=1, dataset='REDD', site_meter, appliances=[])\n",
       ")"
      ]
     },
     "execution_count": 6,
     "metadata": {},
     "output_type": "execute_result"
    }
   ],
   "source": [
    "building_1.mains()"
   ]
  },
  {
   "cell_type": "code",
   "execution_count": 7,
   "id": "cc30a8bd-a592-414f-ab62-b065deb82d9f",
   "metadata": {},
   "outputs": [
    {
     "data": {
      "text/plain": [
       "['active', 'apparent']"
      ]
     },
     "execution_count": 7,
     "metadata": {},
     "output_type": "execute_result"
    }
   ],
   "source": [
    "building_1.available_ac_types('power')"
   ]
  },
  {
   "cell_type": "code",
   "execution_count": 8,
   "id": "571a984b-0bce-4424-a117-4124c1005537",
   "metadata": {},
   "outputs": [
    {
     "data": {
      "text/plain": [
       "['active']"
      ]
     },
     "execution_count": 8,
     "metadata": {},
     "output_type": "execute_result"
    }
   ],
   "source": [
    "building_1.submeters().available_ac_types('power')"
   ]
  },
  {
   "cell_type": "code",
   "execution_count": 9,
   "id": "48065f50-c850-446d-bd39-85dbe272d9d8",
   "metadata": {
    "scrolled": true
   },
   "outputs": [
    {
     "data": {
      "text/plain": [
       "MeterGroup(meters=\n",
       "  ElecMeter(instance=5, building=1, dataset='REDD', appliances=[Appliance(type='fridge', instance=1)])\n",
       "  ElecMeter(instance=6, building=1, dataset='REDD', appliances=[Appliance(type='dish washer', instance=1)])\n",
       "  ElecMeter(instance=7, building=1, dataset='REDD', appliances=[Appliance(type='sockets', instance=1)])\n",
       "  ElecMeter(instance=8, building=1, dataset='REDD', appliances=[Appliance(type='sockets', instance=2)])\n",
       "  ElecMeter(instance=9, building=1, dataset='REDD', appliances=[Appliance(type='light', instance=1)])\n",
       "  ElecMeter(instance=11, building=1, dataset='REDD', appliances=[Appliance(type='microwave', instance=1)])\n",
       "  ElecMeter(instance=12, building=1, dataset='REDD', appliances=[Appliance(type='unknown', instance=1)])\n",
       "  ElecMeter(instance=13, building=1, dataset='REDD', appliances=[Appliance(type='electric space heater', instance=1)])\n",
       "  ElecMeter(instance=14, building=1, dataset='REDD', appliances=[Appliance(type='electric stove', instance=1)])\n",
       "  ElecMeter(instance=15, building=1, dataset='REDD', appliances=[Appliance(type='sockets', instance=3)])\n",
       "  ElecMeter(instance=16, building=1, dataset='REDD', appliances=[Appliance(type='sockets', instance=4)])\n",
       "  ElecMeter(instance=17, building=1, dataset='REDD', appliances=[Appliance(type='light', instance=2)])\n",
       "  ElecMeter(instance=18, building=1, dataset='REDD', appliances=[Appliance(type='light', instance=3)])\n",
       "  ElecMeter(instance=19, building=1, dataset='REDD', appliances=[Appliance(type='unknown', instance=2)])\n",
       "  MeterGroup(meters=\n",
       "    ElecMeter(instance=3, building=1, dataset='REDD', appliances=[Appliance(type='electric oven', instance=1)])\n",
       "    ElecMeter(instance=4, building=1, dataset='REDD', appliances=[Appliance(type='electric oven', instance=1)])\n",
       "  )\n",
       "  MeterGroup(meters=\n",
       "    ElecMeter(instance=10, building=1, dataset='REDD', appliances=[Appliance(type='washer dryer', instance=1)])\n",
       "    ElecMeter(instance=20, building=1, dataset='REDD', appliances=[Appliance(type='washer dryer', instance=1)])\n",
       "  )\n",
       ")"
      ]
     },
     "execution_count": 9,
     "metadata": {},
     "output_type": "execute_result"
    }
   ],
   "source": [
    "building_1.submeters()"
   ]
  },
  {
   "cell_type": "code",
   "execution_count": 10,
   "id": "f62819de-0d4d-4416-845f-a21699228e23",
   "metadata": {},
   "outputs": [],
   "source": [
    "# building_1.plot_when_on(on_power_threshold = 40)"
   ]
  },
  {
   "cell_type": "markdown",
   "id": "4f353633-ed6e-49f1-9085-55d355e66844",
   "metadata": {},
   "source": [
    "### Main Meter"
   ]
  },
  {
   "cell_type": "code",
   "execution_count": 11,
   "id": "97e1c227-27da-455b-a24e-bfa994934e5c",
   "metadata": {},
   "outputs": [
    {
     "data": {
      "text/plain": [
       "MeterGroup(meters=\n",
       "  ElecMeter(instance=1, building=1, dataset='REDD', site_meter, appliances=[])\n",
       "  ElecMeter(instance=2, building=1, dataset='REDD', site_meter, appliances=[])\n",
       ")"
      ]
     },
     "execution_count": 11,
     "metadata": {},
     "output_type": "execute_result"
    }
   ],
   "source": [
    "building_1.mains()"
   ]
  },
  {
   "cell_type": "code",
   "execution_count": 12,
   "id": "bcf30416-936b-4559-ae98-33a290f7aec0",
   "metadata": {},
   "outputs": [],
   "source": [
    "main_meter = building_1.mains()[1]"
   ]
  },
  {
   "cell_type": "code",
   "execution_count": 13,
   "id": "7f15732b-897b-410a-aea8-4827532d997a",
   "metadata": {},
   "outputs": [],
   "source": [
    "start_time = main_meter.get_timeframe().start\n",
    "end_time = start_time + delta_time"
   ]
  },
  {
   "cell_type": "code",
   "execution_count": 14,
   "id": "19c9aa62-b8d7-4d63-a9be-1ef451eb422b",
   "metadata": {},
   "outputs": [
    {
     "name": "stdout",
     "output_type": "stream",
     "text": [
      "Start Time: 2011-04-18 09:22:09-04:00\n",
      "End Time: 2011-04-18 21:22:09-04:00\n"
     ]
    }
   ],
   "source": [
    "print(\"Start Time:\", start_time)\n",
    "print(\"End Time:\",   end_time)"
   ]
  },
  {
   "cell_type": "code",
   "execution_count": 15,
   "id": "1e5b9fb8-5bb2-4a4f-b2dc-1902ae0096f5",
   "metadata": {},
   "outputs": [],
   "source": [
    "kw = {'sections': [TimeFrame(start=start_time, end=end_time)], 'sample_period': 3, 'resample': True}"
   ]
  },
  {
   "cell_type": "code",
   "execution_count": 16,
   "id": "a5c07a97-2256-42b5-8697-66c11be53268",
   "metadata": {},
   "outputs": [
    {
     "name": "stdout",
     "output_type": "stream",
     "text": [
      "{'sections': [TimeFrame(start='2011-04-18 09:22:09-04:00', end='2011-04-18 21:22:09-04:00', empty=False)], 'sample_period': 3, 'resample': True}\n",
      "2011-04-18 09:22:09-04:00    225.283325\n",
      "2011-04-18 09:22:12-04:00    222.349991\n",
      "2011-04-18 09:22:15-04:00    222.853333\n",
      "2011-04-18 09:22:18-04:00    222.706665\n",
      "2011-04-18 09:22:21-04:00    222.646667\n",
      "                                ...    \n",
      "2011-04-18 21:21:54-04:00    139.929993\n",
      "2011-04-18 21:21:57-04:00    139.446671\n",
      "2011-04-18 21:22:00-04:00    140.023331\n",
      "2011-04-18 21:22:03-04:00    140.406662\n",
      "2011-04-18 21:22:06-04:00    142.940002\n",
      "Freq: 3s, Name: (power, apparent), Length: 14400, dtype: float32\n",
      "GOOD\n"
     ]
    },
    {
     "data": {
      "text/plain": [
       "<Axes: >"
      ]
     },
     "execution_count": 16,
     "metadata": {},
     "output_type": "execute_result"
    },
    {
     "data": {
      "image/png": "[encoded data removed]",
      "text/plain": [
       "<Figure size 640x480 with 1 Axes>"
      ]
     },
     "metadata": {},
     "output_type": "display_data"
    }
   ],
   "source": [
    "main_df = main_meter.power_series_all_data(**kw)\n",
    "main_df.plot()"
   ]
  },
  {
   "cell_type": "code",
   "execution_count": 17,
   "id": "a846c2f0-3995-40bd-b630-9ab50d8555e7",
   "metadata": {},
   "outputs": [],
   "source": [
    "main_df = main_df.to_frame().fillna(0)"
   ]
  },
  {
   "cell_type": "markdown",
   "id": "4f1d77f8-53f9-400c-8c45-e2dfcfc8ec6b",
   "metadata": {},
   "source": [
    "### Fridge"
   ]
  },
  {
   "cell_type": "code",
   "execution_count": 18,
   "id": "dbfd9db0-4c6b-4bd2-ae10-3ee0b2f88ce0",
   "metadata": {},
   "outputs": [
    {
     "name": "stdout",
     "output_type": "stream",
     "text": [
      "{'sections': [TimeFrame(start='2011-04-18 09:22:09-04:00', end='2011-04-18 21:22:09-04:00', empty=False)], 'sample_period': 3, 'resample': True}\n",
      "2011-04-18 09:22:12-04:00    6.0\n",
      "2011-04-18 09:22:15-04:00    6.0\n",
      "2011-04-18 09:22:18-04:00    6.0\n",
      "2011-04-18 09:22:21-04:00    6.0\n",
      "2011-04-18 09:22:24-04:00    6.0\n",
      "                            ... \n",
      "2011-04-18 21:21:54-04:00    7.0\n",
      "2011-04-18 21:21:57-04:00    6.0\n",
      "2011-04-18 21:22:00-04:00    6.0\n",
      "2011-04-18 21:22:03-04:00    6.0\n",
      "2011-04-18 21:22:06-04:00    6.0\n",
      "Freq: 3s, Name: (power, active), Length: 14399, dtype: float32\n",
      "GOOD\n"
     ]
    },
    {
     "data": {
      "text/plain": [
       "<Axes: >"
      ]
     },
     "execution_count": 18,
     "metadata": {},
     "output_type": "execute_result"
    },
    {
     "data": {
      "image/png": "[encoded data removed]",
      "text/plain": [
       "<Figure size 640x480 with 1 Axes>"
      ]
     },
     "metadata": {},
     "output_type": "display_data"
    }
   ],
   "source": [
    "fridge = building_1['fridge']\n",
    "fridge_df = fridge.power_series_all_data(**kw)\n",
    "fridge_df.plot()"
   ]
  },
  {
   "cell_type": "code",
   "execution_count": 19,
   "id": "63d58d89-e5ae-4656-addc-d556ed69d3f6",
   "metadata": {},
   "outputs": [],
   "source": [
    "fridge_df = fridge_df.to_frame().fillna(0)"
   ]
  },
  {
   "cell_type": "markdown",
   "id": "e3976ddf-82f7-48bf-8575-2316870c3054",
   "metadata": {
    "jp-MarkdownHeadingCollapsed": true
   },
   "source": [
    "### Microwave"
   ]
  },
  {
   "cell_type": "code",
   "execution_count": 20,
   "id": "36c448d3-3aff-4fc1-9e96-efb8f71c89cb",
   "metadata": {},
   "outputs": [
    {
     "name": "stdout",
     "output_type": "stream",
     "text": [
      "{'sections': [TimeFrame(start='2011-04-18 09:22:09-04:00', end='2011-04-18 21:22:09-04:00', empty=False)], 'sample_period': 3, 'resample': True}\n",
      "2011-04-18 09:22:12-04:00    5.0\n",
      "2011-04-18 09:22:15-04:00    5.0\n",
      "2011-04-18 09:22:18-04:00    5.0\n",
      "2011-04-18 09:22:21-04:00    5.0\n",
      "2011-04-18 09:22:24-04:00    5.0\n",
      "                            ... \n",
      "2011-04-18 21:21:54-04:00    4.0\n",
      "2011-04-18 21:21:57-04:00    4.0\n",
      "2011-04-18 21:22:00-04:00    4.0\n",
      "2011-04-18 21:22:03-04:00    4.0\n",
      "2011-04-18 21:22:06-04:00    4.0\n",
      "Freq: 3s, Name: (power, active), Length: 14399, dtype: float32\n",
      "GOOD\n"
     ]
    },
    {
     "data": {
      "text/plain": [
       "<Axes: >"
      ]
     },
     "execution_count": 20,
     "metadata": {},
     "output_type": "execute_result"
    },
    {
     "data": {
      "image/png": "[encoded data removed]",
      "text/plain": [
       "<Figure size 640x480 with 1 Axes>"
      ]
     },
     "metadata": {},
     "output_type": "display_data"
    }
   ],
   "source": [
    "microwave = building_1['microwave']\n",
    "microwave_df = microwave.power_series_all_data(**kw)\n",
    "microwave_df.plot()"
   ]
  },
  {
   "cell_type": "markdown",
   "id": "a356c618-9fc3-4845-8359-b87685f87366",
   "metadata": {},
   "source": [
    "### Unknown"
   ]
  },
  {
   "cell_type": "code",
   "execution_count": 21,
   "id": "e12cf67a-d3c9-4cef-a5ca-6074e5ae9da4",
   "metadata": {},
   "outputs": [
    {
     "name": "stdout",
     "output_type": "stream",
     "text": [
      "{'sections': [TimeFrame(start='2011-04-18 09:22:09-04:00', end='2011-04-18 21:22:09-04:00', empty=False)], 'sample_period': 3, 'resample': True}\n",
      "2011-04-18 09:22:12-04:00    1.0\n",
      "2011-04-18 09:22:15-04:00    1.0\n",
      "2011-04-18 09:22:18-04:00    1.0\n",
      "2011-04-18 09:22:21-04:00    1.0\n",
      "2011-04-18 09:22:24-04:00    1.0\n",
      "                            ... \n",
      "2011-04-18 21:21:54-04:00    1.0\n",
      "2011-04-18 21:21:57-04:00    1.0\n",
      "2011-04-18 21:22:00-04:00    1.0\n",
      "2011-04-18 21:22:03-04:00    1.0\n",
      "2011-04-18 21:22:06-04:00    1.0\n",
      "Freq: 3s, Name: (power, active), Length: 14399, dtype: float32\n",
      "GOOD\n"
     ]
    },
    {
     "data": {
      "text/plain": [
       "<Axes: >"
      ]
     },
     "execution_count": 21,
     "metadata": {},
     "output_type": "execute_result"
    },
    {
     "data": {
      "image/png": "[encoded data removed]",
      "text/plain": [
       "<Figure size 640x480 with 1 Axes>"
      ]
     },
     "metadata": {},
     "output_type": "display_data"
    }
   ],
   "source": [
    "unknown = building_1['unknown']\n",
    "unknown_df = unknown.power_series_all_data(**kw)\n",
    "unknown_df.plot()"
   ]
  },
  {
   "cell_type": "code",
   "execution_count": 22,
   "id": "2f169c49-a40f-4fb0-a152-8278c3f31ccc",
   "metadata": {},
   "outputs": [],
   "source": [
    "microwave_df = microwave_df.to_frame().fillna(0)"
   ]
  },
  {
   "cell_type": "markdown",
   "id": "2e4540b7-24db-49fb-9c2b-d5463d319775",
   "metadata": {},
   "source": [
    "# Hart 85"
   ]
  },
  {
   "cell_type": "code",
   "execution_count": 23,
   "id": "b3c8495a-1dfc-41c9-a93d-473a5da816c2",
   "metadata": {},
   "outputs": [],
   "source": [
    "# Hart85 functions\n",
    "from nilmtk.disaggregate.hart_85 import Hart85\n",
    "\n",
    "from nilmtk.feature_detectors.steady_states import find_steady_states\n",
    "from nilmtk.feature_detectors.cluster import hart85_means_shift_cluster"
   ]
  },
  {
   "cell_type": "markdown",
   "id": "a4bd809b-4601-4e04-ad26-072d903081e4",
   "metadata": {},
   "source": [
    "## Step 1: Find steady states"
   ]
  },
  {
   "cell_type": "code",
   "execution_count": 24,
   "id": "79c49fad-c346-47dc-9c2f-65c981cba146",
   "metadata": {},
   "outputs": [],
   "source": [
    "# Initiate the Hart85 model\n",
    "m_hart = Hart85({})"
   ]
  },
  {
   "cell_type": "code",
   "execution_count": 25,
   "id": "ab1ed1ae-f9b4-4238-80b2-83c328cba36e",
   "metadata": {},
   "outputs": [],
   "source": [
    "# Global variables\n",
    "noise_level = 70\n",
    "state_threshold = 15"
   ]
  },
  {
   "cell_type": "code",
   "execution_count": 26,
   "id": "43e3c039-a982-4431-9647-047c76c5484a",
   "metadata": {},
   "outputs": [],
   "source": [
    "columns = pd.MultiIndex.from_tuples([('power', 'apparent')])"
   ]
  },
  {
   "cell_type": "code",
   "execution_count": 27,
   "id": "0d700a98-5f00-4fe0-b513-8533a7fed4e1",
   "metadata": {},
   "outputs": [
    {
     "name": "stdout",
     "output_type": "stream",
     "text": [
      "Finding Edges, please wait ...\n",
      "Edge detection complete.\n",
      "Creating transition frame ...\n",
      "Transition frame created.\n",
      "Creating states frame ...\n",
      "States frame created.\n",
      "Finished.\n"
     ]
    }
   ],
   "source": [
    "m_hart.columns = columns\n",
    "m_hart.steady_states, m_hart.transients = find_steady_states(main_df,  \n",
    "                                                             noise_level = noise_level, \n",
    "                                                             state_threshold = state_threshold)  "
   ]
  },
  {
   "cell_type": "code",
   "execution_count": 28,
   "id": "f0d78bc7-27b5-4425-b615-db6b8e5a40da",
   "metadata": {},
   "outputs": [
    {
     "data": {
      "text/plain": [
       "Text(0.5, 0, 'Time')"
      ]
     },
     "execution_count": 28,
     "metadata": {},
     "output_type": "execute_result"
    },
    {
     "data": {
      "text/plain": [
       "<Figure size 1000x700 with 0 Axes>"
      ]
     },
     "metadata": {},
     "output_type": "display_data"
    },
    {
     "data": {
      "image/png": "[encoded data removed]",
      "text/plain": [
       "<Figure size 640x480 with 1 Axes>"
      ]
     },
     "metadata": {},
     "output_type": "display_data"
    }
   ],
   "source": [
    "# Plot steady states with main\n",
    "fig = plt.figure(figsize=(10, 7))\n",
    "ax = main_df.plot()\n",
    "m_hart.steady_states.plot(style='o', ax = ax);\n",
    "\n",
    "plt.title(\"Steady states plot with main power signature\")\n",
    "plt.legend([\"Mains\", \"Steady states\"]);\n",
    "plt.ylabel(\"Power (W)\")\n",
    "plt.xlabel(\"Time\")"
   ]
  },
  {
   "cell_type": "markdown",
   "id": "b428f742-99a2-488c-8b88-066bddb77537",
   "metadata": {},
   "source": [
    "## Step 2: Find pairs (Rising Edge and Falling Edge)"
   ]
  },
  {
   "cell_type": "code",
   "execution_count": 29,
   "id": "f807092e-266a-45f8-b80f-5f815baafd0a",
   "metadata": {},
   "outputs": [],
   "source": [
    "# Parameters for pairing function\n",
    "buffer_size = 20\n",
    "min_tolerance = 100\n",
    "percent_tolerance = 0.035\n",
    "large_transition = 1000"
   ]
  },
  {
   "cell_type": "code",
   "execution_count": 30,
   "id": "42ba59e5-7227-47ff-bda9-0d5f2f557b2b",
   "metadata": {},
   "outputs": [
    {
     "name": "stdout",
     "output_type": "stream",
     "text": [
      ".........................Hart_85 Partial Fit End....................\n"
     ]
    }
   ],
   "source": [
    "m_hart.pair_df = m_hart.pair(buffer_size, min_tolerance, percent_tolerance, large_transition)"
   ]
  },
  {
   "cell_type": "code",
   "execution_count": 31,
   "id": "8b42dcb2-1698-4002-bc43-919671259eb4",
   "metadata": {},
   "outputs": [
    {
     "data": {
      "text/html": [
       "<div>\n",
       "<style scoped>\n",
       "    .dataframe tbody tr th:only-of-type {\n",
       "        vertical-align: middle;\n",
       "    }\n",
       "\n",
       "    .dataframe tbody tr th {\n",
       "        vertical-align: top;\n",
       "    }\n",
       "\n",
       "    .dataframe thead th {\n",
       "        text-align: right;\n",
       "    }\n",
       "</style>\n",
       "<table border=\"1\" class=\"dataframe\">\n",
       "  <thead>\n",
       "    <tr style=\"text-align: right;\">\n",
       "      <th></th>\n",
       "      <th>T1 Time</th>\n",
       "      <th>T1 Apparent</th>\n",
       "      <th>T2 Time</th>\n",
       "      <th>T2 Apparent</th>\n",
       "    </tr>\n",
       "  </thead>\n",
       "  <tbody>\n",
       "    <tr>\n",
       "      <th>0</th>\n",
       "      <td>2011-04-18 09:39:39-04:00</td>\n",
       "      <td>1581.018725</td>\n",
       "      <td>2011-04-18 09:43:06-04:00</td>\n",
       "      <td>-1596.327068</td>\n",
       "    </tr>\n",
       "    <tr>\n",
       "      <th>1</th>\n",
       "      <td>2011-04-18 10:27:06-04:00</td>\n",
       "      <td>1599.624234</td>\n",
       "      <td>2011-04-18 10:28:03-04:00</td>\n",
       "      <td>-1597.762652</td>\n",
       "    </tr>\n",
       "    <tr>\n",
       "      <th>2</th>\n",
       "      <td>2011-04-18 11:29:42-04:00</td>\n",
       "      <td>1586.419717</td>\n",
       "      <td>2011-04-18 11:30:21-04:00</td>\n",
       "      <td>-1600.263039</td>\n",
       "    </tr>\n",
       "    <tr>\n",
       "      <th>3</th>\n",
       "      <td>2011-04-18 11:00:39-04:00</td>\n",
       "      <td>190.484191</td>\n",
       "      <td>2011-04-18 11:37:09-04:00</td>\n",
       "      <td>-175.345419</td>\n",
       "    </tr>\n",
       "    <tr>\n",
       "      <th>4</th>\n",
       "      <td>2011-04-18 11:46:12-04:00</td>\n",
       "      <td>1569.297023</td>\n",
       "      <td>2011-04-18 11:47:12-04:00</td>\n",
       "      <td>-1578.351164</td>\n",
       "    </tr>\n",
       "    <tr>\n",
       "      <th>5</th>\n",
       "      <td>2011-04-18 11:51:21-04:00</td>\n",
       "      <td>1526.207759</td>\n",
       "      <td>2011-04-18 11:52:45-04:00</td>\n",
       "      <td>-1519.146593</td>\n",
       "    </tr>\n",
       "    <tr>\n",
       "      <th>6</th>\n",
       "      <td>2011-04-18 12:26:54-04:00</td>\n",
       "      <td>188.912221</td>\n",
       "      <td>2011-04-18 12:34:15-04:00</td>\n",
       "      <td>-110.048511</td>\n",
       "    </tr>\n",
       "    <tr>\n",
       "      <th>7</th>\n",
       "      <td>2011-04-18 10:28:45-04:00</td>\n",
       "      <td>210.178375</td>\n",
       "      <td>2011-04-18 12:43:18-04:00</td>\n",
       "      <td>-178.663900</td>\n",
       "    </tr>\n",
       "    <tr>\n",
       "      <th>8</th>\n",
       "      <td>2011-04-18 13:25:36-04:00</td>\n",
       "      <td>182.138487</td>\n",
       "      <td>2011-04-18 13:39:24-04:00</td>\n",
       "      <td>-182.140233</td>\n",
       "    </tr>\n",
       "    <tr>\n",
       "      <th>9</th>\n",
       "      <td>2011-04-18 14:25:45-04:00</td>\n",
       "      <td>179.713919</td>\n",
       "      <td>2011-04-18 14:39:27-04:00</td>\n",
       "      <td>-178.490975</td>\n",
       "    </tr>\n",
       "    <tr>\n",
       "      <th>10</th>\n",
       "      <td>2011-04-18 14:57:30-04:00</td>\n",
       "      <td>1623.256431</td>\n",
       "      <td>2011-04-18 14:58:33-04:00</td>\n",
       "      <td>-1603.558447</td>\n",
       "    </tr>\n",
       "    <tr>\n",
       "      <th>11</th>\n",
       "      <td>2011-04-18 15:05:27-04:00</td>\n",
       "      <td>182.778118</td>\n",
       "      <td>2011-04-18 15:23:45-04:00</td>\n",
       "      <td>-174.338510</td>\n",
       "    </tr>\n",
       "    <tr>\n",
       "      <th>12</th>\n",
       "      <td>2011-04-18 16:12:30-04:00</td>\n",
       "      <td>183.222342</td>\n",
       "      <td>2011-04-18 16:29:06-04:00</td>\n",
       "      <td>-167.749690</td>\n",
       "    </tr>\n",
       "    <tr>\n",
       "      <th>13</th>\n",
       "      <td>2011-04-18 17:38:18-04:00</td>\n",
       "      <td>173.636535</td>\n",
       "      <td>2011-04-18 17:57:36-04:00</td>\n",
       "      <td>-172.808823</td>\n",
       "    </tr>\n",
       "    <tr>\n",
       "      <th>14</th>\n",
       "      <td>2011-04-18 18:22:12-04:00</td>\n",
       "      <td>71.378520</td>\n",
       "      <td>2011-04-18 18:25:42-04:00</td>\n",
       "      <td>-71.474528</td>\n",
       "    </tr>\n",
       "    <tr>\n",
       "      <th>15</th>\n",
       "      <td>2011-04-18 16:11:03-04:00</td>\n",
       "      <td>1588.121848</td>\n",
       "      <td>2011-04-18 18:30:39-04:00</td>\n",
       "      <td>-1556.888410</td>\n",
       "    </tr>\n",
       "    <tr>\n",
       "      <th>16</th>\n",
       "      <td>2011-04-18 18:31:00-04:00</td>\n",
       "      <td>1548.097740</td>\n",
       "      <td>2011-04-18 18:31:12-04:00</td>\n",
       "      <td>-1548.699070</td>\n",
       "    </tr>\n",
       "    <tr>\n",
       "      <th>17</th>\n",
       "      <td>2011-04-18 18:31:30-04:00</td>\n",
       "      <td>1545.879124</td>\n",
       "      <td>2011-04-18 18:31:45-04:00</td>\n",
       "      <td>-1545.667788</td>\n",
       "    </tr>\n",
       "    <tr>\n",
       "      <th>18</th>\n",
       "      <td>2011-04-18 18:32:03-04:00</td>\n",
       "      <td>1529.944969</td>\n",
       "      <td>2011-04-18 18:32:15-04:00</td>\n",
       "      <td>-1535.637470</td>\n",
       "    </tr>\n",
       "    <tr>\n",
       "      <th>19</th>\n",
       "      <td>2011-04-18 18:35:39-04:00</td>\n",
       "      <td>1563.628357</td>\n",
       "      <td>2011-04-18 18:35:51-04:00</td>\n",
       "      <td>-1528.517792</td>\n",
       "    </tr>\n",
       "    <tr>\n",
       "      <th>20</th>\n",
       "      <td>2011-04-18 18:36:12-04:00</td>\n",
       "      <td>1526.156647</td>\n",
       "      <td>2011-04-18 18:36:24-04:00</td>\n",
       "      <td>-1527.174207</td>\n",
       "    </tr>\n",
       "    <tr>\n",
       "      <th>21</th>\n",
       "      <td>2011-04-18 18:36:42-04:00</td>\n",
       "      <td>1521.115247</td>\n",
       "      <td>2011-04-18 18:36:54-04:00</td>\n",
       "      <td>-1522.014913</td>\n",
       "    </tr>\n",
       "    <tr>\n",
       "      <th>22</th>\n",
       "      <td>2011-04-18 18:37:15-04:00</td>\n",
       "      <td>1516.918294</td>\n",
       "      <td>2011-04-18 18:37:27-04:00</td>\n",
       "      <td>-1517.556625</td>\n",
       "    </tr>\n",
       "    <tr>\n",
       "      <th>23</th>\n",
       "      <td>2011-04-18 18:37:48-04:00</td>\n",
       "      <td>1515.441086</td>\n",
       "      <td>2011-04-18 18:38:00-04:00</td>\n",
       "      <td>-1516.286652</td>\n",
       "    </tr>\n",
       "    <tr>\n",
       "      <th>24</th>\n",
       "      <td>2011-04-18 18:38:21-04:00</td>\n",
       "      <td>1514.683868</td>\n",
       "      <td>2011-04-18 18:38:30-04:00</td>\n",
       "      <td>-1515.520518</td>\n",
       "    </tr>\n",
       "    <tr>\n",
       "      <th>25</th>\n",
       "      <td>2011-04-18 18:38:57-04:00</td>\n",
       "      <td>1538.505058</td>\n",
       "      <td>2011-04-18 18:39:12-04:00</td>\n",
       "      <td>-1507.286733</td>\n",
       "    </tr>\n",
       "    <tr>\n",
       "      <th>26</th>\n",
       "      <td>2011-04-18 18:39:33-04:00</td>\n",
       "      <td>1502.876699</td>\n",
       "      <td>2011-04-18 18:39:42-04:00</td>\n",
       "      <td>-1504.233368</td>\n",
       "    </tr>\n",
       "    <tr>\n",
       "      <th>27</th>\n",
       "      <td>2011-04-18 18:43:27-04:00</td>\n",
       "      <td>1674.261512</td>\n",
       "      <td>2011-04-18 18:48:09-04:00</td>\n",
       "      <td>-1661.091484</td>\n",
       "    </tr>\n",
       "    <tr>\n",
       "      <th>28</th>\n",
       "      <td>2011-04-18 18:33:36-04:00</td>\n",
       "      <td>203.318685</td>\n",
       "      <td>2011-04-18 18:50:45-04:00</td>\n",
       "      <td>-163.608384</td>\n",
       "    </tr>\n",
       "    <tr>\n",
       "      <th>29</th>\n",
       "      <td>2011-04-18 18:51:27-04:00</td>\n",
       "      <td>1653.372303</td>\n",
       "      <td>2011-04-18 18:52:42-04:00</td>\n",
       "      <td>-1655.547477</td>\n",
       "    </tr>\n",
       "    <tr>\n",
       "      <th>30</th>\n",
       "      <td>2011-04-18 18:58:30-04:00</td>\n",
       "      <td>1661.778700</td>\n",
       "      <td>2011-04-18 18:59:42-04:00</td>\n",
       "      <td>-1660.636618</td>\n",
       "    </tr>\n",
       "    <tr>\n",
       "      <th>31</th>\n",
       "      <td>2011-04-18 19:02:00-04:00</td>\n",
       "      <td>1657.744640</td>\n",
       "      <td>2011-04-18 19:03:03-04:00</td>\n",
       "      <td>-1656.554383</td>\n",
       "    </tr>\n",
       "    <tr>\n",
       "      <th>32</th>\n",
       "      <td>2011-04-18 19:08:03-04:00</td>\n",
       "      <td>1631.642651</td>\n",
       "      <td>2011-04-18 19:09:21-04:00</td>\n",
       "      <td>-1655.209904</td>\n",
       "    </tr>\n",
       "    <tr>\n",
       "      <th>33</th>\n",
       "      <td>2011-04-18 19:16:33-04:00</td>\n",
       "      <td>1647.652333</td>\n",
       "      <td>2011-04-18 19:17:48-04:00</td>\n",
       "      <td>-1648.058293</td>\n",
       "    </tr>\n",
       "    <tr>\n",
       "      <th>34</th>\n",
       "      <td>2011-04-18 19:18:51-04:00</td>\n",
       "      <td>1645.391235</td>\n",
       "      <td>2011-04-18 19:19:42-04:00</td>\n",
       "      <td>-1646.249632</td>\n",
       "    </tr>\n",
       "    <tr>\n",
       "      <th>35</th>\n",
       "      <td>2011-04-18 19:22:06-04:00</td>\n",
       "      <td>1427.503411</td>\n",
       "      <td>2011-04-18 19:24:09-04:00</td>\n",
       "      <td>-1458.808031</td>\n",
       "    </tr>\n",
       "    <tr>\n",
       "      <th>36</th>\n",
       "      <td>2011-04-18 19:43:12-04:00</td>\n",
       "      <td>1470.365936</td>\n",
       "      <td>2011-04-18 19:46:15-04:00</td>\n",
       "      <td>-1468.541120</td>\n",
       "    </tr>\n",
       "    <tr>\n",
       "      <th>37</th>\n",
       "      <td>2011-04-18 20:11:30-04:00</td>\n",
       "      <td>1482.222099</td>\n",
       "      <td>2011-04-18 20:12:18-04:00</td>\n",
       "      <td>-1510.872987</td>\n",
       "    </tr>\n",
       "    <tr>\n",
       "      <th>38</th>\n",
       "      <td>2011-04-18 20:10:54-04:00</td>\n",
       "      <td>210.912548</td>\n",
       "      <td>2011-04-18 20:32:03-04:00</td>\n",
       "      <td>-171.723860</td>\n",
       "    </tr>\n",
       "  </tbody>\n",
       "</table>\n",
       "</div>"
      ],
      "text/plain": [
       "                     T1 Time  T1 Apparent                   T2 Time  \\\n",
       "0  2011-04-18 09:39:39-04:00  1581.018725 2011-04-18 09:43:06-04:00   \n",
       "1  2011-04-18 10:27:06-04:00  1599.624234 2011-04-18 10:28:03-04:00   \n",
       "2  2011-04-18 11:29:42-04:00  1586.419717 2011-04-18 11:30:21-04:00   \n",
       "3  2011-04-18 11:00:39-04:00   190.484191 2011-04-18 11:37:09-04:00   \n",
       "4  2011-04-18 11:46:12-04:00  1569.297023 2011-04-18 11:47:12-04:00   \n",
       "5  2011-04-18 11:51:21-04:00  1526.207759 2011-04-18 11:52:45-04:00   \n",
       "6  2011-04-18 12:26:54-04:00   188.912221 2011-04-18 12:34:15-04:00   \n",
       "7  2011-04-18 10:28:45-04:00   210.178375 2011-04-18 12:43:18-04:00   \n",
       "8  2011-04-18 13:25:36-04:00   182.138487 2011-04-18 13:39:24-04:00   \n",
       "9  2011-04-18 14:25:45-04:00   179.713919 2011-04-18 14:39:27-04:00   \n",
       "10 2011-04-18 14:57:30-04:00  1623.256431 2011-04-18 14:58:33-04:00   \n",
       "11 2011-04-18 15:05:27-04:00   182.778118 2011-04-18 15:23:45-04:00   \n",
       "12 2011-04-18 16:12:30-04:00   183.222342 2011-04-18 16:29:06-04:00   \n",
       "13 2011-04-18 17:38:18-04:00   173.636535 2011-04-18 17:57:36-04:00   \n",
       "14 2011-04-18 18:22:12-04:00    71.378520 2011-04-18 18:25:42-04:00   \n",
       "15 2011-04-18 16:11:03-04:00  1588.121848 2011-04-18 18:30:39-04:00   \n",
       "16 2011-04-18 18:31:00-04:00  1548.097740 2011-04-18 18:31:12-04:00   \n",
       "17 2011-04-18 18:31:30-04:00  1545.879124 2011-04-18 18:31:45-04:00   \n",
       "18 2011-04-18 18:32:03-04:00  1529.944969 2011-04-18 18:32:15-04:00   \n",
       "19 2011-04-18 18:35:39-04:00  1563.628357 2011-04-18 18:35:51-04:00   \n",
       "20 2011-04-18 18:36:12-04:00  1526.156647 2011-04-18 18:36:24-04:00   \n",
       "21 2011-04-18 18:36:42-04:00  1521.115247 2011-04-18 18:36:54-04:00   \n",
       "22 2011-04-18 18:37:15-04:00  1516.918294 2011-04-18 18:37:27-04:00   \n",
       "23 2011-04-18 18:37:48-04:00  1515.441086 2011-04-18 18:38:00-04:00   \n",
       "24 2011-04-18 18:38:21-04:00  1514.683868 2011-04-18 18:38:30-04:00   \n",
       "25 2011-04-18 18:38:57-04:00  1538.505058 2011-04-18 18:39:12-04:00   \n",
       "26 2011-04-18 18:39:33-04:00  1502.876699 2011-04-18 18:39:42-04:00   \n",
       "27 2011-04-18 18:43:27-04:00  1674.261512 2011-04-18 18:48:09-04:00   \n",
       "28 2011-04-18 18:33:36-04:00   203.318685 2011-04-18 18:50:45-04:00   \n",
       "29 2011-04-18 18:51:27-04:00  1653.372303 2011-04-18 18:52:42-04:00   \n",
       "30 2011-04-18 18:58:30-04:00  1661.778700 2011-04-18 18:59:42-04:00   \n",
       "31 2011-04-18 19:02:00-04:00  1657.744640 2011-04-18 19:03:03-04:00   \n",
       "32 2011-04-18 19:08:03-04:00  1631.642651 2011-04-18 19:09:21-04:00   \n",
       "33 2011-04-18 19:16:33-04:00  1647.652333 2011-04-18 19:17:48-04:00   \n",
       "34 2011-04-18 19:18:51-04:00  1645.391235 2011-04-18 19:19:42-04:00   \n",
       "35 2011-04-18 19:22:06-04:00  1427.503411 2011-04-18 19:24:09-04:00   \n",
       "36 2011-04-18 19:43:12-04:00  1470.365936 2011-04-18 19:46:15-04:00   \n",
       "37 2011-04-18 20:11:30-04:00  1482.222099 2011-04-18 20:12:18-04:00   \n",
       "38 2011-04-18 20:10:54-04:00   210.912548 2011-04-18 20:32:03-04:00   \n",
       "\n",
       "    T2 Apparent  \n",
       "0  -1596.327068  \n",
       "1  -1597.762652  \n",
       "2  -1600.263039  \n",
       "3   -175.345419  \n",
       "4  -1578.351164  \n",
       "5  -1519.146593  \n",
       "6   -110.048511  \n",
       "7   -178.663900  \n",
       "8   -182.140233  \n",
       "9   -178.490975  \n",
       "10 -1603.558447  \n",
       "11  -174.338510  \n",
       "12  -167.749690  \n",
       "13  -172.808823  \n",
       "14   -71.474528  \n",
       "15 -1556.888410  \n",
       "16 -1548.699070  \n",
       "17 -1545.667788  \n",
       "18 -1535.637470  \n",
       "19 -1528.517792  \n",
       "20 -1527.174207  \n",
       "21 -1522.014913  \n",
       "22 -1517.556625  \n",
       "23 -1516.286652  \n",
       "24 -1515.520518  \n",
       "25 -1507.286733  \n",
       "26 -1504.233368  \n",
       "27 -1661.091484  \n",
       "28  -163.608384  \n",
       "29 -1655.547477  \n",
       "30 -1660.636618  \n",
       "31 -1656.554383  \n",
       "32 -1655.209904  \n",
       "33 -1648.058293  \n",
       "34 -1646.249632  \n",
       "35 -1458.808031  \n",
       "36 -1468.541120  \n",
       "37 -1510.872987  \n",
       "38  -171.723860  "
      ]
     },
     "execution_count": 31,
     "metadata": {},
     "output_type": "execute_result"
    }
   ],
   "source": [
    "m_hart.pair_df"
   ]
  },
  {
   "cell_type": "code",
   "execution_count": 32,
   "id": "e7467c6c-b666-43b9-99a7-ec8fb66a8d50",
   "metadata": {},
   "outputs": [],
   "source": [
    "# Compute avg of paired transitions using the formula (as in pair_transitions function in pairing module)\n",
    "pair_shape_df = pd.DataFrame(columns=['Height (W)','Duration (s)'])\n",
    "\n",
    "pair_shape_df['Height (W)']= (m_hart.pair_df['T1 Apparent'].abs() + m_hart.pair_df['T2 Apparent'].abs()) / 2\n",
    "pair_shape_df['Duration (s)']= pd.to_timedelta(m_hart.pair_df['T2 Time'] - m_hart.pair_df['T1 Time'],unit='s').dt.seconds"
   ]
  },
  {
   "cell_type": "code",
   "execution_count": 33,
   "id": "a73c58cc-bf5d-4181-8ea3-31b5a20e5f6f",
   "metadata": {},
   "outputs": [
    {
     "data": {
      "image/png": "[encoded data removed]",
      "text/plain": [
       "<Figure size 1000x700 with 1 Axes>"
      ]
     },
     "metadata": {},
     "output_type": "display_data"
    }
   ],
   "source": [
    "# Plot paired event space\n",
    "fig = plt.figure(figsize=(10,7))\n",
    "ax = fig.add_subplot(1, 1, 1)\n",
    "\n",
    "# Time in log scale\n",
    "ax.set_yscale('log')\n",
    "\n",
    "# Plot paired transitions\n",
    "ax.scatter(pair_shape_df['Height (W)'], pair_shape_df['Duration (s)'], label='paired transitions')\n",
    "\n",
    "plt.title(\"Paired event -  Signature Space\")\n",
    "plt.legend()\n",
    "plt.ylabel(\"Log Duration (sec)\")\n",
    "plt.xlabel(\"Transition (W)\");"
   ]
  },
  {
   "cell_type": "markdown",
   "id": "1f46e998-8f31-4993-987e-ceec31d8c41e",
   "metadata": {},
   "source": [
    "## Step 3: Find Clusters"
   ]
  },
  {
   "cell_type": "code",
   "execution_count": 34,
   "id": "7d2749e0-0a16-4100-88ac-b7ecb8a39d2b",
   "metadata": {},
   "outputs": [],
   "source": [
    "m_hart.centroids = hart85_means_shift_cluster(m_hart.pair_df, m_hart.columns)"
   ]
  },
  {
   "cell_type": "code",
   "execution_count": 35,
   "id": "7d31cff4-3708-4941-bd19-0d099dcfc671",
   "metadata": {},
   "outputs": [
    {
     "data": {
      "text/html": [
       "<div>\n",
       "<style scoped>\n",
       "    .dataframe tbody tr th:only-of-type {\n",
       "        vertical-align: middle;\n",
       "    }\n",
       "\n",
       "    .dataframe tbody tr th {\n",
       "        vertical-align: top;\n",
       "    }\n",
       "\n",
       "    .dataframe thead tr th {\n",
       "        text-align: left;\n",
       "    }\n",
       "</style>\n",
       "<table border=\"1\" class=\"dataframe\">\n",
       "  <thead>\n",
       "    <tr>\n",
       "      <th></th>\n",
       "      <th>power</th>\n",
       "    </tr>\n",
       "    <tr>\n",
       "      <th></th>\n",
       "      <th>apparent</th>\n",
       "    </tr>\n",
       "  </thead>\n",
       "  <tbody>\n",
       "    <tr>\n",
       "      <th>0</th>\n",
       "      <td>1541.232376</td>\n",
       "    </tr>\n",
       "    <tr>\n",
       "      <th>1</th>\n",
       "      <td>1624.464612</td>\n",
       "    </tr>\n",
       "    <tr>\n",
       "      <th>2</th>\n",
       "      <td>179.010686</td>\n",
       "    </tr>\n",
       "    <tr>\n",
       "      <th>3</th>\n",
       "      <td>71.426524</td>\n",
       "    </tr>\n",
       "  </tbody>\n",
       "</table>\n",
       "</div>"
      ],
      "text/plain": [
       "         power\n",
       "      apparent\n",
       "0  1541.232376\n",
       "1  1624.464612\n",
       "2   179.010686\n",
       "3    71.426524"
      ]
     },
     "execution_count": 35,
     "metadata": {},
     "output_type": "execute_result"
    }
   ],
   "source": [
    "m_hart.centroids"
   ]
  },
  {
   "cell_type": "code",
   "execution_count": 36,
   "id": "7608c39d-0889-45c9-87d1-f5bef750fa48",
   "metadata": {},
   "outputs": [
    {
     "data": {
      "image/png": "[encoded data removed]",
      "text/plain": [
       "<Figure size 1000x700 with 1 Axes>"
      ]
     },
     "metadata": {},
     "output_type": "display_data"
    }
   ],
   "source": [
    "# Plot centroids\n",
    "fig = plt.figure(figsize=(10, 7))\n",
    "ax = fig.add_subplot(1, 1, 1)\n",
    "\n",
    "# Time in log scale\n",
    "ax.set_yscale('log')\n",
    "\n",
    "# Plot paired transitions\n",
    "ax.scatter(pair_shape_df['Height (W)'], pair_shape_df['Duration (s)'], label='paired transitions')\n",
    "\n",
    "# Lines for centroids\n",
    "for i, row in m_hart.centroids.iterrows():\n",
    "    ax.axvline(m_hart.centroids.iloc[i, 0],color = 'y', linestyle='--')\n",
    "\n",
    "plt.legend(loc=1)\n",
    "plt.title(\"Clustering -  Signature Space\")\n",
    "plt.ylabel(\"Log Duration (sec)\")\n",
    "plt.xlabel(\"Transition (W)\");\n",
    "\n",
    "# Adding annotation for centroids\n",
    "labels = ['Centroid {0}'.format(i) for i in range(len(m_hart.centroids))]\n",
    "for label, x, y in zip(labels, m_hart.centroids[('power','apparent')], pair_shape_df['Duration (s)']):\n",
    "    plt.annotate(\n",
    "        label, \n",
    "        xy = (x, y), xytext = (0, -20),\n",
    "        textcoords = 'offset points', ha = 'center', va = 'center',\n",
    "        bbox = dict(boxstyle = 'round,pad=0.5', fc = 'yellow', alpha = 0.5))"
   ]
  },
  {
   "cell_type": "markdown",
   "id": "ef25f735-4fd1-4bb5-bcc0-2ceb5fb17b18",
   "metadata": {},
   "source": [
    "## Step 4: Training"
   ]
  },
  {
   "cell_type": "code",
   "execution_count": 37,
   "id": "cebab53b-92e8-47a6-b58d-9ab0dd855009",
   "metadata": {},
   "outputs": [],
   "source": [
    "import time"
   ]
  },
  {
   "cell_type": "code",
   "execution_count": 38,
   "id": "b74889c5-03ef-450f-b765-b0469cab4b66",
   "metadata": {},
   "outputs": [
    {
     "name": "stdout",
     "output_type": "stream",
     "text": [
      "...........................Hart_85 Partial Fit Running...............\n",
      "Finding Edges, please wait ...\n",
      "Edge detection complete.\n",
      "Creating transition frame ...\n",
      "Transition frame created.\n",
      "Creating states frame ...\n",
      "States frame created.\n",
      "Finished.\n",
      ".........................Hart_85 Partial Fit End....................\n",
      "..............................Predicting Centroid Matching..........................\n",
      "...................................End Centroid Matching............................\n",
      "\n",
      "---Runtime: 0.31497907638549805 seconds ---\n"
     ]
    }
   ],
   "source": [
    "start_time = time.time()\n",
    "\n",
    "m_hart.partial_fit(\n",
    "        [main_df],\n",
    "        [('fridge', [fridge_df])],\n",
    "        buffer_size = buffer_size,\n",
    "        noise_level= noise_level,\n",
    "        state_threshold = state_threshold,\n",
    "        min_tolerance = min_tolerance,\n",
    "        percent_tolerance = percent_tolerance,\n",
    "        large_transition = large_transition)\n",
    "\n",
    "print(\"\\n---Runtime: %s seconds ---\" % (time.time() - start_time))"
   ]
  },
  {
   "cell_type": "markdown",
   "id": "834c0cb2-3cbd-47d4-89b8-3b36e77d6deb",
   "metadata": {},
   "source": [
    "## Hart85: Save Model"
   ]
  },
  {
   "cell_type": "code",
   "execution_count": 39,
   "id": "155e8482-2b3f-4ba7-a053-4f47435e33b5",
   "metadata": {},
   "outputs": [
    {
     "data": {
      "text/plain": [
       "{'best_matches': {'fridge': 2},\n",
       " 'columns': [('power', 'apparent')],\n",
       " 'state_threshold': 15,\n",
       " 'noise_level': 70,\n",
       " 'steady_states':                            active average\n",
       " 2011-04-18 09:39:39-04:00     1801.609258\n",
       " 2011-04-18 09:43:06-04:00      205.282190\n",
       " 2011-04-18 10:17:42-04:00      393.114310\n",
       " 2011-04-18 10:27:06-04:00     1940.750381\n",
       " 2011-04-18 10:28:03-04:00      341.419446\n",
       " ...                                   ...\n",
       " 2011-04-18 19:46:15-04:00      128.898649\n",
       " 2011-04-18 20:10:54-04:00      352.888666\n",
       " 2011-04-18 20:11:30-04:00     1835.110765\n",
       " 2011-04-18 20:12:18-04:00      324.237778\n",
       " 2011-04-18 20:32:03-04:00      140.135762\n",
       " \n",
       " [84 rows x 1 columns],\n",
       " 'transients':                            active transition\n",
       " 2011-04-18 09:39:39-04:00        1581.018725\n",
       " 2011-04-18 09:43:06-04:00       -1596.327068\n",
       " 2011-04-18 10:17:42-04:00         187.832119\n",
       " 2011-04-18 10:27:06-04:00        1599.624234\n",
       " 2011-04-18 10:28:03-04:00       -1597.762652\n",
       " ...                                      ...\n",
       " 2011-04-18 19:46:15-04:00       -1468.541120\n",
       " 2011-04-18 20:10:54-04:00         210.912548\n",
       " 2011-04-18 20:11:30-04:00        1482.222099\n",
       " 2011-04-18 20:12:18-04:00       -1510.872987\n",
       " 2011-04-18 20:32:03-04:00        -171.723860\n",
       " \n",
       " [84 rows x 1 columns],\n",
       " 'centroids':    (power, apparent)\n",
       " 0        1541.232376\n",
       " 1        1624.464612\n",
       " 2         179.010686\n",
       " 3          71.426524}"
      ]
     },
     "execution_count": 39,
     "metadata": {},
     "output_type": "execute_result"
    }
   ],
   "source": [
    "m_hart.model"
   ]
  },
  {
   "cell_type": "code",
   "execution_count": 40,
   "id": "37eb3b4f-cff9-49f6-97b7-6d983dd33502",
   "metadata": {},
   "outputs": [],
   "source": [
    "m_hart.export_model('m_hart85.pickle')"
   ]
  },
  {
   "cell_type": "markdown",
   "id": "d67c163b-88aa-47d6-bd4c-ed47c7c0d39e",
   "metadata": {},
   "source": [
    "## Hart85: Import Model"
   ]
  },
  {
   "cell_type": "code",
   "execution_count": 41,
   "id": "19dc08bf-6a63-4673-831b-40f4bc4db9d2",
   "metadata": {},
   "outputs": [],
   "source": [
    "m_hart_load = Hart85({})\n",
    "m_hart_load.import_model('m_hart85.pickle')"
   ]
  },
  {
   "cell_type": "markdown",
   "id": "1819143f-c1cf-405f-926c-9dcc729f2319",
   "metadata": {},
   "source": [
    "## Hart85: Testing"
   ]
  },
  {
   "cell_type": "code",
   "execution_count": 42,
   "id": "8798804a-4e92-46d7-8af6-460b780c396f",
   "metadata": {},
   "outputs": [
    {
     "name": "stdout",
     "output_type": "stream",
     "text": [
      "Finding Edges, please wait ...\n",
      "Edge detection complete.\n",
      "Creating transition frame ...\n",
      "Transition frame created.\n",
      "Creating states frame ...\n",
      "States frame created.\n",
      "Finished.\n"
     ]
    }
   ],
   "source": [
    "fridge_df_predicted = m_hart_load.disaggregate_chunk([main_df])[0]"
   ]
  },
  {
   "cell_type": "code",
   "execution_count": 43,
   "id": "90473e72-51a4-4166-a5c7-720563f0f2dd",
   "metadata": {},
   "outputs": [
    {
     "data": {
      "text/plain": [
       "Text(0.5, 0, 'Timestamp')"
      ]
     },
     "execution_count": 43,
     "metadata": {},
     "output_type": "execute_result"
    },
    {
     "data": {
      "image/png": "[encoded data removed]",
      "text/plain": [
       "<Figure size 1000x700 with 1 Axes>"
      ]
     },
     "metadata": {},
     "output_type": "display_data"
    }
   ],
   "source": [
    "# Plot Fridge\n",
    "fig = plt.figure(figsize=(10, 7))\n",
    "plt.plot(main_df, label = 'Main Meter')\n",
    "plt.plot(fridge_df, label = 'Fridge (Ground Truth)')\n",
    "plt.plot(fridge_df_predicted, label = 'Fridge (Predicted)')\n",
    "\n",
    "plt.title(\"Main Meter and Fridge (Ground Truth)\")\n",
    "plt.legend()\n",
    "plt.ylabel(\"Active Power (W)\")\n",
    "plt.xlabel(\"Timestamp\")"
   ]
  },
  {
   "cell_type": "markdown",
   "id": "d2e3eb1b-5861-4cf8-a2df-556d4d933ff2",
   "metadata": {},
   "source": [
    "## Evaluation Metrics"
   ]
  },
  {
   "cell_type": "code",
   "execution_count": 44,
   "id": "ccf329e1-9669-4f7e-ba8f-6ea1371b0c52",
   "metadata": {},
   "outputs": [],
   "source": [
    "import numpy as np\n",
    "from sklearn.metrics import mean_squared_error, mean_absolute_error, mean_absolute_percentage_error"
   ]
  },
  {
   "cell_type": "code",
   "execution_count": 45,
   "id": "2683f0bc-f118-4c69-b65d-66735d33789d",
   "metadata": {},
   "outputs": [],
   "source": [
    "def rmse(gt,pred):\n",
    "    val = np.sqrt(mean_squared_error(gt,pred))\n",
    "    return val"
   ]
  },
  {
   "cell_type": "code",
   "execution_count": 46,
   "id": "f015a833-0a42-473a-9a09-ebcf06312480",
   "metadata": {},
   "outputs": [],
   "source": [
    "metrics = [mean_squared_error, rmse, mean_absolute_error, mean_absolute_percentage_error]\n",
    "metrics_label = ['MSE','RMSE' ,'MAE', 'MAPE']"
   ]
  },
  {
   "cell_type": "code",
   "execution_count": 47,
   "id": "883258cb-5cd1-4022-8539-52e4b05a5226",
   "metadata": {},
   "outputs": [
    {
     "name": "stdout",
     "output_type": "stream",
     "text": [
      "............  MSE  ..............\n",
      "fridge  1521.475241\n",
      "............  RMSE  ..............\n",
      "fridge  39.006092\n",
      "............  MAE  ..............\n",
      "fridge  13.693868\n",
      "............  MAPE  ..............\n",
      "fridge  0.754216\n"
     ]
    }
   ],
   "source": [
    "# Show metrics\n",
    "for metric,lbl in zip(metrics,metrics_label):\n",
    "    try:\n",
    "        loss_function = metric\n",
    "    except:\n",
    "        print (\"Loss function \",metric, \" is not supported currently!\")\n",
    "        continue\n",
    "\n",
    "    error = {}\n",
    "    error['fridge'] = loss_function(fridge_df, fridge_df_predicted[1:])\n",
    "\n",
    "    error = pd.Series(error)\n",
    "    computed_metric = pd.DataFrame(error)\n",
    "    print(\"............ \" , lbl ,\" ..............\")\n",
    "    print(computed_metric.to_string(header=False))"
   ]
  },
  {
   "cell_type": "code",
   "execution_count": null,
   "id": "28e0c12e-4b9b-4236-8933-1d016a17dd24",
   "metadata": {},
   "outputs": [],
   "source": []
  }
 ],
 "metadata": {
  "kernelspec": {
   "display_name": "Python 3 (ipykernel)",
   "language": "python",
   "name": "python3"
  },
  "language_info": {
   "codemirror_mode": {
    "name": "ipython",
    "version": 3
   },
   "file_extension": ".py",
   "mimetype": "text/x-python",
   "name": "python",
   "nbconvert_exporter": "python",
   "pygments_lexer": "ipython3",
   "version": "3.12.11"
  }
 },
 "nbformat": 4,
 "nbformat_minor": 5
}
