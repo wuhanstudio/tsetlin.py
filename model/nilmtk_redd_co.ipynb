{
 "cells": [
  {
   "cell_type": "code",
   "execution_count": 1,
   "id": "93e5d96c-fc12-4aa4-8413-7c52a60a990f",
   "metadata": {},
   "outputs": [],
   "source": [
    "%matplotlib ipympl"
   ]
  },
  {
   "cell_type": "code",
   "execution_count": 2,
   "id": "ce2293af-e0bf-45f8-88a7-124ba18bd1cd",
   "metadata": {},
   "outputs": [],
   "source": [
    "import nilmtk\n",
    "from nilmtk.timeframe import TimeFrame"
   ]
  },
  {
   "cell_type": "code",
   "execution_count": 3,
   "id": "96885c24-ecd7-4035-9e4f-7ee367154dc3",
   "metadata": {},
   "outputs": [],
   "source": [
    "import pandas as pd\n",
    "import matplotlib.pyplot as plt"
   ]
  },
  {
   "cell_type": "code",
   "execution_count": 4,
   "id": "77dc2662-9766-4c43-afec-d06102bdc1a5",
   "metadata": {},
   "outputs": [],
   "source": [
    "TRAINING_DATA_DURATION = 12\n",
    "delta_time = pd.to_timedelta(TRAINING_DATA_DURATION, unit='h')"
   ]
  },
  {
   "cell_type": "markdown",
   "id": "5d7adab2-bf5f-46f5-8dcb-cd88fb6e545e",
   "metadata": {},
   "source": [
    "# Building 1"
   ]
  },
  {
   "cell_type": "code",
   "execution_count": 5,
   "id": "9bd468f8-2529-4010-a5df-955a01125ec1",
   "metadata": {},
   "outputs": [],
   "source": [
    "redd = nilmtk.DataSet(\"redd.h5\")"
   ]
  },
  {
   "cell_type": "code",
   "execution_count": 6,
   "id": "2884f764-9cb2-4fc4-ad77-66e34920ab68",
   "metadata": {},
   "outputs": [],
   "source": [
    "building_1 = redd.buildings[1].elec"
   ]
  },
  {
   "cell_type": "code",
   "execution_count": 7,
   "id": "b2e30e04-7a84-478b-a121-a97b87dc70bc",
   "metadata": {},
   "outputs": [
    {
     "data": {
      "text/plain": [
       "MeterGroup(meters=\n",
       "  ElecMeter(instance=1, building=1, dataset='REDD', site_meter, appliances=[])\n",
       "  ElecMeter(instance=2, building=1, dataset='REDD', site_meter, appliances=[])\n",
       ")"
      ]
     },
     "execution_count": 7,
     "metadata": {},
     "output_type": "execute_result"
    }
   ],
   "source": [
    "building_1.mains()"
   ]
  },
  {
   "cell_type": "code",
   "execution_count": 8,
   "id": "cc30a8bd-a592-414f-ab62-b065deb82d9f",
   "metadata": {},
   "outputs": [
    {
     "data": {
      "text/plain": [
       "['apparent', 'active']"
      ]
     },
     "execution_count": 8,
     "metadata": {},
     "output_type": "execute_result"
    }
   ],
   "source": [
    "building_1.available_ac_types('power')"
   ]
  },
  {
   "cell_type": "code",
   "execution_count": 9,
   "id": "571a984b-0bce-4424-a117-4124c1005537",
   "metadata": {},
   "outputs": [
    {
     "data": {
      "text/plain": [
       "['active']"
      ]
     },
     "execution_count": 9,
     "metadata": {},
     "output_type": "execute_result"
    }
   ],
   "source": [
    "building_1.submeters().available_ac_types('power')"
   ]
  },
  {
   "cell_type": "code",
   "execution_count": 10,
   "id": "48065f50-c850-446d-bd39-85dbe272d9d8",
   "metadata": {
    "scrolled": true
   },
   "outputs": [
    {
     "data": {
      "text/plain": [
       "MeterGroup(meters=\n",
       "  ElecMeter(instance=5, building=1, dataset='REDD', appliances=[Appliance(type='fridge', instance=1)])\n",
       "  ElecMeter(instance=6, building=1, dataset='REDD', appliances=[Appliance(type='dish washer', instance=1)])\n",
       "  ElecMeter(instance=7, building=1, dataset='REDD', appliances=[Appliance(type='sockets', instance=1)])\n",
       "  ElecMeter(instance=8, building=1, dataset='REDD', appliances=[Appliance(type='sockets', instance=2)])\n",
       "  ElecMeter(instance=9, building=1, dataset='REDD', appliances=[Appliance(type='light', instance=1)])\n",
       "  ElecMeter(instance=11, building=1, dataset='REDD', appliances=[Appliance(type='microwave', instance=1)])\n",
       "  ElecMeter(instance=12, building=1, dataset='REDD', appliances=[Appliance(type='unknown', instance=1)])\n",
       "  ElecMeter(instance=13, building=1, dataset='REDD', appliances=[Appliance(type='electric space heater', instance=1)])\n",
       "  ElecMeter(instance=14, building=1, dataset='REDD', appliances=[Appliance(type='electric stove', instance=1)])\n",
       "  ElecMeter(instance=15, building=1, dataset='REDD', appliances=[Appliance(type='sockets', instance=3)])\n",
       "  ElecMeter(instance=16, building=1, dataset='REDD', appliances=[Appliance(type='sockets', instance=4)])\n",
       "  ElecMeter(instance=17, building=1, dataset='REDD', appliances=[Appliance(type='light', instance=2)])\n",
       "  ElecMeter(instance=18, building=1, dataset='REDD', appliances=[Appliance(type='light', instance=3)])\n",
       "  ElecMeter(instance=19, building=1, dataset='REDD', appliances=[Appliance(type='unknown', instance=2)])\n",
       "  MeterGroup(meters=\n",
       "    ElecMeter(instance=3, building=1, dataset='REDD', appliances=[Appliance(type='electric oven', instance=1)])\n",
       "    ElecMeter(instance=4, building=1, dataset='REDD', appliances=[Appliance(type='electric oven', instance=1)])\n",
       "  )\n",
       "  MeterGroup(meters=\n",
       "    ElecMeter(instance=10, building=1, dataset='REDD', appliances=[Appliance(type='washer dryer', instance=1)])\n",
       "    ElecMeter(instance=20, building=1, dataset='REDD', appliances=[Appliance(type='washer dryer', instance=1)])\n",
       "  )\n",
       ")"
      ]
     },
     "execution_count": 10,
     "metadata": {},
     "output_type": "execute_result"
    }
   ],
   "source": [
    "building_1.submeters()"
   ]
  },
  {
   "cell_type": "code",
   "execution_count": 11,
   "id": "f62819de-0d4d-4416-845f-a21699228e23",
   "metadata": {},
   "outputs": [],
   "source": [
    "# building_1.plot_when_on(on_power_threshold = 40)"
   ]
  },
  {
   "cell_type": "markdown",
   "id": "4f353633-ed6e-49f1-9085-55d355e66844",
   "metadata": {},
   "source": [
    "### Main Meter"
   ]
  },
  {
   "cell_type": "code",
   "execution_count": 12,
   "id": "97e1c227-27da-455b-a24e-bfa994934e5c",
   "metadata": {},
   "outputs": [
    {
     "data": {
      "text/plain": [
       "MeterGroup(meters=\n",
       "  ElecMeter(instance=1, building=1, dataset='REDD', site_meter, appliances=[])\n",
       "  ElecMeter(instance=2, building=1, dataset='REDD', site_meter, appliances=[])\n",
       ")"
      ]
     },
     "execution_count": 12,
     "metadata": {},
     "output_type": "execute_result"
    }
   ],
   "source": [
    "building_1.mains()"
   ]
  },
  {
   "cell_type": "code",
   "execution_count": 13,
   "id": "bcf30416-936b-4559-ae98-33a290f7aec0",
   "metadata": {},
   "outputs": [],
   "source": [
    "main_meter = building_1.mains()[1]"
   ]
  },
  {
   "cell_type": "code",
   "execution_count": 14,
   "id": "7f15732b-897b-410a-aea8-4827532d997a",
   "metadata": {},
   "outputs": [],
   "source": [
    "start_time = main_meter.get_timeframe().start\n",
    "end_time = start_time + delta_time"
   ]
  },
  {
   "cell_type": "code",
   "execution_count": 15,
   "id": "19c9aa62-b8d7-4d63-a9be-1ef451eb422b",
   "metadata": {},
   "outputs": [
    {
     "name": "stdout",
     "output_type": "stream",
     "text": [
      "Start Time: 2011-04-18 09:22:09-04:00\n",
      "End Time: 2011-04-18 21:22:09-04:00\n"
     ]
    }
   ],
   "source": [
    "print(\"Start Time:\", start_time)\n",
    "print(\"End Time:\",   end_time)"
   ]
  },
  {
   "cell_type": "code",
   "execution_count": 16,
   "id": "1e5b9fb8-5bb2-4a4f-b2dc-1902ae0096f5",
   "metadata": {},
   "outputs": [],
   "source": [
    "kw = {'sections': [TimeFrame(start=start_time, end=end_time)], 'sample_period': 3, 'resample': True}"
   ]
  },
  {
   "cell_type": "code",
   "execution_count": 17,
   "id": "a5c07a97-2256-42b5-8697-66c11be53268",
   "metadata": {},
   "outputs": [
    {
     "name": "stdout",
     "output_type": "stream",
     "text": [
      "{'sections': [TimeFrame(start='2011-04-18 09:22:09-04:00', end='2011-04-18 21:22:09-04:00', empty=False)], 'sample_period': 3, 'resample': True}\n",
      "2011-04-18 09:22:09-04:00    225.283325\n",
      "2011-04-18 09:22:12-04:00    222.349991\n",
      "2011-04-18 09:22:15-04:00    222.853333\n",
      "2011-04-18 09:22:18-04:00    222.706665\n",
      "2011-04-18 09:22:21-04:00    222.646667\n",
      "                                ...    \n",
      "2011-04-18 21:21:54-04:00    139.929993\n",
      "2011-04-18 21:21:57-04:00    139.446671\n",
      "2011-04-18 21:22:00-04:00    140.023331\n",
      "2011-04-18 21:22:03-04:00    140.406662\n",
      "2011-04-18 21:22:06-04:00    142.940002\n",
      "Freq: 3s, Name: (power, apparent), Length: 14400, dtype: float32\n",
      "GOOD\n"
     ]
    },
    {
     "data": {
      "text/plain": [
       "<Axes: >"
      ]
     },
     "execution_count": 17,
     "metadata": {},
     "output_type": "execute_result"
    },
    {
     "data": {
      "application/vnd.jupyter.widget-view+json": {
       "model_id": "4047da12afae4e8383de3b74698239f0",
       "version_major": 2,
       "version_minor": 0
      },
      "image/png": "[encoded data removed]",
      "text/html": [
       "\n",
       "            <div style=\"display: inline-block;\">\n",
       "                <div class=\"jupyter-widgets widget-label\" style=\"text-align: center;\">\n",
       "                    Figure\n",
       "                </div>\n",
       "                <img src='data:image/png;base64,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' width=640.0/>\n",
       "            </div>\n",
       "        "
      ],
      "text/plain": [
       "Canvas(toolbar=Toolbar(toolitems=[('Home', 'Reset original view', 'home', 'home'), ('Back', 'Back to previous …"
      ]
     },
     "metadata": {},
     "output_type": "display_data"
    }
   ],
   "source": [
    "main_df = main_meter.power_series_all_data(**kw)\n",
    "main_df.plot()"
   ]
  },
  {
   "cell_type": "code",
   "execution_count": 18,
   "id": "d8045920-89ca-4d84-a8ad-2e690fa0325c",
   "metadata": {},
   "outputs": [],
   "source": [
    "main_df = main_df.to_frame().fillna(0)"
   ]
  },
  {
   "cell_type": "markdown",
   "id": "4f1d77f8-53f9-400c-8c45-e2dfcfc8ec6b",
   "metadata": {},
   "source": [
    "### Fridge"
   ]
  },
  {
   "cell_type": "code",
   "execution_count": 19,
   "id": "dbfd9db0-4c6b-4bd2-ae10-3ee0b2f88ce0",
   "metadata": {},
   "outputs": [
    {
     "name": "stdout",
     "output_type": "stream",
     "text": [
      "{'sections': [TimeFrame(start='2011-04-18 09:22:09-04:00', end='2011-04-18 21:22:09-04:00', empty=False)], 'sample_period': 3, 'resample': True}\n",
      "2011-04-18 09:22:12-04:00    6.0\n",
      "2011-04-18 09:22:15-04:00    6.0\n",
      "2011-04-18 09:22:18-04:00    6.0\n",
      "2011-04-18 09:22:21-04:00    6.0\n",
      "2011-04-18 09:22:24-04:00    6.0\n",
      "                            ... \n",
      "2011-04-18 21:21:54-04:00    7.0\n",
      "2011-04-18 21:21:57-04:00    6.0\n",
      "2011-04-18 21:22:00-04:00    6.0\n",
      "2011-04-18 21:22:03-04:00    6.0\n",
      "2011-04-18 21:22:06-04:00    6.0\n",
      "Freq: 3s, Name: (power, active), Length: 14399, dtype: float32\n",
      "GOOD\n"
     ]
    },
    {
     "data": {
      "text/plain": [
       "<Axes: >"
      ]
     },
     "execution_count": 19,
     "metadata": {},
     "output_type": "execute_result"
    }
   ],
   "source": [
    "fridge = building_1['fridge']\n",
    "fridge_df = fridge.power_series_all_data(**kw)\n",
    "fridge_df.plot()"
   ]
  },
  {
   "cell_type": "code",
   "execution_count": 20,
   "id": "937cb17d-c483-4556-89c3-eb4376c62117",
   "metadata": {},
   "outputs": [],
   "source": [
    "fridge_df = fridge_df.to_frame().fillna(0)"
   ]
  },
  {
   "cell_type": "markdown",
   "id": "e3976ddf-82f7-48bf-8575-2316870c3054",
   "metadata": {},
   "source": [
    "### Microwave"
   ]
  },
  {
   "cell_type": "code",
   "execution_count": 21,
   "id": "36c448d3-3aff-4fc1-9e96-efb8f71c89cb",
   "metadata": {},
   "outputs": [
    {
     "name": "stdout",
     "output_type": "stream",
     "text": [
      "{'sections': [TimeFrame(start='2011-04-18 09:22:09-04:00', end='2011-04-18 21:22:09-04:00', empty=False)], 'sample_period': 3, 'resample': True}\n",
      "2011-04-18 09:22:12-04:00    5.0\n",
      "2011-04-18 09:22:15-04:00    5.0\n",
      "2011-04-18 09:22:18-04:00    5.0\n",
      "2011-04-18 09:22:21-04:00    5.0\n",
      "2011-04-18 09:22:24-04:00    5.0\n",
      "                            ... \n",
      "2011-04-18 21:21:54-04:00    4.0\n",
      "2011-04-18 21:21:57-04:00    4.0\n",
      "2011-04-18 21:22:00-04:00    4.0\n",
      "2011-04-18 21:22:03-04:00    4.0\n",
      "2011-04-18 21:22:06-04:00    4.0\n",
      "Freq: 3s, Name: (power, active), Length: 14399, dtype: float32\n",
      "GOOD\n"
     ]
    },
    {
     "data": {
      "text/plain": [
       "<Axes: >"
      ]
     },
     "execution_count": 21,
     "metadata": {},
     "output_type": "execute_result"
    }
   ],
   "source": [
    "microwave = building_1['microwave']\n",
    "microwave_df = microwave.power_series_all_data(**kw)\n",
    "microwave_df.plot()"
   ]
  },
  {
   "cell_type": "code",
   "execution_count": 22,
   "id": "469ce995-c917-4f6e-b8de-ae09f4e11db4",
   "metadata": {},
   "outputs": [],
   "source": [
    "microwave_df = microwave_df.to_frame().fillna(0)"
   ]
  },
  {
   "cell_type": "markdown",
   "id": "a356c618-9fc3-4845-8359-b87685f87366",
   "metadata": {},
   "source": [
    "### Unknown"
   ]
  },
  {
   "cell_type": "code",
   "execution_count": 23,
   "id": "e12cf67a-d3c9-4cef-a5ca-6074e5ae9da4",
   "metadata": {},
   "outputs": [
    {
     "name": "stdout",
     "output_type": "stream",
     "text": [
      "{'sections': [TimeFrame(start='2011-04-18 09:22:09-04:00', end='2011-04-18 21:22:09-04:00', empty=False)], 'sample_period': 3, 'resample': True}\n",
      "2011-04-18 09:22:12-04:00    1.0\n",
      "2011-04-18 09:22:15-04:00    1.0\n",
      "2011-04-18 09:22:18-04:00    1.0\n",
      "2011-04-18 09:22:21-04:00    1.0\n",
      "2011-04-18 09:22:24-04:00    1.0\n",
      "                            ... \n",
      "2011-04-18 21:21:54-04:00    1.0\n",
      "2011-04-18 21:21:57-04:00    1.0\n",
      "2011-04-18 21:22:00-04:00    1.0\n",
      "2011-04-18 21:22:03-04:00    1.0\n",
      "2011-04-18 21:22:06-04:00    1.0\n",
      "Freq: 3s, Name: (power, active), Length: 14399, dtype: float32\n",
      "GOOD\n"
     ]
    },
    {
     "data": {
      "text/plain": [
       "<Axes: >"
      ]
     },
     "execution_count": 23,
     "metadata": {},
     "output_type": "execute_result"
    }
   ],
   "source": [
    "unknown = building_1['unknown']\n",
    "unknown_df = unknown.power_series_all_data(**kw)\n",
    "unknown_df.plot()"
   ]
  },
  {
   "cell_type": "code",
   "execution_count": 24,
   "id": "61c4fd49-bd1e-4f63-bc69-5771a9ad4400",
   "metadata": {},
   "outputs": [],
   "source": [
    "unknown_df = unknown_df.to_frame().fillna(0)"
   ]
  },
  {
   "cell_type": "markdown",
   "id": "2e4540b7-24db-49fb-9c2b-d5463d319775",
   "metadata": {},
   "source": [
    "# Combinatorial Optimization"
   ]
  },
  {
   "cell_type": "code",
   "execution_count": 25,
   "id": "b3c8495a-1dfc-41c9-a93d-473a5da816c2",
   "metadata": {},
   "outputs": [],
   "source": [
    "# CO functions\n",
    "from nilmtk.disaggregate.combinatorial_optimisation import CO\n",
    "\n",
    "from nilmtk.feature_detectors import cluster\n",
    "from nilmtk.disaggregate import Disaggregator\n",
    "from nilmtk.datastore import HDFDataStore"
   ]
  },
  {
   "cell_type": "markdown",
   "id": "a4bd809b-4601-4e04-ad26-072d903081e4",
   "metadata": {},
   "source": [
    "## Step 1: Cluster"
   ]
  },
  {
   "cell_type": "code",
   "execution_count": 26,
   "id": "a1818690-b360-434a-b92c-921bb1a72eb2",
   "metadata": {},
   "outputs": [],
   "source": [
    "train_appliances = [('fridge', fridge_df),\n",
    "                    ('unknown', unknown_df)\n",
    "                   ]"
   ]
  },
  {
   "cell_type": "code",
   "execution_count": 27,
   "id": "3cccd857-6755-4e68-b5b2-8d5b1d953427",
   "metadata": {},
   "outputs": [],
   "source": [
    "import numpy as np\n",
    "from nilmtk.feature_detectors.cluster import _transform_data, _apply_clustering"
   ]
  },
  {
   "cell_type": "code",
   "execution_count": 28,
   "id": "ab1ed1ae-f9b4-4238-80b2-83c328cba36e",
   "metadata": {},
   "outputs": [],
   "source": [
    "m_co = CO({})\n",
    "max_num_states = 3\n",
    "\n",
    "for appliance, readings in train_appliances:\n",
    "\n",
    "    # Transform Data\n",
    "    MAX_NUMBER_OF_SAMPLES = 2000\n",
    "    MIN_NUMBER_OF_SAMPLES = 20\n",
    "    DATA_THRESHOLD = 10\n",
    "\n",
    "    data_above_thresh = readings[readings > DATA_THRESHOLD].dropna().values\n",
    "    n_samples = len(data_above_thresh)\n",
    "    if n_samples < MIN_NUMBER_OF_SAMPLES:\n",
    "        data = np.zeros((MAX_NUMBER_OF_SAMPLES, 1))\n",
    "    elif n_samples > MAX_NUMBER_OF_SAMPLES:\n",
    "        # Randomly subsample (we don't want to smoothly downsample\n",
    "        # because that is likely to change the values)\n",
    "        random_indices = np.random.randint(0, n_samples, MAX_NUMBER_OF_SAMPLES)\n",
    "        resampled = data_above_thresh[random_indices]\n",
    "        data = resampled.reshape(MAX_NUMBER_OF_SAMPLES, 1)\n",
    "    else:\n",
    "        data = data_above_thresh.reshape(n_samples, 1)\n",
    "\n",
    "    # Find clusters\n",
    "    centroids = _apply_clustering(data, max_num_states, exact_num_clusters = None)\n",
    "    centroids = np.append(centroids, 0)  # add 'off' state\n",
    "    centroids = np.round(centroids).astype(np.int32)\n",
    "    centroids = np.unique(centroids)  # np.unique also sorts\n",
    "\n",
    "    m_co.model.append({\n",
    "        'states': centroids,\n",
    "        'appliance_name': appliance})"
   ]
  },
  {
   "cell_type": "code",
   "execution_count": 29,
   "id": "1c933e16-9505-4954-80e8-4d3d6cb40644",
   "metadata": {},
   "outputs": [
    {
     "data": {
      "text/plain": [
       "[{'states': array([  0, 193, 425], dtype=int32), 'appliance_name': 'fridge'},\n",
       " {'states': array([   0,   13, 1618], dtype=int32),\n",
       "  'appliance_name': 'unknown'}]"
      ]
     },
     "execution_count": 29,
     "metadata": {},
     "output_type": "execute_result"
    }
   ],
   "source": [
    "m_co.model"
   ]
  },
  {
   "cell_type": "markdown",
   "id": "5ad3d17d-42ea-4410-9f19-62b9c31c9f3e",
   "metadata": {},
   "source": [
    "## Step 2: Export Model"
   ]
  },
  {
   "cell_type": "code",
   "execution_count": 30,
   "id": "3cf11e91-534c-4a99-b41d-7e3196648d51",
   "metadata": {},
   "outputs": [],
   "source": [
    "import pickle"
   ]
  },
  {
   "cell_type": "code",
   "execution_count": 31,
   "id": "a00c5132-ead4-43f9-b106-ee48325725a9",
   "metadata": {},
   "outputs": [],
   "source": [
    "def export_model(model, filename):\n",
    "    example_dict = model\n",
    "    with open(filename, \"wb\") as pickle_out:\n",
    "        pickle.dump(example_dict, pickle_out)"
   ]
  },
  {
   "cell_type": "code",
   "execution_count": 32,
   "id": "046a8c70-f337-4eaf-b751-197c4102ad81",
   "metadata": {},
   "outputs": [],
   "source": [
    "export_model(m_co, 'm_co.pickle')"
   ]
  },
  {
   "cell_type": "markdown",
   "id": "824d943f-b3d7-4a87-a7ca-e97c868456cc",
   "metadata": {},
   "source": [
    "## Step 3: Import Model"
   ]
  },
  {
   "cell_type": "code",
   "execution_count": 33,
   "id": "75843bde-69c7-4d04-8c29-fc49137b8b85",
   "metadata": {},
   "outputs": [],
   "source": [
    "def import_model(filename):\n",
    "    with open(filename, \"rb\") as pickle_in:\n",
    "        model = pickle.load(pickle_in)\n",
    "    return model"
   ]
  },
  {
   "cell_type": "code",
   "execution_count": 34,
   "id": "a423c50a-3026-49c3-aa19-92ada65ec6ff",
   "metadata": {},
   "outputs": [],
   "source": [
    "m_co_load = import_model('m_co.pickle')"
   ]
  },
  {
   "cell_type": "markdown",
   "id": "daaae6cf-f2a0-4133-882e-90d7dcb4ad46",
   "metadata": {},
   "source": [
    "## Step 4: Testing"
   ]
  },
  {
   "cell_type": "code",
   "execution_count": 35,
   "id": "3dec03ef-90f6-4f46-857e-3779298f000f",
   "metadata": {},
   "outputs": [],
   "source": [
    "from sklearn.utils.extmath import cartesian"
   ]
  },
  {
   "cell_type": "code",
   "execution_count": 36,
   "id": "78265fa4-6c10-4fc9-9e4d-6f3bafec891d",
   "metadata": {},
   "outputs": [],
   "source": [
    "centroids = [model['states'] for model in m_co.model]\n",
    "state_combinations = cartesian(centroids)"
   ]
  },
  {
   "cell_type": "code",
   "execution_count": 37,
   "id": "cc16d821-f09c-404c-b881-c9bc2f02d3a0",
   "metadata": {},
   "outputs": [
    {
     "data": {
      "text/plain": [
       "[array([  0, 193, 425], dtype=int32), array([   0,   13, 1618], dtype=int32)]"
      ]
     },
     "execution_count": 37,
     "metadata": {},
     "output_type": "execute_result"
    }
   ],
   "source": [
    "# All clustered states\n",
    "centroids"
   ]
  },
  {
   "cell_type": "code",
   "execution_count": 38,
   "id": "3ca36890-3e8f-4bbf-97b1-da76d712a9fc",
   "metadata": {},
   "outputs": [
    {
     "data": {
      "text/plain": [
       "array([[   0,    0],\n",
       "       [   0,   13],\n",
       "       [   0, 1618],\n",
       "       [ 193,    0],\n",
       "       [ 193,   13],\n",
       "       [ 193, 1618],\n",
       "       [ 425,    0],\n",
       "       [ 425,   13],\n",
       "       [ 425, 1618]], dtype=int32)"
      ]
     },
     "execution_count": 38,
     "metadata": {},
     "output_type": "execute_result"
    }
   ],
   "source": [
    "# All possible combinations\n",
    "state_combinations"
   ]
  },
  {
   "cell_type": "code",
   "execution_count": 39,
   "id": "b8f85a74-9cbc-43f7-8954-6d3a748ec671",
   "metadata": {},
   "outputs": [
    {
     "name": "stdout",
     "output_type": "stream",
     "text": [
      "...............CO disaggregate_chunk running.............\n",
      "Estimating power demand for 'unknown'"
     ]
    }
   ],
   "source": [
    "app_df_predicted = m_co.disaggregate_chunk([main_df])[0]"
   ]
  },
  {
   "cell_type": "code",
   "execution_count": 40,
   "id": "6c7b74c1-e5fc-4f03-b7a8-0ea3af4c078b",
   "metadata": {},
   "outputs": [],
   "source": [
    "fridge_df_predicted = app_df_predicted['fridge']\n",
    "unknown_df_predicted = app_df_predicted['unknown']"
   ]
  },
  {
   "cell_type": "code",
   "execution_count": 41,
   "id": "90473e72-51a4-4166-a5c7-720563f0f2dd",
   "metadata": {},
   "outputs": [
    {
     "data": {
      "text/plain": [
       "Text(0.5, 0, 'Timestamp')"
      ]
     },
     "execution_count": 41,
     "metadata": {},
     "output_type": "execute_result"
    }
   ],
   "source": [
    "# Plot Fridge\n",
    "fig = plt.figure(figsize=(10, 7))\n",
    "plt.plot(main_df, label = 'Main Meter')\n",
    "plt.plot(fridge_df, label = 'Fridge (Ground Truth)')\n",
    "plt.plot(fridge_df_predicted, label = 'Fridge (Predicted)')\n",
    "\n",
    "plt.title(\"Main Meter and Fridge (Ground Truth)\")\n",
    "plt.legend()\n",
    "plt.ylabel(\"Active Power (W)\")\n",
    "plt.xlabel(\"Timestamp\")"
   ]
  },
  {
   "cell_type": "code",
   "execution_count": 42,
   "id": "36c81f18-0cc3-4e66-943e-f329164063e4",
   "metadata": {},
   "outputs": [
    {
     "data": {
      "text/plain": [
       "Text(0.5, 0, 'Timestamp')"
      ]
     },
     "execution_count": 42,
     "metadata": {},
     "output_type": "execute_result"
    }
   ],
   "source": [
    "# Plot Unknown\n",
    "fig = plt.figure(figsize=(10, 7))\n",
    "plt.plot(main_df, label = 'Main Meter')\n",
    "plt.plot(unknown_df, label = 'Unknown (Ground Truth)')\n",
    "plt.plot(unknown_df_predicted, label = 'Unknown (Predicted)')\n",
    "\n",
    "plt.title(\"Main Meter and Unknown (Ground Truth)\")\n",
    "plt.legend()\n",
    "plt.ylabel(\"Active Power (W)\")\n",
    "plt.xlabel(\"Timestamp\")"
   ]
  },
  {
   "cell_type": "markdown",
   "id": "c8f4acb8-744d-44ad-9b17-7936ee71d02f",
   "metadata": {},
   "source": [
    "## Evaluation Metrics"
   ]
  },
  {
   "cell_type": "code",
   "execution_count": 43,
   "id": "2bc1d673-f2e4-4edc-bebb-8a7e1286c860",
   "metadata": {},
   "outputs": [],
   "source": [
    "import numpy as np\n",
    "from sklearn.metrics import mean_squared_error, mean_absolute_error, mean_absolute_percentage_error"
   ]
  },
  {
   "cell_type": "code",
   "execution_count": 44,
   "id": "759bbda7-dd7f-4d61-9acf-9a44e9b547d9",
   "metadata": {},
   "outputs": [],
   "source": [
    "def rmse(gt,pred):\n",
    "    val = np.sqrt(mean_squared_error(gt,pred))\n",
    "    return val"
   ]
  },
  {
   "cell_type": "code",
   "execution_count": 45,
   "id": "53b1c7b1-5cb5-4a4a-8401-09bf12f5bdc8",
   "metadata": {},
   "outputs": [],
   "source": [
    "metrics = [mean_squared_error, rmse, mean_absolute_error, mean_absolute_percentage_error]\n",
    "metrics_label = ['MSE','RMSE' ,'MAE', 'MAPE']"
   ]
  },
  {
   "cell_type": "code",
   "execution_count": 46,
   "id": "f69e48a8-d0a2-4f77-905d-9aeb11709d1a",
   "metadata": {},
   "outputs": [
    {
     "name": "stdout",
     "output_type": "stream",
     "text": [
      "............  MSE  ..............\n",
      "fridge  22880.96875\n",
      "............  RMSE  ..............\n",
      "fridge  151.264565\n",
      "............  MAE  ..............\n",
      "fridge  118.591225\n",
      "............  MAPE  ..............\n",
      "fridge  16.102259\n"
     ]
    }
   ],
   "source": [
    "# Show metrics\n",
    "for metric,lbl in zip(metrics,metrics_label):\n",
    "    try:\n",
    "        loss_function = metric\n",
    "    except:\n",
    "        print (\"Loss function \",metric, \" is not supported currently!\")\n",
    "        continue\n",
    "\n",
    "    error = {}\n",
    "    error['fridge'] = loss_function(fridge_df, fridge_df_predicted[1:])\n",
    "\n",
    "    error = pd.Series(error)\n",
    "    computed_metric = pd.DataFrame(error)\n",
    "    print(\"............ \" , lbl ,\" ..............\")\n",
    "    print(computed_metric.to_string(header=False))"
   ]
  },
  {
   "cell_type": "code",
   "execution_count": null,
   "id": "cd0e7460-48a6-4377-9bb7-6eb19c39890a",
   "metadata": {},
   "outputs": [],
   "source": []
  }
 ],
 "metadata": {
  "kernelspec": {
   "display_name": "Python 3 (ipykernel)",
   "language": "python",
   "name": "python3"
  },
  "language_info": {
   "codemirror_mode": {
    "name": "ipython",
    "version": 3
   },
   "file_extension": ".py",
   "mimetype": "text/x-python",
   "name": "python",
   "nbconvert_exporter": "python",
   "pygments_lexer": "ipython3",
   "version": "3.12.11"
  }
 },
 "nbformat": 4,
 "nbformat_minor": 5
}
