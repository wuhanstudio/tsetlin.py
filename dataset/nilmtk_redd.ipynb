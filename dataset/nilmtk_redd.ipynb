{
 "cells": [
  {
   "cell_type": "code",
   "execution_count": 1,
   "id": "fc05bb1a-e361-42f4-84bd-1403b6a66034",
   "metadata": {},
   "outputs": [],
   "source": [
    "import nilmtk\n",
    "import pandas as pd"
   ]
  },
  {
   "cell_type": "markdown",
   "id": "a37c8429-88d7-45fd-b195-c603742db674",
   "metadata": {},
   "source": [
    "# Load Dataset"
   ]
  },
  {
   "cell_type": "code",
   "execution_count": 2,
   "id": "f842b2dd-b046-4644-94db-5372f43b76c4",
   "metadata": {},
   "outputs": [],
   "source": [
    "redd = nilmtk.DataSet(\"redd.h5\")\n",
    "# redd = nilmtk.DataSet(\"redd_low.h5\")\n",
    "# redd = nilmtk.DataSet(\"redd_low_freq.h5\")"
   ]
  },
  {
   "cell_type": "code",
   "execution_count": 3,
   "id": "d0a15240-aea8-4fd6-8aaa-e65f22d47815",
   "metadata": {
    "scrolled": true
   },
   "outputs": [
    {
     "data": {
      "text/html": [
       "<ul><li><strong>name</strong>: REDD</li><li><strong>long_name</strong>: The Reference Energy Disaggregation Data set</li><li><strong>creators</strong>: <ul><li>Kolter, Zico</li><li>Johnson, Matthew</li></ul></li><li><strong>publication_date</strong>: 2011</li><li><strong>institution</strong>: Massachusetts Institute of Technology (MIT)</li><li><strong>contact</strong>: zkolter@cs.cmu.edu</li><li><strong>description</strong>: Several weeks of power data for 6 different homes.</li><li><strong>subject</strong>: Disaggregated power demand from domestic buildings.</li><li><strong>number_of_buildings</strong>: 6</li><li><strong>timezone</strong>: US/Eastern</li><li><strong>geo_location</strong>: <ul><li><strong>locality</strong>: Massachusetts</li><li><strong>country</strong>: US</li><li><strong>latitude</strong>: 42.360091</li><li><strong>longitude</strong>: -71.09416</li></ul></li><li><strong>related_documents</strong>: <ul><li><a href=\"http://redd.csail.mit.edu\">http://redd.csail.mit.edu</a></li><li>J. Zico Kolter and Matthew J. Johnson. REDD: A public data set for energy disaggregation research. In proceedings of the SustKDD workshop on Data Mining Applications in Sustainability, 2011. <a href=\"http://redd.csail.mit.edu/kolter-kddsust11.pdf\">http://redd.csail.mit.edu/kolter-kddsust11.pdf</a>\n",
       "</li></ul></li><li><strong>schema</strong>: <a href=\"https://github.com/nilmtk/nilm_metadata/tree/v0.2\">https://github.com/nilmtk/nilm_metadata/tree/v0.2</a></li><li><strong>meter_devices</strong>: <ul><li><strong>eMonitor</strong>: <ul><li><strong>model</strong>: eMonitor</li><li><strong>manufacturer</strong>: Powerhouse Dynamics</li><li><strong>manufacturer_url</strong>: <a href=\"http://powerhousedynamics.com\">http://powerhousedynamics.com</a></li><li><strong>description</strong>: Measures circuit-level power demand.  Comes with 24 CTs. This FAQ page suggests the eMonitor measures real (active) power: <a href=\"http://www.energycircle.com/node/14103\">http://www.energycircle.com/node/14103</a>  although the REDD readme.txt says all channels record apparent power.\n",
       "</li><li><strong>sample_period</strong>: 3</li><li><strong>max_sample_period</strong>: 50</li><li><strong>measurements</strong>: <ul><li>{'physical_quantity': 'power', 'type': 'active', 'upper_limit': 5000, 'lower_limit': 0}</li></ul></li><li><strong>wireless</strong>: False</li></ul></li><li><strong>REDD_whole_house</strong>: <ul><li><strong>description</strong>: REDD's DIY power meter used to measure whole-home AC waveforms at high frequency.  To quote from their paper: \"CTs from TED (<a href=\"http://www.theenergydetective.com\">http://www.theenergydetective.com</a>) to measure current in the power mains, a Pico TA041 oscilloscope probe (<a href=\"http://www.picotechnologies.com\">http://www.picotechnologies.com</a>) to measure voltage for one of the two phases in the home, and a National Instruments NI-9239 analog to digital converter to transform both these analog signals to digital readings. This A/D converter has 24 bit resolution with noise of approximately 70 µV, which determines the noise level of our current and voltage readings: the TED CTs are rated for 200 amp circuits and a maximum of 3 volts, so we are able to differentiate between currents of approximately ((200))(70 × 10−6)/(3) = 4.66mA, corresponding to power changes of about 0.5 watts. Similarly, since we use a 1:100 voltage stepdown in the oscilloscope probe, we can detect voltage differences of about 7mV.\"\n",
       "</li><li><strong>sample_period</strong>: 1</li><li><strong>max_sample_period</strong>: 30</li><li><strong>measurements</strong>: <ul><li>{'physical_quantity': 'power', 'type': 'apparent', 'upper_limit': 50000, 'lower_limit': 0}</li></ul></li><li><strong>wireless</strong>: False</li></ul></li></ul></li></ul>"
      ],
      "text/plain": [
       "<IPython.core.display.HTML object>"
      ]
     },
     "metadata": {},
     "output_type": "display_data"
    }
   ],
   "source": [
    "nilmtk.utils.print_dict(redd.metadata)"
   ]
  },
  {
   "cell_type": "code",
   "execution_count": 4,
   "id": "d6a66c54-9218-46f4-8e74-3e12e31de59b",
   "metadata": {},
   "outputs": [
    {
     "data": {
      "text/html": [
       "<ul><li><strong>1</strong>: Building(instance=1, dataset='REDD')</li><li><strong>2</strong>: Building(instance=2, dataset='REDD')</li><li><strong>3</strong>: Building(instance=3, dataset='REDD')</li><li><strong>4</strong>: Building(instance=4, dataset='REDD')</li><li><strong>5</strong>: Building(instance=5, dataset='REDD')</li><li><strong>6</strong>: Building(instance=6, dataset='REDD')</li></ul>"
      ],
      "text/plain": [
       "<IPython.core.display.HTML object>"
      ]
     },
     "metadata": {},
     "output_type": "display_data"
    }
   ],
   "source": [
    "nilmtk.utils.print_dict(redd.buildings)"
   ]
  },
  {
   "cell_type": "markdown",
   "id": "6708b797-d48a-4b8f-9aab-8fe4cbe58689",
   "metadata": {},
   "source": [
    "## Building 1"
   ]
  },
  {
   "cell_type": "code",
   "execution_count": 5,
   "id": "f64c2513-4048-44b8-86d3-48cf887b1ef3",
   "metadata": {},
   "outputs": [],
   "source": [
    "building_1 = redd.buildings[1]"
   ]
  },
  {
   "cell_type": "code",
   "execution_count": 6,
   "id": "ed644648-4a74-4945-8ae3-8fd5f9c5cb27",
   "metadata": {},
   "outputs": [
    {
     "data": {
      "text/plain": [
       "{'instance': 1, 'original_name': 'house_1', 'dataset': 'REDD'}"
      ]
     },
     "execution_count": 6,
     "metadata": {},
     "output_type": "execute_result"
    }
   ],
   "source": [
    "building_1.metadata"
   ]
  },
  {
   "cell_type": "code",
   "execution_count": 7,
   "id": "0dda4682-ed20-4c5f-8e9b-1590ab7d14db",
   "metadata": {
    "scrolled": true
   },
   "outputs": [],
   "source": [
    "# building_1.describe()"
   ]
  },
  {
   "cell_type": "code",
   "execution_count": 8,
   "id": "5b63ffac-b5bd-48a0-a234-dd564ecacd57",
   "metadata": {},
   "outputs": [
    {
     "data": {
      "text/plain": [
       "MeterGroup(meters=\n",
       "  ElecMeter(instance=1, building=1, dataset='REDD', site_meter, appliances=[])\n",
       "  ElecMeter(instance=2, building=1, dataset='REDD', site_meter, appliances=[])\n",
       "  ElecMeter(instance=5, building=1, dataset='REDD', appliances=[Appliance(type='fridge', instance=1)])\n",
       "  ElecMeter(instance=6, building=1, dataset='REDD', appliances=[Appliance(type='dish washer', instance=1)])\n",
       "  ElecMeter(instance=7, building=1, dataset='REDD', appliances=[Appliance(type='sockets', instance=1)])\n",
       "  ElecMeter(instance=8, building=1, dataset='REDD', appliances=[Appliance(type='sockets', instance=2)])\n",
       "  ElecMeter(instance=9, building=1, dataset='REDD', appliances=[Appliance(type='light', instance=1)])\n",
       "  ElecMeter(instance=11, building=1, dataset='REDD', appliances=[Appliance(type='microwave', instance=1)])\n",
       "  ElecMeter(instance=12, building=1, dataset='REDD', appliances=[Appliance(type='unknown', instance=1)])\n",
       "  ElecMeter(instance=13, building=1, dataset='REDD', appliances=[Appliance(type='electric space heater', instance=1)])\n",
       "  ElecMeter(instance=14, building=1, dataset='REDD', appliances=[Appliance(type='electric stove', instance=1)])\n",
       "  ElecMeter(instance=15, building=1, dataset='REDD', appliances=[Appliance(type='sockets', instance=3)])\n",
       "  ElecMeter(instance=16, building=1, dataset='REDD', appliances=[Appliance(type='sockets', instance=4)])\n",
       "  ElecMeter(instance=17, building=1, dataset='REDD', appliances=[Appliance(type='light', instance=2)])\n",
       "  ElecMeter(instance=18, building=1, dataset='REDD', appliances=[Appliance(type='light', instance=3)])\n",
       "  ElecMeter(instance=19, building=1, dataset='REDD', appliances=[Appliance(type='unknown', instance=2)])\n",
       "  MeterGroup(meters=\n",
       "    ElecMeter(instance=3, building=1, dataset='REDD', appliances=[Appliance(type='electric oven', instance=1)])\n",
       "    ElecMeter(instance=4, building=1, dataset='REDD', appliances=[Appliance(type='electric oven', instance=1)])\n",
       "  )\n",
       "  MeterGroup(meters=\n",
       "    ElecMeter(instance=10, building=1, dataset='REDD', appliances=[Appliance(type='washer dryer', instance=1)])\n",
       "    ElecMeter(instance=20, building=1, dataset='REDD', appliances=[Appliance(type='washer dryer', instance=1)])\n",
       "  )\n",
       ")"
      ]
     },
     "execution_count": 8,
     "metadata": {},
     "output_type": "execute_result"
    }
   ],
   "source": [
    "building_1.elec"
   ]
  },
  {
   "cell_type": "code",
   "execution_count": 9,
   "id": "2b989366-268a-4d05-8583-20a05ac43cf2",
   "metadata": {},
   "outputs": [
    {
     "data": {
      "text/plain": [
       "[Appliance(type='washer dryer', instance=1),\n",
       " Appliance(type='light', instance=2),\n",
       " Appliance(type='fridge', instance=1),\n",
       " Appliance(type='sockets', instance=2),\n",
       " Appliance(type='light', instance=1),\n",
       " Appliance(type='electric stove', instance=1),\n",
       " Appliance(type='electric oven', instance=1),\n",
       " Appliance(type='unknown', instance=2),\n",
       " Appliance(type='microwave', instance=1),\n",
       " Appliance(type='unknown', instance=1),\n",
       " Appliance(type='sockets', instance=4),\n",
       " Appliance(type='light', instance=3),\n",
       " Appliance(type='sockets', instance=1),\n",
       " Appliance(type='dish washer', instance=1),\n",
       " Appliance(type='sockets', instance=3),\n",
       " Appliance(type='electric space heater', instance=1)]"
      ]
     },
     "execution_count": 9,
     "metadata": {},
     "output_type": "execute_result"
    }
   ],
   "source": [
    "building_1.elec.appliances"
   ]
  },
  {
   "cell_type": "code",
   "execution_count": 10,
   "id": "82be3085-171c-4df3-952b-3d15a0552820",
   "metadata": {},
   "outputs": [
    {
     "data": {
      "text/plain": [
       "MeterGroup(meters=\n",
       "  ElecMeter(instance=9, building=1, dataset='REDD', appliances=[Appliance(type='light', instance=1)])\n",
       "  ElecMeter(instance=17, building=1, dataset='REDD', appliances=[Appliance(type='light', instance=2)])\n",
       "  ElecMeter(instance=18, building=1, dataset='REDD', appliances=[Appliance(type='light', instance=3)])\n",
       "  ElecMeter(instance=5, building=1, dataset='REDD', appliances=[Appliance(type='fridge', instance=1)])\n",
       "  ElecMeter(instance=11, building=1, dataset='REDD', appliances=[Appliance(type='microwave', instance=1)])\n",
       ")"
      ]
     },
     "execution_count": 10,
     "metadata": {},
     "output_type": "execute_result"
    }
   ],
   "source": [
    "building_1.elec.select_using_appliances(type=['light', 'fridge', 'microwave'])"
   ]
  },
  {
   "cell_type": "code",
   "execution_count": 11,
   "id": "7e70120c-de1c-4452-bf06-d726b49a6a31",
   "metadata": {},
   "outputs": [
    {
     "data": {
      "text/plain": [
       "TimeFrame(start='2011-04-18 09:22:09-04:00', end='2011-05-24 15:57:02-04:00', empty=False)"
      ]
     },
     "execution_count": 11,
     "metadata": {},
     "output_type": "execute_result"
    }
   ],
   "source": [
    "building_1.elec.get_timeframe()"
   ]
  },
  {
   "cell_type": "code",
   "execution_count": 12,
   "id": "2f0b57f5-854d-483b-a0b2-61c8598693c4",
   "metadata": {},
   "outputs": [
    {
     "data": {
      "text/plain": [
       "3"
      ]
     },
     "execution_count": 12,
     "metadata": {},
     "output_type": "execute_result"
    }
   ],
   "source": [
    "building_1.elec.sample_period()"
   ]
  },
  {
   "cell_type": "code",
   "execution_count": 13,
   "id": "5345e7c8-cffc-4791-a232-c0174ac46528",
   "metadata": {},
   "outputs": [
    {
     "data": {
      "text/plain": [
       "[ElecMeter(instance=1, building=1, dataset='REDD', site_meter, appliances=[]),\n",
       " ElecMeter(instance=2, building=1, dataset='REDD', site_meter, appliances=[]),\n",
       " ElecMeter(instance=5, building=1, dataset='REDD', appliances=[Appliance(type='fridge', instance=1)]),\n",
       " ElecMeter(instance=6, building=1, dataset='REDD', appliances=[Appliance(type='dish washer', instance=1)]),\n",
       " ElecMeter(instance=7, building=1, dataset='REDD', appliances=[Appliance(type='sockets', instance=1)]),\n",
       " ElecMeter(instance=8, building=1, dataset='REDD', appliances=[Appliance(type='sockets', instance=2)]),\n",
       " ElecMeter(instance=9, building=1, dataset='REDD', appliances=[Appliance(type='light', instance=1)]),\n",
       " ElecMeter(instance=11, building=1, dataset='REDD', appliances=[Appliance(type='microwave', instance=1)]),\n",
       " ElecMeter(instance=12, building=1, dataset='REDD', appliances=[Appliance(type='unknown', instance=1)]),\n",
       " ElecMeter(instance=13, building=1, dataset='REDD', appliances=[Appliance(type='electric space heater', instance=1)]),\n",
       " ElecMeter(instance=14, building=1, dataset='REDD', appliances=[Appliance(type='electric stove', instance=1)]),\n",
       " ElecMeter(instance=15, building=1, dataset='REDD', appliances=[Appliance(type='sockets', instance=3)]),\n",
       " ElecMeter(instance=16, building=1, dataset='REDD', appliances=[Appliance(type='sockets', instance=4)]),\n",
       " ElecMeter(instance=17, building=1, dataset='REDD', appliances=[Appliance(type='light', instance=2)]),\n",
       " ElecMeter(instance=18, building=1, dataset='REDD', appliances=[Appliance(type='light', instance=3)]),\n",
       " ElecMeter(instance=19, building=1, dataset='REDD', appliances=[Appliance(type='unknown', instance=2)]),\n",
       " MeterGroup(meters=\n",
       "   ElecMeter(instance=3, building=1, dataset='REDD', appliances=[Appliance(type='electric oven', instance=1)])\n",
       "   ElecMeter(instance=4, building=1, dataset='REDD', appliances=[Appliance(type='electric oven', instance=1)])\n",
       " ),\n",
       " MeterGroup(meters=\n",
       "   ElecMeter(instance=10, building=1, dataset='REDD', appliances=[Appliance(type='washer dryer', instance=1)])\n",
       "   ElecMeter(instance=20, building=1, dataset='REDD', appliances=[Appliance(type='washer dryer', instance=1)])\n",
       " )]"
      ]
     },
     "execution_count": 13,
     "metadata": {},
     "output_type": "execute_result"
    }
   ],
   "source": [
    "building_1.elec.all_meters()"
   ]
  },
  {
   "cell_type": "code",
   "execution_count": 14,
   "id": "186737fc-bffa-4596-9f8e-3b1f22f3e54e",
   "metadata": {},
   "outputs": [
    {
     "data": {
      "text/plain": [
       "(<networkx.classes.digraph.DiGraph at 0x20e8454fe00>, <Axes: >)"
      ]
     },
     "execution_count": 14,
     "metadata": {},
     "output_type": "execute_result"
    },
    {
     "data": {
      "image/png": "[encoded data removed]",
      "text/plain": [
       "<Figure size 640x480 with 1 Axes>"
      ]
     },
     "metadata": {},
     "output_type": "display_data"
    }
   ],
   "source": [
    "building_1.elec.draw_wiring_graph()"
   ]
  },
  {
   "cell_type": "markdown",
   "id": "5a70a6a1-e271-4917-84e7-c8633de628a3",
   "metadata": {},
   "source": [
    "## Mains"
   ]
  },
  {
   "cell_type": "code",
   "execution_count": 15,
   "id": "d0d63bd2-d603-4356-b884-457701bff6ba",
   "metadata": {},
   "outputs": [],
   "source": [
    "mains = building_1.elec.mains()"
   ]
  },
  {
   "cell_type": "code",
   "execution_count": 16,
   "id": "abc81127-6db2-4281-858a-b5edc529ad2f",
   "metadata": {
    "scrolled": true
   },
   "outputs": [],
   "source": [
    "# mains.total_energy()"
   ]
  },
  {
   "cell_type": "code",
   "execution_count": 17,
   "id": "a024c986-f9bb-474c-99b1-520497d85727",
   "metadata": {},
   "outputs": [
    {
     "data": {
      "text/plain": [
       "MeterGroup(meters=\n",
       "  ElecMeter(instance=1, building=1, dataset='REDD', site_meter, appliances=[])\n",
       "  ElecMeter(instance=2, building=1, dataset='REDD', site_meter, appliances=[])\n",
       ")"
      ]
     },
     "execution_count": 17,
     "metadata": {},
     "output_type": "execute_result"
    }
   ],
   "source": [
    "mains"
   ]
  },
  {
   "cell_type": "code",
   "execution_count": 18,
   "id": "722f6ddd-6721-4759-9e3c-6b81d11d2928",
   "metadata": {},
   "outputs": [
    {
     "data": {
      "text/plain": [
       "{'site_meter': True,\n",
       " 'device_model': 'REDD_whole_house',\n",
       " 'data_location': '/building1/elec/meter1'}"
      ]
     },
     "execution_count": 18,
     "metadata": {},
     "output_type": "execute_result"
    }
   ],
   "source": [
    "mains.meters[0].get_metadata()"
   ]
  },
  {
   "cell_type": "code",
   "execution_count": 19,
   "id": "a1479388-41b4-4cf6-96bd-584fc27e289b",
   "metadata": {},
   "outputs": [
    {
     "data": {
      "text/plain": [
       "{'site_meter': True,\n",
       " 'device_model': 'REDD_whole_house',\n",
       " 'data_location': '/building1/elec/meter2'}"
      ]
     },
     "execution_count": 19,
     "metadata": {},
     "output_type": "execute_result"
    }
   ],
   "source": [
    "mains.meters[1].get_metadata()"
   ]
  },
  {
   "cell_type": "code",
   "execution_count": 20,
   "id": "c64b1b6a-0aaf-4388-a8ce-9c574ebb7f59",
   "metadata": {},
   "outputs": [],
   "source": [
    "main_meter_0 = mains.meters[0]\n",
    "main_meter_1 = mains.meters[1]"
   ]
  },
  {
   "cell_type": "code",
   "execution_count": 21,
   "id": "7146d683-32fe-4c7f-a126-caadfda988c3",
   "metadata": {},
   "outputs": [
    {
     "name": "stderr",
     "output_type": "stream",
     "text": [
      "E:\\UK-DALE\\.venv\\Lib\\site-packages\\nilmtk\\utils.py:501: FutureWarning: 'S' is deprecated and will be removed in a future version, please use 's' instead.\n",
      "  return fill_method(how(data.resample(rule, **resample_kwargs)))\n",
      "E:\\UK-DALE\\.venv\\Lib\\site-packages\\nilmtk\\utils.py:501: FutureWarning: 'S' is deprecated and will be removed in a future version, please use 's' instead.\n",
      "  return fill_method(how(data.resample(rule, **resample_kwargs)))\n"
     ]
    }
   ],
   "source": [
    "main_meter_0_df = list(main_meter_0.load(sample_period=3))[0]\n",
    "main_meter_1_df = list(main_meter_1.load(sample_period=3))[0]"
   ]
  },
  {
   "cell_type": "code",
   "execution_count": 22,
   "id": "8ac27aaa-a34e-423a-821d-5eaf65f61550",
   "metadata": {},
   "outputs": [
    {
     "data": {
      "text/plain": [
       "2011-04-18 09:22:09-04:00    224.190002\n",
       "2011-04-18 09:22:10-04:00    225.570007\n",
       "2011-04-18 09:22:11-04:00    226.089996\n",
       "2011-04-18 09:22:12-04:00    222.740005\n",
       "2011-04-18 09:22:13-04:00    222.199997\n",
       "                                ...    \n",
       "2011-05-24 15:56:58-04:00    234.440002\n",
       "2011-05-24 15:56:59-04:00    235.570007\n",
       "2011-05-24 15:57:00-04:00    234.770004\n",
       "2011-05-24 15:57:01-04:00    235.550003\n",
       "2011-05-24 15:57:02-04:00    235.429993\n",
       "Name: (power, apparent), Length: 1561660, dtype: float32"
      ]
     },
     "execution_count": 22,
     "metadata": {},
     "output_type": "execute_result"
    }
   ],
   "source": [
    "main_meter_0.power_series_all_data()"
   ]
  },
  {
   "cell_type": "code",
   "execution_count": 23,
   "id": "f3a9d4ac-ea3a-4417-9284-69053c791a42",
   "metadata": {},
   "outputs": [
    {
     "data": {
      "text/html": [
       "<div>\n",
       "<style scoped>\n",
       "    .dataframe tbody tr th:only-of-type {\n",
       "        vertical-align: middle;\n",
       "    }\n",
       "\n",
       "    .dataframe tbody tr th {\n",
       "        vertical-align: top;\n",
       "    }\n",
       "\n",
       "    .dataframe thead tr th {\n",
       "        text-align: left;\n",
       "    }\n",
       "</style>\n",
       "<table border=\"1\" class=\"dataframe\">\n",
       "  <thead>\n",
       "    <tr>\n",
       "      <th>physical_quantity</th>\n",
       "      <th>power</th>\n",
       "    </tr>\n",
       "    <tr>\n",
       "      <th>type</th>\n",
       "      <th>apparent</th>\n",
       "    </tr>\n",
       "  </thead>\n",
       "  <tbody>\n",
       "    <tr>\n",
       "      <th>2011-04-18 09:22:09-04:00</th>\n",
       "      <td>225.283325</td>\n",
       "    </tr>\n",
       "    <tr>\n",
       "      <th>2011-04-18 09:22:12-04:00</th>\n",
       "      <td>222.349991</td>\n",
       "    </tr>\n",
       "    <tr>\n",
       "      <th>2011-04-18 09:22:15-04:00</th>\n",
       "      <td>222.853333</td>\n",
       "    </tr>\n",
       "    <tr>\n",
       "      <th>2011-04-18 09:22:18-04:00</th>\n",
       "      <td>222.706665</td>\n",
       "    </tr>\n",
       "    <tr>\n",
       "      <th>2011-04-18 09:22:21-04:00</th>\n",
       "      <td>222.646667</td>\n",
       "    </tr>\n",
       "    <tr>\n",
       "      <th>...</th>\n",
       "      <td>...</td>\n",
       "    </tr>\n",
       "    <tr>\n",
       "      <th>2011-05-24 15:56:48-04:00</th>\n",
       "      <td>234.630005</td>\n",
       "    </tr>\n",
       "    <tr>\n",
       "      <th>2011-05-24 15:56:51-04:00</th>\n",
       "      <td>235.716675</td>\n",
       "    </tr>\n",
       "    <tr>\n",
       "      <th>2011-05-24 15:56:54-04:00</th>\n",
       "      <td>235.206665</td>\n",
       "    </tr>\n",
       "    <tr>\n",
       "      <th>2011-05-24 15:56:57-04:00</th>\n",
       "      <td>234.963333</td>\n",
       "    </tr>\n",
       "    <tr>\n",
       "      <th>2011-05-24 15:57:00-04:00</th>\n",
       "      <td>235.250000</td>\n",
       "    </tr>\n",
       "  </tbody>\n",
       "</table>\n",
       "<p>1044698 rows × 1 columns</p>\n",
       "</div>"
      ],
      "text/plain": [
       "physical_quantity               power\n",
       "type                         apparent\n",
       "2011-04-18 09:22:09-04:00  225.283325\n",
       "2011-04-18 09:22:12-04:00  222.349991\n",
       "2011-04-18 09:22:15-04:00  222.853333\n",
       "2011-04-18 09:22:18-04:00  222.706665\n",
       "2011-04-18 09:22:21-04:00  222.646667\n",
       "...                               ...\n",
       "2011-05-24 15:56:48-04:00  234.630005\n",
       "2011-05-24 15:56:51-04:00  235.716675\n",
       "2011-05-24 15:56:54-04:00  235.206665\n",
       "2011-05-24 15:56:57-04:00  234.963333\n",
       "2011-05-24 15:57:00-04:00  235.250000\n",
       "\n",
       "[1044698 rows x 1 columns]"
      ]
     },
     "execution_count": 23,
     "metadata": {},
     "output_type": "execute_result"
    }
   ],
   "source": [
    "main_meter_0_df"
   ]
  },
  {
   "cell_type": "code",
   "execution_count": 24,
   "id": "d4f343e0-c070-435f-bc25-82513c34e4d9",
   "metadata": {},
   "outputs": [
    {
     "data": {
      "text/html": [
       "<div>\n",
       "<style scoped>\n",
       "    .dataframe tbody tr th:only-of-type {\n",
       "        vertical-align: middle;\n",
       "    }\n",
       "\n",
       "    .dataframe tbody tr th {\n",
       "        vertical-align: top;\n",
       "    }\n",
       "\n",
       "    .dataframe thead tr th {\n",
       "        text-align: left;\n",
       "    }\n",
       "</style>\n",
       "<table border=\"1\" class=\"dataframe\">\n",
       "  <thead>\n",
       "    <tr>\n",
       "      <th>physical_quantity</th>\n",
       "      <th>power</th>\n",
       "    </tr>\n",
       "    <tr>\n",
       "      <th>type</th>\n",
       "      <th>apparent</th>\n",
       "    </tr>\n",
       "  </thead>\n",
       "  <tbody>\n",
       "    <tr>\n",
       "      <th>2011-04-18 09:22:09-04:00</th>\n",
       "      <td>118.889992</td>\n",
       "    </tr>\n",
       "    <tr>\n",
       "      <th>2011-04-18 09:22:12-04:00</th>\n",
       "      <td>118.820007</td>\n",
       "    </tr>\n",
       "    <tr>\n",
       "      <th>2011-04-18 09:22:15-04:00</th>\n",
       "      <td>119.119995</td>\n",
       "    </tr>\n",
       "    <tr>\n",
       "      <th>2011-04-18 09:22:18-04:00</th>\n",
       "      <td>118.976662</td>\n",
       "    </tr>\n",
       "    <tr>\n",
       "      <th>2011-04-18 09:22:21-04:00</th>\n",
       "      <td>119.150002</td>\n",
       "    </tr>\n",
       "    <tr>\n",
       "      <th>...</th>\n",
       "      <td>...</td>\n",
       "    </tr>\n",
       "    <tr>\n",
       "      <th>2011-05-24 15:56:48-04:00</th>\n",
       "      <td>38.636669</td>\n",
       "    </tr>\n",
       "    <tr>\n",
       "      <th>2011-05-24 15:56:51-04:00</th>\n",
       "      <td>38.780003</td>\n",
       "    </tr>\n",
       "    <tr>\n",
       "      <th>2011-05-24 15:56:54-04:00</th>\n",
       "      <td>38.753330</td>\n",
       "    </tr>\n",
       "    <tr>\n",
       "      <th>2011-05-24 15:56:57-04:00</th>\n",
       "      <td>38.673336</td>\n",
       "    </tr>\n",
       "    <tr>\n",
       "      <th>2011-05-24 15:57:00-04:00</th>\n",
       "      <td>38.723331</td>\n",
       "    </tr>\n",
       "  </tbody>\n",
       "</table>\n",
       "<p>1044698 rows × 1 columns</p>\n",
       "</div>"
      ],
      "text/plain": [
       "physical_quantity               power\n",
       "type                         apparent\n",
       "2011-04-18 09:22:09-04:00  118.889992\n",
       "2011-04-18 09:22:12-04:00  118.820007\n",
       "2011-04-18 09:22:15-04:00  119.119995\n",
       "2011-04-18 09:22:18-04:00  118.976662\n",
       "2011-04-18 09:22:21-04:00  119.150002\n",
       "...                               ...\n",
       "2011-05-24 15:56:48-04:00   38.636669\n",
       "2011-05-24 15:56:51-04:00   38.780003\n",
       "2011-05-24 15:56:54-04:00   38.753330\n",
       "2011-05-24 15:56:57-04:00   38.673336\n",
       "2011-05-24 15:57:00-04:00   38.723331\n",
       "\n",
       "[1044698 rows x 1 columns]"
      ]
     },
     "execution_count": 24,
     "metadata": {},
     "output_type": "execute_result"
    }
   ],
   "source": [
    "main_meter_1_df"
   ]
  },
  {
   "cell_type": "markdown",
   "id": "a6b3957d-ca43-414d-8bff-44a1491c9e8d",
   "metadata": {},
   "source": [
    "## Fridge"
   ]
  },
  {
   "cell_type": "code",
   "execution_count": 25,
   "id": "1abb6125-f782-42d1-b3c8-971812986288",
   "metadata": {},
   "outputs": [],
   "source": [
    "fridge = building_1.elec['fridge']"
   ]
  },
  {
   "cell_type": "code",
   "execution_count": 26,
   "id": "9867e29b-ed59-4b75-beae-9f2cbc4bae36",
   "metadata": {},
   "outputs": [
    {
     "data": {
      "text/plain": [
       "[('power', 'active')]"
      ]
     },
     "execution_count": 26,
     "metadata": {},
     "output_type": "execute_result"
    }
   ],
   "source": [
    "fridge.available_columns()"
   ]
  },
  {
   "cell_type": "code",
   "execution_count": 27,
   "id": "ffdf6a1b-b88c-49e1-9f90-49e9e23929c6",
   "metadata": {},
   "outputs": [
    {
     "data": {
      "text/plain": [
       "{'model': 'eMonitor',\n",
       " 'manufacturer': 'Powerhouse Dynamics',\n",
       " 'manufacturer_url': 'http://powerhousedynamics.com',\n",
       " 'description': 'Measures circuit-level power demand.  Comes with 24 CTs. This FAQ page suggests the eMonitor measures real (active) power: http://www.energycircle.com/node/14103  although the REDD readme.txt says all channels record apparent power.\\n',\n",
       " 'sample_period': 3,\n",
       " 'max_sample_period': 50,\n",
       " 'measurements': [{'physical_quantity': 'power',\n",
       "   'type': 'active',\n",
       "   'upper_limit': 5000,\n",
       "   'lower_limit': 0}],\n",
       " 'wireless': False}"
      ]
     },
     "execution_count": 27,
     "metadata": {},
     "output_type": "execute_result"
    }
   ],
   "source": [
    "fridge.device"
   ]
  },
  {
   "cell_type": "code",
   "execution_count": 28,
   "id": "0a498e62-30e6-4955-8419-3b053304e149",
   "metadata": {
    "scrolled": true
   },
   "outputs": [],
   "source": [
    "# fridge.plot()"
   ]
  },
  {
   "cell_type": "code",
   "execution_count": 29,
   "id": "7accbb8f-7871-445a-ad62-0accd93ec816",
   "metadata": {},
   "outputs": [],
   "source": [
    "fridge_df = pd.DataFrame(list(fridge.load())[0])"
   ]
  },
  {
   "cell_type": "code",
   "execution_count": 30,
   "id": "a73b3c54-65cf-4698-9566-0fc9991baa9f",
   "metadata": {},
   "outputs": [
    {
     "data": {
      "text/html": [
       "<div>\n",
       "<style scoped>\n",
       "    .dataframe tbody tr th:only-of-type {\n",
       "        vertical-align: middle;\n",
       "    }\n",
       "\n",
       "    .dataframe tbody tr th {\n",
       "        vertical-align: top;\n",
       "    }\n",
       "\n",
       "    .dataframe thead tr th {\n",
       "        text-align: left;\n",
       "    }\n",
       "</style>\n",
       "<table border=\"1\" class=\"dataframe\">\n",
       "  <thead>\n",
       "    <tr>\n",
       "      <th>physical_quantity</th>\n",
       "      <th>power</th>\n",
       "    </tr>\n",
       "    <tr>\n",
       "      <th>type</th>\n",
       "      <th>active</th>\n",
       "    </tr>\n",
       "  </thead>\n",
       "  <tbody>\n",
       "    <tr>\n",
       "      <th>2011-04-18 09:22:13-04:00</th>\n",
       "      <td>6.0</td>\n",
       "    </tr>\n",
       "    <tr>\n",
       "      <th>2011-04-18 09:22:16-04:00</th>\n",
       "      <td>6.0</td>\n",
       "    </tr>\n",
       "    <tr>\n",
       "      <th>2011-04-18 09:22:20-04:00</th>\n",
       "      <td>6.0</td>\n",
       "    </tr>\n",
       "    <tr>\n",
       "      <th>2011-04-18 09:22:23-04:00</th>\n",
       "      <td>6.0</td>\n",
       "    </tr>\n",
       "    <tr>\n",
       "      <th>2011-04-18 09:22:26-04:00</th>\n",
       "      <td>6.0</td>\n",
       "    </tr>\n",
       "    <tr>\n",
       "      <th>...</th>\n",
       "      <td>...</td>\n",
       "    </tr>\n",
       "    <tr>\n",
       "      <th>2011-05-24 15:56:20-04:00</th>\n",
       "      <td>186.0</td>\n",
       "    </tr>\n",
       "    <tr>\n",
       "      <th>2011-05-24 15:56:23-04:00</th>\n",
       "      <td>187.0</td>\n",
       "    </tr>\n",
       "    <tr>\n",
       "      <th>2011-05-24 15:56:27-04:00</th>\n",
       "      <td>190.0</td>\n",
       "    </tr>\n",
       "    <tr>\n",
       "      <th>2011-05-24 15:56:30-04:00</th>\n",
       "      <td>189.0</td>\n",
       "    </tr>\n",
       "    <tr>\n",
       "      <th>2011-05-24 15:56:34-04:00</th>\n",
       "      <td>186.0</td>\n",
       "    </tr>\n",
       "  </tbody>\n",
       "</table>\n",
       "<p>745878 rows × 1 columns</p>\n",
       "</div>"
      ],
      "text/plain": [
       "physical_quantity          power\n",
       "type                      active\n",
       "2011-04-18 09:22:13-04:00    6.0\n",
       "2011-04-18 09:22:16-04:00    6.0\n",
       "2011-04-18 09:22:20-04:00    6.0\n",
       "2011-04-18 09:22:23-04:00    6.0\n",
       "2011-04-18 09:22:26-04:00    6.0\n",
       "...                          ...\n",
       "2011-05-24 15:56:20-04:00  186.0\n",
       "2011-05-24 15:56:23-04:00  187.0\n",
       "2011-05-24 15:56:27-04:00  190.0\n",
       "2011-05-24 15:56:30-04:00  189.0\n",
       "2011-05-24 15:56:34-04:00  186.0\n",
       "\n",
       "[745878 rows x 1 columns]"
      ]
     },
     "execution_count": 30,
     "metadata": {},
     "output_type": "execute_result"
    }
   ],
   "source": [
    "fridge_df"
   ]
  },
  {
   "cell_type": "markdown",
   "id": "25ab449c-73ef-4148-938f-f1637f1209d6",
   "metadata": {},
   "source": [
    "## Plot"
   ]
  },
  {
   "cell_type": "code",
   "execution_count": 31,
   "id": "e2c5d556-ffa6-4f77-a4ea-ec358b0c69c6",
   "metadata": {},
   "outputs": [],
   "source": [
    "import matplotlib.pyplot as plt"
   ]
  },
  {
   "cell_type": "code",
   "execution_count": 32,
   "id": "dc212516-3049-4ba5-b529-c4c2483be579",
   "metadata": {},
   "outputs": [],
   "source": [
    "main_meter_0_df.columns = ['_'.join(filter(None, map(str, col))) for col in main_meter_0_df.columns.values]\n",
    "main_meter_1_df.columns = ['_'.join(filter(None, map(str, col))) for col in main_meter_1_df.columns.values]\n",
    "fridge_df.columns = ['_'.join(filter(None, map(str, col))) for col in fridge_df.columns.values]"
   ]
  },
  {
   "cell_type": "code",
   "execution_count": 33,
   "id": "80c23eb9-164b-4c89-8924-67f6e9c9239e",
   "metadata": {},
   "outputs": [],
   "source": [
    "main_meter_0_df.index.name = 'timestamp'\n",
    "main_meter_1_df.index.name = 'timestamp'\n",
    "fridge_df.index.name = 'timestamp'"
   ]
  },
  {
   "cell_type": "code",
   "execution_count": 34,
   "id": "b0841fa3-6844-44de-873a-a033c075f245",
   "metadata": {},
   "outputs": [
    {
     "data": {
      "text/html": [
       "<div>\n",
       "<style scoped>\n",
       "    .dataframe tbody tr th:only-of-type {\n",
       "        vertical-align: middle;\n",
       "    }\n",
       "\n",
       "    .dataframe tbody tr th {\n",
       "        vertical-align: top;\n",
       "    }\n",
       "\n",
       "    .dataframe thead th {\n",
       "        text-align: right;\n",
       "    }\n",
       "</style>\n",
       "<table border=\"1\" class=\"dataframe\">\n",
       "  <thead>\n",
       "    <tr style=\"text-align: right;\">\n",
       "      <th></th>\n",
       "      <th>power_apparent</th>\n",
       "    </tr>\n",
       "    <tr>\n",
       "      <th>timestamp</th>\n",
       "      <th></th>\n",
       "    </tr>\n",
       "  </thead>\n",
       "  <tbody>\n",
       "    <tr>\n",
       "      <th>2011-04-18 09:22:09-04:00</th>\n",
       "      <td>225.283325</td>\n",
       "    </tr>\n",
       "    <tr>\n",
       "      <th>2011-04-18 09:22:12-04:00</th>\n",
       "      <td>222.349991</td>\n",
       "    </tr>\n",
       "    <tr>\n",
       "      <th>2011-04-18 09:22:15-04:00</th>\n",
       "      <td>222.853333</td>\n",
       "    </tr>\n",
       "    <tr>\n",
       "      <th>2011-04-18 09:22:18-04:00</th>\n",
       "      <td>222.706665</td>\n",
       "    </tr>\n",
       "    <tr>\n",
       "      <th>2011-04-18 09:22:21-04:00</th>\n",
       "      <td>222.646667</td>\n",
       "    </tr>\n",
       "    <tr>\n",
       "      <th>...</th>\n",
       "      <td>...</td>\n",
       "    </tr>\n",
       "    <tr>\n",
       "      <th>2011-05-24 15:56:48-04:00</th>\n",
       "      <td>234.630005</td>\n",
       "    </tr>\n",
       "    <tr>\n",
       "      <th>2011-05-24 15:56:51-04:00</th>\n",
       "      <td>235.716675</td>\n",
       "    </tr>\n",
       "    <tr>\n",
       "      <th>2011-05-24 15:56:54-04:00</th>\n",
       "      <td>235.206665</td>\n",
       "    </tr>\n",
       "    <tr>\n",
       "      <th>2011-05-24 15:56:57-04:00</th>\n",
       "      <td>234.963333</td>\n",
       "    </tr>\n",
       "    <tr>\n",
       "      <th>2011-05-24 15:57:00-04:00</th>\n",
       "      <td>235.250000</td>\n",
       "    </tr>\n",
       "  </tbody>\n",
       "</table>\n",
       "<p>1044698 rows × 1 columns</p>\n",
       "</div>"
      ],
      "text/plain": [
       "                           power_apparent\n",
       "timestamp                                \n",
       "2011-04-18 09:22:09-04:00      225.283325\n",
       "2011-04-18 09:22:12-04:00      222.349991\n",
       "2011-04-18 09:22:15-04:00      222.853333\n",
       "2011-04-18 09:22:18-04:00      222.706665\n",
       "2011-04-18 09:22:21-04:00      222.646667\n",
       "...                                   ...\n",
       "2011-05-24 15:56:48-04:00      234.630005\n",
       "2011-05-24 15:56:51-04:00      235.716675\n",
       "2011-05-24 15:56:54-04:00      235.206665\n",
       "2011-05-24 15:56:57-04:00      234.963333\n",
       "2011-05-24 15:57:00-04:00      235.250000\n",
       "\n",
       "[1044698 rows x 1 columns]"
      ]
     },
     "execution_count": 34,
     "metadata": {},
     "output_type": "execute_result"
    }
   ],
   "source": [
    "main_meter_0_df"
   ]
  },
  {
   "cell_type": "code",
   "execution_count": 35,
   "id": "d35568ea-a80f-48a0-9768-06a2b8814e9b",
   "metadata": {},
   "outputs": [
    {
     "data": {
      "text/html": [
       "<div>\n",
       "<style scoped>\n",
       "    .dataframe tbody tr th:only-of-type {\n",
       "        vertical-align: middle;\n",
       "    }\n",
       "\n",
       "    .dataframe tbody tr th {\n",
       "        vertical-align: top;\n",
       "    }\n",
       "\n",
       "    .dataframe thead th {\n",
       "        text-align: right;\n",
       "    }\n",
       "</style>\n",
       "<table border=\"1\" class=\"dataframe\">\n",
       "  <thead>\n",
       "    <tr style=\"text-align: right;\">\n",
       "      <th></th>\n",
       "      <th>power_apparent</th>\n",
       "    </tr>\n",
       "    <tr>\n",
       "      <th>timestamp</th>\n",
       "      <th></th>\n",
       "    </tr>\n",
       "  </thead>\n",
       "  <tbody>\n",
       "    <tr>\n",
       "      <th>2011-04-18 09:22:09-04:00</th>\n",
       "      <td>118.889992</td>\n",
       "    </tr>\n",
       "    <tr>\n",
       "      <th>2011-04-18 09:22:12-04:00</th>\n",
       "      <td>118.820007</td>\n",
       "    </tr>\n",
       "    <tr>\n",
       "      <th>2011-04-18 09:22:15-04:00</th>\n",
       "      <td>119.119995</td>\n",
       "    </tr>\n",
       "    <tr>\n",
       "      <th>2011-04-18 09:22:18-04:00</th>\n",
       "      <td>118.976662</td>\n",
       "    </tr>\n",
       "    <tr>\n",
       "      <th>2011-04-18 09:22:21-04:00</th>\n",
       "      <td>119.150002</td>\n",
       "    </tr>\n",
       "    <tr>\n",
       "      <th>...</th>\n",
       "      <td>...</td>\n",
       "    </tr>\n",
       "    <tr>\n",
       "      <th>2011-05-24 15:56:48-04:00</th>\n",
       "      <td>38.636669</td>\n",
       "    </tr>\n",
       "    <tr>\n",
       "      <th>2011-05-24 15:56:51-04:00</th>\n",
       "      <td>38.780003</td>\n",
       "    </tr>\n",
       "    <tr>\n",
       "      <th>2011-05-24 15:56:54-04:00</th>\n",
       "      <td>38.753330</td>\n",
       "    </tr>\n",
       "    <tr>\n",
       "      <th>2011-05-24 15:56:57-04:00</th>\n",
       "      <td>38.673336</td>\n",
       "    </tr>\n",
       "    <tr>\n",
       "      <th>2011-05-24 15:57:00-04:00</th>\n",
       "      <td>38.723331</td>\n",
       "    </tr>\n",
       "  </tbody>\n",
       "</table>\n",
       "<p>1044698 rows × 1 columns</p>\n",
       "</div>"
      ],
      "text/plain": [
       "                           power_apparent\n",
       "timestamp                                \n",
       "2011-04-18 09:22:09-04:00      118.889992\n",
       "2011-04-18 09:22:12-04:00      118.820007\n",
       "2011-04-18 09:22:15-04:00      119.119995\n",
       "2011-04-18 09:22:18-04:00      118.976662\n",
       "2011-04-18 09:22:21-04:00      119.150002\n",
       "...                                   ...\n",
       "2011-05-24 15:56:48-04:00       38.636669\n",
       "2011-05-24 15:56:51-04:00       38.780003\n",
       "2011-05-24 15:56:54-04:00       38.753330\n",
       "2011-05-24 15:56:57-04:00       38.673336\n",
       "2011-05-24 15:57:00-04:00       38.723331\n",
       "\n",
       "[1044698 rows x 1 columns]"
      ]
     },
     "execution_count": 35,
     "metadata": {},
     "output_type": "execute_result"
    }
   ],
   "source": [
    "main_meter_1_df"
   ]
  },
  {
   "cell_type": "code",
   "execution_count": 36,
   "id": "8d28957a-be97-46b8-919e-1af064cc6b08",
   "metadata": {},
   "outputs": [
    {
     "data": {
      "text/html": [
       "<div>\n",
       "<style scoped>\n",
       "    .dataframe tbody tr th:only-of-type {\n",
       "        vertical-align: middle;\n",
       "    }\n",
       "\n",
       "    .dataframe tbody tr th {\n",
       "        vertical-align: top;\n",
       "    }\n",
       "\n",
       "    .dataframe thead th {\n",
       "        text-align: right;\n",
       "    }\n",
       "</style>\n",
       "<table border=\"1\" class=\"dataframe\">\n",
       "  <thead>\n",
       "    <tr style=\"text-align: right;\">\n",
       "      <th></th>\n",
       "      <th>power_active</th>\n",
       "    </tr>\n",
       "    <tr>\n",
       "      <th>timestamp</th>\n",
       "      <th></th>\n",
       "    </tr>\n",
       "  </thead>\n",
       "  <tbody>\n",
       "    <tr>\n",
       "      <th>2011-04-18 09:22:13-04:00</th>\n",
       "      <td>6.0</td>\n",
       "    </tr>\n",
       "    <tr>\n",
       "      <th>2011-04-18 09:22:16-04:00</th>\n",
       "      <td>6.0</td>\n",
       "    </tr>\n",
       "    <tr>\n",
       "      <th>2011-04-18 09:22:20-04:00</th>\n",
       "      <td>6.0</td>\n",
       "    </tr>\n",
       "    <tr>\n",
       "      <th>2011-04-18 09:22:23-04:00</th>\n",
       "      <td>6.0</td>\n",
       "    </tr>\n",
       "    <tr>\n",
       "      <th>2011-04-18 09:22:26-04:00</th>\n",
       "      <td>6.0</td>\n",
       "    </tr>\n",
       "    <tr>\n",
       "      <th>...</th>\n",
       "      <td>...</td>\n",
       "    </tr>\n",
       "    <tr>\n",
       "      <th>2011-05-24 15:56:20-04:00</th>\n",
       "      <td>186.0</td>\n",
       "    </tr>\n",
       "    <tr>\n",
       "      <th>2011-05-24 15:56:23-04:00</th>\n",
       "      <td>187.0</td>\n",
       "    </tr>\n",
       "    <tr>\n",
       "      <th>2011-05-24 15:56:27-04:00</th>\n",
       "      <td>190.0</td>\n",
       "    </tr>\n",
       "    <tr>\n",
       "      <th>2011-05-24 15:56:30-04:00</th>\n",
       "      <td>189.0</td>\n",
       "    </tr>\n",
       "    <tr>\n",
       "      <th>2011-05-24 15:56:34-04:00</th>\n",
       "      <td>186.0</td>\n",
       "    </tr>\n",
       "  </tbody>\n",
       "</table>\n",
       "<p>745878 rows × 1 columns</p>\n",
       "</div>"
      ],
      "text/plain": [
       "                           power_active\n",
       "timestamp                              \n",
       "2011-04-18 09:22:13-04:00           6.0\n",
       "2011-04-18 09:22:16-04:00           6.0\n",
       "2011-04-18 09:22:20-04:00           6.0\n",
       "2011-04-18 09:22:23-04:00           6.0\n",
       "2011-04-18 09:22:26-04:00           6.0\n",
       "...                                 ...\n",
       "2011-05-24 15:56:20-04:00         186.0\n",
       "2011-05-24 15:56:23-04:00         187.0\n",
       "2011-05-24 15:56:27-04:00         190.0\n",
       "2011-05-24 15:56:30-04:00         189.0\n",
       "2011-05-24 15:56:34-04:00         186.0\n",
       "\n",
       "[745878 rows x 1 columns]"
      ]
     },
     "execution_count": 36,
     "metadata": {},
     "output_type": "execute_result"
    }
   ],
   "source": [
    "fridge_df"
   ]
  },
  {
   "cell_type": "code",
   "execution_count": 37,
   "id": "0c54b95f-4369-44f9-b6ba-7002d8404112",
   "metadata": {},
   "outputs": [],
   "source": [
    "merged_df = pd.merge(main_meter_0_df, fridge_df, on='timestamp', how='inner')"
   ]
  },
  {
   "cell_type": "code",
   "execution_count": 38,
   "id": "32806eef-0247-4409-bb3e-c5892d369f9d",
   "metadata": {},
   "outputs": [
    {
     "data": {
      "text/html": [
       "<div>\n",
       "<style scoped>\n",
       "    .dataframe tbody tr th:only-of-type {\n",
       "        vertical-align: middle;\n",
       "    }\n",
       "\n",
       "    .dataframe tbody tr th {\n",
       "        vertical-align: top;\n",
       "    }\n",
       "\n",
       "    .dataframe thead th {\n",
       "        text-align: right;\n",
       "    }\n",
       "</style>\n",
       "<table border=\"1\" class=\"dataframe\">\n",
       "  <thead>\n",
       "    <tr style=\"text-align: right;\">\n",
       "      <th></th>\n",
       "      <th>power_apparent</th>\n",
       "      <th>power_active</th>\n",
       "    </tr>\n",
       "    <tr>\n",
       "      <th>timestamp</th>\n",
       "      <th></th>\n",
       "      <th></th>\n",
       "    </tr>\n",
       "  </thead>\n",
       "  <tbody>\n",
       "    <tr>\n",
       "      <th>2011-04-18 09:22:30-04:00</th>\n",
       "      <td>222.613327</td>\n",
       "      <td>6.0</td>\n",
       "    </tr>\n",
       "    <tr>\n",
       "      <th>2011-04-18 09:22:33-04:00</th>\n",
       "      <td>222.559998</td>\n",
       "      <td>6.0</td>\n",
       "    </tr>\n",
       "    <tr>\n",
       "      <th>2011-04-18 09:22:51-04:00</th>\n",
       "      <td>225.503342</td>\n",
       "      <td>6.0</td>\n",
       "    </tr>\n",
       "    <tr>\n",
       "      <th>2011-04-18 09:22:54-04:00</th>\n",
       "      <td>222.669998</td>\n",
       "      <td>6.0</td>\n",
       "    </tr>\n",
       "    <tr>\n",
       "      <th>2011-04-18 09:23:33-04:00</th>\n",
       "      <td>226.803345</td>\n",
       "      <td>6.0</td>\n",
       "    </tr>\n",
       "    <tr>\n",
       "      <th>...</th>\n",
       "      <td>...</td>\n",
       "      <td>...</td>\n",
       "    </tr>\n",
       "    <tr>\n",
       "      <th>2011-05-24 15:55:45-04:00</th>\n",
       "      <td>235.706665</td>\n",
       "      <td>187.0</td>\n",
       "    </tr>\n",
       "    <tr>\n",
       "      <th>2011-05-24 15:56:03-04:00</th>\n",
       "      <td>234.156662</td>\n",
       "      <td>187.0</td>\n",
       "    </tr>\n",
       "    <tr>\n",
       "      <th>2011-05-24 15:56:06-04:00</th>\n",
       "      <td>234.946655</td>\n",
       "      <td>188.0</td>\n",
       "    </tr>\n",
       "    <tr>\n",
       "      <th>2011-05-24 15:56:27-04:00</th>\n",
       "      <td>236.076660</td>\n",
       "      <td>190.0</td>\n",
       "    </tr>\n",
       "    <tr>\n",
       "      <th>2011-05-24 15:56:30-04:00</th>\n",
       "      <td>235.550003</td>\n",
       "      <td>189.0</td>\n",
       "    </tr>\n",
       "  </tbody>\n",
       "</table>\n",
       "<p>248313 rows × 2 columns</p>\n",
       "</div>"
      ],
      "text/plain": [
       "                           power_apparent  power_active\n",
       "timestamp                                              \n",
       "2011-04-18 09:22:30-04:00      222.613327           6.0\n",
       "2011-04-18 09:22:33-04:00      222.559998           6.0\n",
       "2011-04-18 09:22:51-04:00      225.503342           6.0\n",
       "2011-04-18 09:22:54-04:00      222.669998           6.0\n",
       "2011-04-18 09:23:33-04:00      226.803345           6.0\n",
       "...                                   ...           ...\n",
       "2011-05-24 15:55:45-04:00      235.706665         187.0\n",
       "2011-05-24 15:56:03-04:00      234.156662         187.0\n",
       "2011-05-24 15:56:06-04:00      234.946655         188.0\n",
       "2011-05-24 15:56:27-04:00      236.076660         190.0\n",
       "2011-05-24 15:56:30-04:00      235.550003         189.0\n",
       "\n",
       "[248313 rows x 2 columns]"
      ]
     },
     "execution_count": 38,
     "metadata": {},
     "output_type": "execute_result"
    }
   ],
   "source": [
    "merged_df"
   ]
  },
  {
   "cell_type": "code",
   "execution_count": 39,
   "id": "46a9b5a0-bfd8-4a2a-aac4-22b5ea2891b2",
   "metadata": {},
   "outputs": [
    {
     "data": {
      "text/plain": [
       "[<matplotlib.lines.Line2D at 0x20e84392930>,\n",
       " <matplotlib.lines.Line2D at 0x20e84672ab0>]"
      ]
     },
     "execution_count": 39,
     "metadata": {},
     "output_type": "execute_result"
    },
    {
     "data": {
      "image/png": "[encoded data removed]",
      "text/plain": [
       "<Figure size 640x480 with 1 Axes>"
      ]
     },
     "metadata": {},
     "output_type": "display_data"
    }
   ],
   "source": [
    "plt.plot(merged_df[1000:2000])"
   ]
  },
  {
   "cell_type": "code",
   "execution_count": 40,
   "id": "d780eedc-9e3b-4b89-88e1-068ed6f52473",
   "metadata": {},
   "outputs": [],
   "source": [
    "merged_df = pd.merge(main_meter_1_df, fridge_df, on='timestamp', how='inner')"
   ]
  },
  {
   "cell_type": "code",
   "execution_count": 41,
   "id": "206ff666-7bd5-44d1-a2ea-02f92bce5087",
   "metadata": {},
   "outputs": [
    {
     "data": {
      "text/plain": [
       "[<matplotlib.lines.Line2D at 0x20e889f9190>,\n",
       " <matplotlib.lines.Line2D at 0x20e889faf30>]"
      ]
     },
     "execution_count": 41,
     "metadata": {},
     "output_type": "execute_result"
    },
    {
     "data": {
      "image/png": "[encoded data removed]",
      "text/plain": [
       "<Figure size 640x480 with 1 Axes>"
      ]
     },
     "metadata": {},
     "output_type": "display_data"
    }
   ],
   "source": [
    "plt.plot(merged_df[1000:2000])"
   ]
  },
  {
   "cell_type": "markdown",
   "id": "b9ec5d95-ae48-4092-bed9-5f23abb26958",
   "metadata": {},
   "source": [
    "# API"
   ]
  },
  {
   "cell_type": "code",
   "execution_count": 41,
   "id": "244cd7cf-d68b-424e-b073-35ba1c169ee8",
   "metadata": {},
   "outputs": [],
   "source": [
    "import nilmtk\n",
    "import nilmtk.api\n",
    "from nilmtk.disaggregate import CO, FHMMExact, Hart85, Mean\n",
    "from nilmtk.legacy.disaggregate import CombinatorialOptimisation"
   ]
  },
  {
   "cell_type": "code",
   "execution_count": 42,
   "id": "052bc383-e93f-4311-98af-a584fc3f0649",
   "metadata": {},
   "outputs": [],
   "source": [
    "experiment1 = {\n",
    "  'power': {'mains': ['apparent','active'],'appliance': ['apparent','active']},\n",
    "  'sample_rate': 60,\n",
    "  'appliances': ['fridge', 'light', 'microwave'],\n",
    "  'methods': {\"CO\":CO({})},\n",
    "  'train': {    \n",
    "    'datasets': {\n",
    "        'REDD': {\n",
    "            'path': './redd.h5',\n",
    "            'buildings': {\n",
    "                1: {\n",
    "                    'start_time': '2011-04-18',\n",
    "                    'end_time': '2011-05-13'\n",
    "                    }\n",
    "                }                \n",
    "            }\n",
    "        }\n",
    "    },\n",
    "  'test': {\n",
    "    'datasets': {\n",
    "        'REDD': {\n",
    "            'path': './redd.h5',\n",
    "            'buildings': {\n",
    "                1: {\n",
    "                    'start_time': '2011-05-14',\n",
    "                    'end_time': '2011-05-21'\n",
    "                    }\n",
    "                }\n",
    "            }\n",
    "        },\n",
    "        'metrics':['rmse']\n",
    "    }\n",
    "}"
   ]
  },
  {
   "cell_type": "code",
   "execution_count": 43,
   "id": "8db354b9-7da7-4ded-8ddb-05cc94ddbd37",
   "metadata": {},
   "outputs": [
    {
     "name": "stdout",
     "output_type": "stream",
     "text": [
      "Started training for  <nilmtk.disaggregate.combinatorial_optimisation.CO object at 0x0000022D22A08E30>\n",
      "Started training for  CO\n",
      "Joint training for  CO\n",
      "............... Loading Data for training ...................\n",
      "Loading data for  REDD  dataset\n",
      "Loading building ...  1\n",
      "['apparent', 'active']\n",
      "60\n",
      "MeterGroup(meters=\n",
      "  ElecMeter(instance=1, building=1, dataset='REDD', site_meter, appliances=[])\n",
      "  ElecMeter(instance=2, building=1, dataset='REDD', site_meter, appliances=[])\n",
      ")\n"
     ]
    },
    {
     "ename": "ValueError",
     "evalue": "Invalid Attribute context Load",
     "output_type": "error",
     "traceback": [
      "\u001b[31m---------------------------------------------------------------------------\u001b[39m",
      "\u001b[31mValueError\u001b[39m                                Traceback (most recent call last)",
      "\u001b[36mCell\u001b[39m\u001b[36m \u001b[39m\u001b[32mIn[43]\u001b[39m\u001b[32m, line 1\u001b[39m\n\u001b[32m----> \u001b[39m\u001b[32m1\u001b[39m redd_res = \u001b[43mnilmtk\u001b[49m\u001b[43m.\u001b[49m\u001b[43mapi\u001b[49m\u001b[43m.\u001b[49m\u001b[43mAPI\u001b[49m\u001b[43m(\u001b[49m\u001b[43mexperiment1\u001b[49m\u001b[43m)\u001b[49m\n",
      "\u001b[36mFile \u001b[39m\u001b[32mE:\\UK-DALE\\.venv\\Lib\\site-packages\\nilmtk\\api.py:46\u001b[39m, in \u001b[36mAPI.__init__\u001b[39m\u001b[34m(self, params)\u001b[39m\n\u001b[32m     44\u001b[39m \u001b[38;5;28mself\u001b[39m.DROP_ALL_NANS = params.get(\u001b[33m\"\u001b[39m\u001b[33mDROP_ALL_NANS\u001b[39m\u001b[33m\"\u001b[39m, \u001b[38;5;28;01mTrue\u001b[39;00m)\n\u001b[32m     45\u001b[39m \u001b[38;5;28mself\u001b[39m.site_only = params.get(\u001b[33m'\u001b[39m\u001b[33msite_only\u001b[39m\u001b[33m'\u001b[39m,\u001b[38;5;28;01mFalse\u001b[39;00m)\n\u001b[32m---> \u001b[39m\u001b[32m46\u001b[39m \u001b[38;5;28;43mself\u001b[39;49m\u001b[43m.\u001b[49m\u001b[43mexperiment\u001b[49m\u001b[43m(\u001b[49m\u001b[43m)\u001b[49m\n",
      "\u001b[36mFile \u001b[39m\u001b[32mE:\\UK-DALE\\.venv\\Lib\\site-packages\\nilmtk\\api.py:92\u001b[39m, in \u001b[36mAPI.experiment\u001b[39m\u001b[34m(self)\u001b[39m\n\u001b[32m     89\u001b[39m \u001b[38;5;66;03m# if it doesn't support chunk wise training\u001b[39;00m\n\u001b[32m     90\u001b[39m \u001b[38;5;28;01melse\u001b[39;00m:\n\u001b[32m     91\u001b[39m     \u001b[38;5;28mprint\u001b[39m (\u001b[33m\"\u001b[39m\u001b[33mJoint training for \u001b[39m\u001b[33m\"\u001b[39m,clf.MODEL_NAME)\n\u001b[32m---> \u001b[39m\u001b[32m92\u001b[39m     \u001b[38;5;28;43mself\u001b[39;49m\u001b[43m.\u001b[49m\u001b[43mtrain_jointly\u001b[49m\u001b[43m(\u001b[49m\u001b[43mclf\u001b[49m\u001b[43m,\u001b[49m\u001b[43md\u001b[49m\u001b[43m)\u001b[49m            \n\u001b[32m     94\u001b[39m \u001b[38;5;28mprint\u001b[39m (\u001b[33m\"\u001b[39m\u001b[33mFinished training for \u001b[39m\u001b[33m\"\u001b[39m,clf.MODEL_NAME)\n\u001b[32m     95\u001b[39m clear_output()\n",
      "\u001b[36mFile \u001b[39m\u001b[32mE:\\UK-DALE\\.venv\\Lib\\site-packages\\nilmtk\\api.py:220\u001b[39m, in \u001b[36mAPI.train_jointly\u001b[39m\u001b[34m(self, clf, d)\u001b[39m\n\u001b[32m    216\u001b[39m \u001b[38;5;28mprint\u001b[39m(train.buildings[building].elec.mains())\n\u001b[32m    218\u001b[39m \u001b[38;5;66;03m# train_df = pd.DataFrame(list(train.buildings[building].elec.mains().meters[0].load(physical_quantity='power', ac_type=self.power['mains'], sample_period=self.sample_period))[0])\u001b[39;00m\n\u001b[32m--> \u001b[39m\u001b[32m220\u001b[39m train_df = \u001b[38;5;28;43mnext\u001b[39;49m\u001b[43m(\u001b[49m\u001b[43mtrain\u001b[49m\u001b[43m.\u001b[49m\u001b[43mbuildings\u001b[49m\u001b[43m[\u001b[49m\u001b[43mbuilding\u001b[49m\u001b[43m]\u001b[49m\u001b[43m.\u001b[49m\u001b[43melec\u001b[49m\u001b[43m.\u001b[49m\u001b[43mmains\u001b[49m\u001b[43m(\u001b[49m\u001b[43m)\u001b[49m\u001b[43m.\u001b[49m\u001b[43mmeters\u001b[49m\u001b[43m[\u001b[49m\u001b[32;43m0\u001b[39;49m\u001b[43m]\u001b[49m\u001b[43m.\u001b[49m\u001b[43mload\u001b[49m\u001b[43m(\u001b[49m\u001b[43mphysical_quantity\u001b[49m\u001b[43m=\u001b[49m\u001b[33;43m'\u001b[39;49m\u001b[33;43mpower\u001b[39;49m\u001b[33;43m'\u001b[39;49m\u001b[43m,\u001b[49m\u001b[43m \u001b[49m\u001b[43mac_type\u001b[49m\u001b[43m=\u001b[49m\u001b[38;5;28;43mself\u001b[39;49m\u001b[43m.\u001b[49m\u001b[43mpower\u001b[49m\u001b[43m[\u001b[49m\u001b[33;43m'\u001b[39;49m\u001b[33;43mmains\u001b[39;49m\u001b[33;43m'\u001b[39;49m\u001b[43m]\u001b[49m\u001b[43m,\u001b[49m\u001b[43m \u001b[49m\u001b[43msample_period\u001b[49m\u001b[43m=\u001b[49m\u001b[38;5;28;43mself\u001b[39;49m\u001b[43m.\u001b[49m\u001b[43msample_period\u001b[49m\u001b[43m)\u001b[49m\u001b[43m)\u001b[49m\n\u001b[32m    221\u001b[39m train_df = train_df[[\u001b[38;5;28mlist\u001b[39m(train_df.columns)[\u001b[32m0\u001b[39m]]]\n\u001b[32m    223\u001b[39m appliance_readings = []\n",
      "\u001b[36mFile \u001b[39m\u001b[32mE:\\UK-DALE\\.venv\\Lib\\site-packages\\nilmtk\\preprocessing\\apply.py:13\u001b[39m, in \u001b[36mApply.process\u001b[39m\u001b[34m(self)\u001b[39m\n\u001b[32m     11\u001b[39m \u001b[38;5;28;01mdef\u001b[39;00m\u001b[38;5;250m \u001b[39m\u001b[34mprocess\u001b[39m(\u001b[38;5;28mself\u001b[39m):\n\u001b[32m     12\u001b[39m     \u001b[38;5;28mself\u001b[39m.check_requirements()\n\u001b[32m---> \u001b[39m\u001b[32m13\u001b[39m \u001b[43m    \u001b[49m\u001b[38;5;28;43;01mfor\u001b[39;49;00m\u001b[43m \u001b[49m\u001b[43mchunk\u001b[49m\u001b[43m \u001b[49m\u001b[38;5;129;43;01min\u001b[39;49;00m\u001b[43m \u001b[49m\u001b[38;5;28;43mself\u001b[39;49m\u001b[43m.\u001b[49m\u001b[43mupstream\u001b[49m\u001b[43m.\u001b[49m\u001b[43mprocess\u001b[49m\u001b[43m(\u001b[49m\u001b[43m)\u001b[49m\u001b[43m:\u001b[49m\n\u001b[32m     14\u001b[39m \u001b[43m        \u001b[49m\u001b[43mnew_chunk\u001b[49m\u001b[43m \u001b[49m\u001b[43m=\u001b[49m\u001b[43m \u001b[49m\u001b[38;5;28;43mself\u001b[39;49m\u001b[43m.\u001b[49m\u001b[43mfunc\u001b[49m\u001b[43m(\u001b[49m\u001b[43mchunk\u001b[49m\u001b[43m)\u001b[49m\n\u001b[32m     15\u001b[39m \u001b[43m        \u001b[49m\u001b[43mnew_chunk\u001b[49m\u001b[43m.\u001b[49m\u001b[43mtimeframe\u001b[49m\u001b[43m \u001b[49m\u001b[43m=\u001b[49m\u001b[43m \u001b[49m\u001b[43mchunk\u001b[49m\u001b[43m.\u001b[49m\u001b[43mtimeframe\u001b[49m\n",
      "\u001b[36mFile \u001b[39m\u001b[32mE:\\UK-DALE\\.venv\\Lib\\site-packages\\nilmtk\\datastore\\hdfdatastore.py:84\u001b[39m, in \u001b[36mHDFDataStore.load\u001b[39m\u001b[34m(self, key, columns, sections, n_look_ahead_rows, chunksize, verbose)\u001b[39m\n\u001b[32m     82\u001b[39m \u001b[38;5;28;01melse\u001b[39;00m:\n\u001b[32m     83\u001b[39m     \u001b[38;5;28;01mtry\u001b[39;00m:\n\u001b[32m---> \u001b[39m\u001b[32m84\u001b[39m         coords = \u001b[38;5;28;43mself\u001b[39;49m\u001b[43m.\u001b[49m\u001b[43mstore\u001b[49m\u001b[43m.\u001b[49m\u001b[43mselect_as_coordinates\u001b[49m\u001b[43m(\u001b[49m\u001b[43mkey\u001b[49m\u001b[43m=\u001b[49m\u001b[43mkey\u001b[49m\u001b[43m,\u001b[49m\u001b[43m \u001b[49m\u001b[43mwhere\u001b[49m\u001b[43m=\u001b[49m\u001b[43mterms\u001b[49m\u001b[43m)\u001b[49m\n\u001b[32m     85\u001b[39m     \u001b[38;5;28;01mexcept\u001b[39;00m \u001b[38;5;167;01mAttributeError\u001b[39;00m \u001b[38;5;28;01mas\u001b[39;00m e:\n\u001b[32m     86\u001b[39m         \u001b[38;5;28;01mif\u001b[39;00m \u001b[38;5;28mstr\u001b[39m(e) == (\u001b[33m\"\u001b[39m\u001b[33m'\u001b[39m\u001b[33mNoneType\u001b[39m\u001b[33m'\u001b[39m\u001b[33m object has no attribute \u001b[39m\u001b[33m\"\u001b[39m\n\u001b[32m     87\u001b[39m                       \u001b[33m\"\u001b[39m\u001b[33m'\u001b[39m\u001b[33mread_coordinates\u001b[39m\u001b[33m'\u001b[39m\u001b[33m\"\u001b[39m):\n",
      "\u001b[36mFile \u001b[39m\u001b[32mE:\\UK-DALE\\.venv\\Lib\\site-packages\\pandas\\io\\pytables.py:938\u001b[39m, in \u001b[36mHDFStore.select_as_coordinates\u001b[39m\u001b[34m(self, key, where, start, stop)\u001b[39m\n\u001b[32m    936\u001b[39m \u001b[38;5;28;01mif\u001b[39;00m \u001b[38;5;129;01mnot\u001b[39;00m \u001b[38;5;28misinstance\u001b[39m(tbl, Table):\n\u001b[32m    937\u001b[39m     \u001b[38;5;28;01mraise\u001b[39;00m \u001b[38;5;167;01mTypeError\u001b[39;00m(\u001b[33m\"\u001b[39m\u001b[33mcan only read_coordinates with a table\u001b[39m\u001b[33m\"\u001b[39m)\n\u001b[32m--> \u001b[39m\u001b[32m938\u001b[39m \u001b[38;5;28;01mreturn\u001b[39;00m \u001b[43mtbl\u001b[49m\u001b[43m.\u001b[49m\u001b[43mread_coordinates\u001b[49m\u001b[43m(\u001b[49m\u001b[43mwhere\u001b[49m\u001b[43m=\u001b[49m\u001b[43mwhere\u001b[49m\u001b[43m,\u001b[49m\u001b[43m \u001b[49m\u001b[43mstart\u001b[49m\u001b[43m=\u001b[49m\u001b[43mstart\u001b[49m\u001b[43m,\u001b[49m\u001b[43m \u001b[49m\u001b[43mstop\u001b[49m\u001b[43m=\u001b[49m\u001b[43mstop\u001b[49m\u001b[43m)\u001b[49m\n",
      "\u001b[36mFile \u001b[39m\u001b[32mE:\\UK-DALE\\.venv\\Lib\\site-packages\\pandas\\io\\pytables.py:4286\u001b[39m, in \u001b[36mTable.read_coordinates\u001b[39m\u001b[34m(self, where, start, stop)\u001b[39m\n\u001b[32m   4283\u001b[39m     \u001b[38;5;28;01mreturn\u001b[39;00m \u001b[38;5;28;01mFalse\u001b[39;00m\n\u001b[32m   4285\u001b[39m \u001b[38;5;66;03m# create the selection\u001b[39;00m\n\u001b[32m-> \u001b[39m\u001b[32m4286\u001b[39m selection = \u001b[43mSelection\u001b[49m\u001b[43m(\u001b[49m\u001b[38;5;28;43mself\u001b[39;49m\u001b[43m,\u001b[49m\u001b[43m \u001b[49m\u001b[43mwhere\u001b[49m\u001b[43m=\u001b[49m\u001b[43mwhere\u001b[49m\u001b[43m,\u001b[49m\u001b[43m \u001b[49m\u001b[43mstart\u001b[49m\u001b[43m=\u001b[49m\u001b[43mstart\u001b[49m\u001b[43m,\u001b[49m\u001b[43m \u001b[49m\u001b[43mstop\u001b[49m\u001b[43m=\u001b[49m\u001b[43mstop\u001b[49m\u001b[43m)\u001b[49m\n\u001b[32m   4287\u001b[39m coords = selection.select_coords()\n\u001b[32m   4288\u001b[39m \u001b[38;5;28;01mif\u001b[39;00m selection.filter \u001b[38;5;129;01mis\u001b[39;00m \u001b[38;5;129;01mnot\u001b[39;00m \u001b[38;5;28;01mNone\u001b[39;00m:\n",
      "\u001b[36mFile \u001b[39m\u001b[32mE:\\UK-DALE\\.venv\\Lib\\site-packages\\pandas\\io\\pytables.py:5358\u001b[39m, in \u001b[36mSelection.__init__\u001b[39m\u001b[34m(self, table, where, start, stop)\u001b[39m\n\u001b[32m   5355\u001b[39m                 \u001b[38;5;28mself\u001b[39m.coordinates = where\n\u001b[32m   5357\u001b[39m \u001b[38;5;28;01mif\u001b[39;00m \u001b[38;5;28mself\u001b[39m.coordinates \u001b[38;5;129;01mis\u001b[39;00m \u001b[38;5;28;01mNone\u001b[39;00m:\n\u001b[32m-> \u001b[39m\u001b[32m5358\u001b[39m     \u001b[38;5;28mself\u001b[39m.terms = \u001b[38;5;28;43mself\u001b[39;49m\u001b[43m.\u001b[49m\u001b[43mgenerate\u001b[49m\u001b[43m(\u001b[49m\u001b[43mwhere\u001b[49m\u001b[43m)\u001b[49m\n\u001b[32m   5360\u001b[39m     \u001b[38;5;66;03m# create the numexpr & the filter\u001b[39;00m\n\u001b[32m   5361\u001b[39m     \u001b[38;5;28;01mif\u001b[39;00m \u001b[38;5;28mself\u001b[39m.terms \u001b[38;5;129;01mis\u001b[39;00m \u001b[38;5;129;01mnot\u001b[39;00m \u001b[38;5;28;01mNone\u001b[39;00m:\n",
      "\u001b[36mFile \u001b[39m\u001b[32mE:\\UK-DALE\\.venv\\Lib\\site-packages\\pandas\\io\\pytables.py:5371\u001b[39m, in \u001b[36mSelection.generate\u001b[39m\u001b[34m(self, where)\u001b[39m\n\u001b[32m   5369\u001b[39m q = \u001b[38;5;28mself\u001b[39m.table.queryables()\n\u001b[32m   5370\u001b[39m \u001b[38;5;28;01mtry\u001b[39;00m:\n\u001b[32m-> \u001b[39m\u001b[32m5371\u001b[39m     \u001b[38;5;28;01mreturn\u001b[39;00m \u001b[43mPyTablesExpr\u001b[49m\u001b[43m(\u001b[49m\u001b[43mwhere\u001b[49m\u001b[43m,\u001b[49m\u001b[43m \u001b[49m\u001b[43mqueryables\u001b[49m\u001b[43m=\u001b[49m\u001b[43mq\u001b[49m\u001b[43m,\u001b[49m\u001b[43m \u001b[49m\u001b[43mencoding\u001b[49m\u001b[43m=\u001b[49m\u001b[38;5;28;43mself\u001b[39;49m\u001b[43m.\u001b[49m\u001b[43mtable\u001b[49m\u001b[43m.\u001b[49m\u001b[43mencoding\u001b[49m\u001b[43m)\u001b[49m\n\u001b[32m   5372\u001b[39m \u001b[38;5;28;01mexcept\u001b[39;00m \u001b[38;5;167;01mNameError\u001b[39;00m \u001b[38;5;28;01mas\u001b[39;00m err:\n\u001b[32m   5373\u001b[39m     \u001b[38;5;66;03m# raise a nice message, suggesting that the user should use\u001b[39;00m\n\u001b[32m   5374\u001b[39m     \u001b[38;5;66;03m# data_columns\u001b[39;00m\n\u001b[32m   5375\u001b[39m     qkeys = \u001b[33m\"\u001b[39m\u001b[33m,\u001b[39m\u001b[33m\"\u001b[39m.join(q.keys())\n",
      "\u001b[36mFile \u001b[39m\u001b[32mE:\\UK-DALE\\.venv\\Lib\\site-packages\\pandas\\core\\computation\\pytables.py:610\u001b[39m, in \u001b[36mPyTablesExpr.__init__\u001b[39m\u001b[34m(self, where, queryables, encoding, scope_level)\u001b[39m\n\u001b[32m    602\u001b[39m \u001b[38;5;28mself\u001b[39m.env.queryables.update(queryables)\n\u001b[32m    603\u001b[39m \u001b[38;5;28mself\u001b[39m._visitor = PyTablesExprVisitor(\n\u001b[32m    604\u001b[39m     \u001b[38;5;28mself\u001b[39m.env,\n\u001b[32m    605\u001b[39m     queryables=queryables,\n\u001b[32m   (...)\u001b[39m\u001b[32m    608\u001b[39m     encoding=encoding,\n\u001b[32m    609\u001b[39m )\n\u001b[32m--> \u001b[39m\u001b[32m610\u001b[39m \u001b[38;5;28mself\u001b[39m.terms = \u001b[38;5;28;43mself\u001b[39;49m\u001b[43m.\u001b[49m\u001b[43mparse\u001b[49m\u001b[43m(\u001b[49m\u001b[43m)\u001b[49m\n",
      "\u001b[36mFile \u001b[39m\u001b[32mE:\\UK-DALE\\.venv\\Lib\\site-packages\\pandas\\core\\computation\\expr.py:824\u001b[39m, in \u001b[36mExpr.parse\u001b[39m\u001b[34m(self)\u001b[39m\n\u001b[32m    820\u001b[39m \u001b[38;5;28;01mdef\u001b[39;00m\u001b[38;5;250m \u001b[39m\u001b[34mparse\u001b[39m(\u001b[38;5;28mself\u001b[39m):\n\u001b[32m    821\u001b[39m \u001b[38;5;250m    \u001b[39m\u001b[33;03m\"\"\"\u001b[39;00m\n\u001b[32m    822\u001b[39m \u001b[33;03m    Parse an expression.\u001b[39;00m\n\u001b[32m    823\u001b[39m \u001b[33;03m    \"\"\"\u001b[39;00m\n\u001b[32m--> \u001b[39m\u001b[32m824\u001b[39m     \u001b[38;5;28;01mreturn\u001b[39;00m \u001b[38;5;28;43mself\u001b[39;49m\u001b[43m.\u001b[49m\u001b[43m_visitor\u001b[49m\u001b[43m.\u001b[49m\u001b[43mvisit\u001b[49m\u001b[43m(\u001b[49m\u001b[38;5;28;43mself\u001b[39;49m\u001b[43m.\u001b[49m\u001b[43mexpr\u001b[49m\u001b[43m)\u001b[49m\n",
      "\u001b[36mFile \u001b[39m\u001b[32mE:\\UK-DALE\\.venv\\Lib\\site-packages\\pandas\\core\\computation\\expr.py:411\u001b[39m, in \u001b[36mBaseExprVisitor.visit\u001b[39m\u001b[34m(self, node, **kwargs)\u001b[39m\n\u001b[32m    409\u001b[39m method = \u001b[33mf\u001b[39m\u001b[33m\"\u001b[39m\u001b[33mvisit_\u001b[39m\u001b[38;5;132;01m{\u001b[39;00m\u001b[38;5;28mtype\u001b[39m(node).\u001b[34m__name__\u001b[39m\u001b[38;5;132;01m}\u001b[39;00m\u001b[33m\"\u001b[39m\n\u001b[32m    410\u001b[39m visitor = \u001b[38;5;28mgetattr\u001b[39m(\u001b[38;5;28mself\u001b[39m, method)\n\u001b[32m--> \u001b[39m\u001b[32m411\u001b[39m \u001b[38;5;28;01mreturn\u001b[39;00m \u001b[43mvisitor\u001b[49m\u001b[43m(\u001b[49m\u001b[43mnode\u001b[49m\u001b[43m,\u001b[49m\u001b[43m \u001b[49m\u001b[43m*\u001b[49m\u001b[43m*\u001b[49m\u001b[43mkwargs\u001b[49m\u001b[43m)\u001b[49m\n",
      "\u001b[36mFile \u001b[39m\u001b[32mE:\\UK-DALE\\.venv\\Lib\\site-packages\\pandas\\core\\computation\\expr.py:417\u001b[39m, in \u001b[36mBaseExprVisitor.visit_Module\u001b[39m\u001b[34m(self, node, **kwargs)\u001b[39m\n\u001b[32m    415\u001b[39m     \u001b[38;5;28;01mraise\u001b[39;00m \u001b[38;5;167;01mSyntaxError\u001b[39;00m(\u001b[33m\"\u001b[39m\u001b[33monly a single expression is allowed\u001b[39m\u001b[33m\"\u001b[39m)\n\u001b[32m    416\u001b[39m expr = node.body[\u001b[32m0\u001b[39m]\n\u001b[32m--> \u001b[39m\u001b[32m417\u001b[39m \u001b[38;5;28;01mreturn\u001b[39;00m \u001b[38;5;28;43mself\u001b[39;49m\u001b[43m.\u001b[49m\u001b[43mvisit\u001b[49m\u001b[43m(\u001b[49m\u001b[43mexpr\u001b[49m\u001b[43m,\u001b[49m\u001b[43m \u001b[49m\u001b[43m*\u001b[49m\u001b[43m*\u001b[49m\u001b[43mkwargs\u001b[49m\u001b[43m)\u001b[49m\n",
      "\u001b[36mFile \u001b[39m\u001b[32mE:\\UK-DALE\\.venv\\Lib\\site-packages\\pandas\\core\\computation\\expr.py:411\u001b[39m, in \u001b[36mBaseExprVisitor.visit\u001b[39m\u001b[34m(self, node, **kwargs)\u001b[39m\n\u001b[32m    409\u001b[39m method = \u001b[33mf\u001b[39m\u001b[33m\"\u001b[39m\u001b[33mvisit_\u001b[39m\u001b[38;5;132;01m{\u001b[39;00m\u001b[38;5;28mtype\u001b[39m(node).\u001b[34m__name__\u001b[39m\u001b[38;5;132;01m}\u001b[39;00m\u001b[33m\"\u001b[39m\n\u001b[32m    410\u001b[39m visitor = \u001b[38;5;28mgetattr\u001b[39m(\u001b[38;5;28mself\u001b[39m, method)\n\u001b[32m--> \u001b[39m\u001b[32m411\u001b[39m \u001b[38;5;28;01mreturn\u001b[39;00m \u001b[43mvisitor\u001b[49m\u001b[43m(\u001b[49m\u001b[43mnode\u001b[49m\u001b[43m,\u001b[49m\u001b[43m \u001b[49m\u001b[43m*\u001b[49m\u001b[43m*\u001b[49m\u001b[43mkwargs\u001b[49m\u001b[43m)\u001b[49m\n",
      "\u001b[36mFile \u001b[39m\u001b[32mE:\\UK-DALE\\.venv\\Lib\\site-packages\\pandas\\core\\computation\\expr.py:420\u001b[39m, in \u001b[36mBaseExprVisitor.visit_Expr\u001b[39m\u001b[34m(self, node, **kwargs)\u001b[39m\n\u001b[32m    419\u001b[39m \u001b[38;5;28;01mdef\u001b[39;00m\u001b[38;5;250m \u001b[39m\u001b[34mvisit_Expr\u001b[39m(\u001b[38;5;28mself\u001b[39m, node, **kwargs):\n\u001b[32m--> \u001b[39m\u001b[32m420\u001b[39m     \u001b[38;5;28;01mreturn\u001b[39;00m \u001b[38;5;28;43mself\u001b[39;49m\u001b[43m.\u001b[49m\u001b[43mvisit\u001b[49m\u001b[43m(\u001b[49m\u001b[43mnode\u001b[49m\u001b[43m.\u001b[49m\u001b[43mvalue\u001b[49m\u001b[43m,\u001b[49m\u001b[43m \u001b[49m\u001b[43m*\u001b[49m\u001b[43m*\u001b[49m\u001b[43mkwargs\u001b[49m\u001b[43m)\u001b[49m\n",
      "\u001b[36mFile \u001b[39m\u001b[32mE:\\UK-DALE\\.venv\\Lib\\site-packages\\pandas\\core\\computation\\expr.py:411\u001b[39m, in \u001b[36mBaseExprVisitor.visit\u001b[39m\u001b[34m(self, node, **kwargs)\u001b[39m\n\u001b[32m    409\u001b[39m method = \u001b[33mf\u001b[39m\u001b[33m\"\u001b[39m\u001b[33mvisit_\u001b[39m\u001b[38;5;132;01m{\u001b[39;00m\u001b[38;5;28mtype\u001b[39m(node).\u001b[34m__name__\u001b[39m\u001b[38;5;132;01m}\u001b[39;00m\u001b[33m\"\u001b[39m\n\u001b[32m    410\u001b[39m visitor = \u001b[38;5;28mgetattr\u001b[39m(\u001b[38;5;28mself\u001b[39m, method)\n\u001b[32m--> \u001b[39m\u001b[32m411\u001b[39m \u001b[38;5;28;01mreturn\u001b[39;00m \u001b[43mvisitor\u001b[49m\u001b[43m(\u001b[49m\u001b[43mnode\u001b[49m\u001b[43m,\u001b[49m\u001b[43m \u001b[49m\u001b[43m*\u001b[49m\u001b[43m*\u001b[49m\u001b[43mkwargs\u001b[49m\u001b[43m)\u001b[49m\n",
      "\u001b[36mFile \u001b[39m\u001b[32mE:\\UK-DALE\\.venv\\Lib\\site-packages\\pandas\\core\\computation\\expr.py:742\u001b[39m, in \u001b[36mBaseExprVisitor.visit_BoolOp\u001b[39m\u001b[34m(self, node, **kwargs)\u001b[39m\n\u001b[32m    739\u001b[39m     \u001b[38;5;28;01mreturn\u001b[39;00m \u001b[38;5;28mself\u001b[39m._maybe_evaluate_binop(op, node.op, lhs, rhs)\n\u001b[32m    741\u001b[39m operands = node.values\n\u001b[32m--> \u001b[39m\u001b[32m742\u001b[39m \u001b[38;5;28;01mreturn\u001b[39;00m \u001b[43mreduce\u001b[49m\u001b[43m(\u001b[49m\u001b[43mvisitor\u001b[49m\u001b[43m,\u001b[49m\u001b[43m \u001b[49m\u001b[43moperands\u001b[49m\u001b[43m)\u001b[49m\n",
      "\u001b[36mFile \u001b[39m\u001b[32mE:\\UK-DALE\\.venv\\Lib\\site-packages\\pandas\\core\\computation\\expr.py:735\u001b[39m, in \u001b[36mBaseExprVisitor.visit_BoolOp.<locals>.visitor\u001b[39m\u001b[34m(x, y)\u001b[39m\n\u001b[32m    734\u001b[39m \u001b[38;5;28;01mdef\u001b[39;00m\u001b[38;5;250m \u001b[39m\u001b[34mvisitor\u001b[39m(x, y):\n\u001b[32m--> \u001b[39m\u001b[32m735\u001b[39m     lhs = \u001b[38;5;28;43mself\u001b[39;49m\u001b[43m.\u001b[49m\u001b[43m_try_visit_binop\u001b[49m\u001b[43m(\u001b[49m\u001b[43mx\u001b[49m\u001b[43m)\u001b[49m\n\u001b[32m    736\u001b[39m     rhs = \u001b[38;5;28mself\u001b[39m._try_visit_binop(y)\n\u001b[32m    738\u001b[39m     op, op_class, lhs, rhs = \u001b[38;5;28mself\u001b[39m._maybe_transform_eq_ne(node, lhs, rhs)\n",
      "\u001b[36mFile \u001b[39m\u001b[32mE:\\UK-DALE\\.venv\\Lib\\site-packages\\pandas\\core\\computation\\expr.py:731\u001b[39m, in \u001b[36mBaseExprVisitor._try_visit_binop\u001b[39m\u001b[34m(self, bop)\u001b[39m\n\u001b[32m    729\u001b[39m \u001b[38;5;28;01mif\u001b[39;00m \u001b[38;5;28misinstance\u001b[39m(bop, (Op, Term)):\n\u001b[32m    730\u001b[39m     \u001b[38;5;28;01mreturn\u001b[39;00m bop\n\u001b[32m--> \u001b[39m\u001b[32m731\u001b[39m \u001b[38;5;28;01mreturn\u001b[39;00m \u001b[38;5;28;43mself\u001b[39;49m\u001b[43m.\u001b[49m\u001b[43mvisit\u001b[49m\u001b[43m(\u001b[49m\u001b[43mbop\u001b[49m\u001b[43m)\u001b[49m\n",
      "\u001b[36mFile \u001b[39m\u001b[32mE:\\UK-DALE\\.venv\\Lib\\site-packages\\pandas\\core\\computation\\expr.py:411\u001b[39m, in \u001b[36mBaseExprVisitor.visit\u001b[39m\u001b[34m(self, node, **kwargs)\u001b[39m\n\u001b[32m    409\u001b[39m method = \u001b[33mf\u001b[39m\u001b[33m\"\u001b[39m\u001b[33mvisit_\u001b[39m\u001b[38;5;132;01m{\u001b[39;00m\u001b[38;5;28mtype\u001b[39m(node).\u001b[34m__name__\u001b[39m\u001b[38;5;132;01m}\u001b[39;00m\u001b[33m\"\u001b[39m\n\u001b[32m    410\u001b[39m visitor = \u001b[38;5;28mgetattr\u001b[39m(\u001b[38;5;28mself\u001b[39m, method)\n\u001b[32m--> \u001b[39m\u001b[32m411\u001b[39m \u001b[38;5;28;01mreturn\u001b[39;00m \u001b[43mvisitor\u001b[49m\u001b[43m(\u001b[49m\u001b[43mnode\u001b[49m\u001b[43m,\u001b[49m\u001b[43m \u001b[49m\u001b[43m*\u001b[49m\u001b[43m*\u001b[49m\u001b[43mkwargs\u001b[49m\u001b[43m)\u001b[49m\n",
      "\u001b[36mFile \u001b[39m\u001b[32mE:\\UK-DALE\\.venv\\Lib\\site-packages\\pandas\\core\\computation\\expr.py:715\u001b[39m, in \u001b[36mBaseExprVisitor.visit_Compare\u001b[39m\u001b[34m(self, node, **kwargs)\u001b[39m\n\u001b[32m    713\u001b[39m     op = \u001b[38;5;28mself\u001b[39m.translate_In(ops[\u001b[32m0\u001b[39m])\n\u001b[32m    714\u001b[39m     binop = ast.BinOp(op=op, left=node.left, right=comps[\u001b[32m0\u001b[39m])\n\u001b[32m--> \u001b[39m\u001b[32m715\u001b[39m     \u001b[38;5;28;01mreturn\u001b[39;00m \u001b[38;5;28;43mself\u001b[39;49m\u001b[43m.\u001b[49m\u001b[43mvisit\u001b[49m\u001b[43m(\u001b[49m\u001b[43mbinop\u001b[49m\u001b[43m)\u001b[49m\n\u001b[32m    717\u001b[39m \u001b[38;5;66;03m# recursive case: we have a chained comparison, a CMP b CMP c, etc.\u001b[39;00m\n\u001b[32m    718\u001b[39m left = node.left\n",
      "\u001b[36mFile \u001b[39m\u001b[32mE:\\UK-DALE\\.venv\\Lib\\site-packages\\pandas\\core\\computation\\expr.py:411\u001b[39m, in \u001b[36mBaseExprVisitor.visit\u001b[39m\u001b[34m(self, node, **kwargs)\u001b[39m\n\u001b[32m    409\u001b[39m method = \u001b[33mf\u001b[39m\u001b[33m\"\u001b[39m\u001b[33mvisit_\u001b[39m\u001b[38;5;132;01m{\u001b[39;00m\u001b[38;5;28mtype\u001b[39m(node).\u001b[34m__name__\u001b[39m\u001b[38;5;132;01m}\u001b[39;00m\u001b[33m\"\u001b[39m\n\u001b[32m    410\u001b[39m visitor = \u001b[38;5;28mgetattr\u001b[39m(\u001b[38;5;28mself\u001b[39m, method)\n\u001b[32m--> \u001b[39m\u001b[32m411\u001b[39m \u001b[38;5;28;01mreturn\u001b[39;00m \u001b[43mvisitor\u001b[49m\u001b[43m(\u001b[49m\u001b[43mnode\u001b[49m\u001b[43m,\u001b[49m\u001b[43m \u001b[49m\u001b[43m*\u001b[49m\u001b[43m*\u001b[49m\u001b[43mkwargs\u001b[49m\u001b[43m)\u001b[49m\n",
      "\u001b[36mFile \u001b[39m\u001b[32mE:\\UK-DALE\\.venv\\Lib\\site-packages\\pandas\\core\\computation\\expr.py:531\u001b[39m, in \u001b[36mBaseExprVisitor.visit_BinOp\u001b[39m\u001b[34m(self, node, **kwargs)\u001b[39m\n\u001b[32m    530\u001b[39m \u001b[38;5;28;01mdef\u001b[39;00m\u001b[38;5;250m \u001b[39m\u001b[34mvisit_BinOp\u001b[39m(\u001b[38;5;28mself\u001b[39m, node, **kwargs):\n\u001b[32m--> \u001b[39m\u001b[32m531\u001b[39m     op, op_class, left, right = \u001b[38;5;28;43mself\u001b[39;49m\u001b[43m.\u001b[49m\u001b[43m_maybe_transform_eq_ne\u001b[49m\u001b[43m(\u001b[49m\u001b[43mnode\u001b[49m\u001b[43m)\u001b[49m\n\u001b[32m    532\u001b[39m     left, right = \u001b[38;5;28mself\u001b[39m._maybe_downcast_constants(left, right)\n\u001b[32m    533\u001b[39m     \u001b[38;5;28;01mreturn\u001b[39;00m \u001b[38;5;28mself\u001b[39m._maybe_evaluate_binop(op, op_class, left, right)\n",
      "\u001b[36mFile \u001b[39m\u001b[32mE:\\UK-DALE\\.venv\\Lib\\site-packages\\pandas\\core\\computation\\expr.py:453\u001b[39m, in \u001b[36mBaseExprVisitor._maybe_transform_eq_ne\u001b[39m\u001b[34m(self, node, left, right)\u001b[39m\n\u001b[32m    451\u001b[39m     left = \u001b[38;5;28mself\u001b[39m.visit(node.left, side=\u001b[33m\"\u001b[39m\u001b[33mleft\u001b[39m\u001b[33m\"\u001b[39m)\n\u001b[32m    452\u001b[39m \u001b[38;5;28;01mif\u001b[39;00m right \u001b[38;5;129;01mis\u001b[39;00m \u001b[38;5;28;01mNone\u001b[39;00m:\n\u001b[32m--> \u001b[39m\u001b[32m453\u001b[39m     right = \u001b[38;5;28;43mself\u001b[39;49m\u001b[43m.\u001b[49m\u001b[43mvisit\u001b[49m\u001b[43m(\u001b[49m\u001b[43mnode\u001b[49m\u001b[43m.\u001b[49m\u001b[43mright\u001b[49m\u001b[43m,\u001b[49m\u001b[43m \u001b[49m\u001b[43mside\u001b[49m\u001b[43m=\u001b[49m\u001b[33;43m\"\u001b[39;49m\u001b[33;43mright\u001b[39;49m\u001b[33;43m\"\u001b[39;49m\u001b[43m)\u001b[49m\n\u001b[32m    454\u001b[39m op, op_class, left, right = \u001b[38;5;28mself\u001b[39m._rewrite_membership_op(node, left, right)\n\u001b[32m    455\u001b[39m \u001b[38;5;28;01mreturn\u001b[39;00m op, op_class, left, right\n",
      "\u001b[36mFile \u001b[39m\u001b[32mE:\\UK-DALE\\.venv\\Lib\\site-packages\\pandas\\core\\computation\\expr.py:411\u001b[39m, in \u001b[36mBaseExprVisitor.visit\u001b[39m\u001b[34m(self, node, **kwargs)\u001b[39m\n\u001b[32m    409\u001b[39m method = \u001b[33mf\u001b[39m\u001b[33m\"\u001b[39m\u001b[33mvisit_\u001b[39m\u001b[38;5;132;01m{\u001b[39;00m\u001b[38;5;28mtype\u001b[39m(node).\u001b[34m__name__\u001b[39m\u001b[38;5;132;01m}\u001b[39;00m\u001b[33m\"\u001b[39m\n\u001b[32m    410\u001b[39m visitor = \u001b[38;5;28mgetattr\u001b[39m(\u001b[38;5;28mself\u001b[39m, method)\n\u001b[32m--> \u001b[39m\u001b[32m411\u001b[39m \u001b[38;5;28;01mreturn\u001b[39;00m \u001b[43mvisitor\u001b[49m\u001b[43m(\u001b[49m\u001b[43mnode\u001b[49m\u001b[43m,\u001b[49m\u001b[43m \u001b[49m\u001b[43m*\u001b[49m\u001b[43m*\u001b[49m\u001b[43mkwargs\u001b[49m\u001b[43m)\u001b[49m\n",
      "\u001b[36mFile \u001b[39m\u001b[32mE:\\UK-DALE\\.venv\\Lib\\site-packages\\pandas\\core\\computation\\pytables.py:496\u001b[39m, in \u001b[36mPyTablesExprVisitor.visit_Attribute\u001b[39m\u001b[34m(self, node, **kwargs)\u001b[39m\n\u001b[32m    493\u001b[39m         \u001b[38;5;28;01mif\u001b[39;00m \u001b[38;5;28misinstance\u001b[39m(value, ast.Name) \u001b[38;5;129;01mand\u001b[39;00m value.id == attr:\n\u001b[32m    494\u001b[39m             \u001b[38;5;28;01mreturn\u001b[39;00m resolved\n\u001b[32m--> \u001b[39m\u001b[32m496\u001b[39m \u001b[38;5;28;01mraise\u001b[39;00m \u001b[38;5;167;01mValueError\u001b[39;00m(\u001b[33mf\u001b[39m\u001b[33m\"\u001b[39m\u001b[33mInvalid Attribute context \u001b[39m\u001b[38;5;132;01m{\u001b[39;00mctx.\u001b[34m__name__\u001b[39m\u001b[38;5;132;01m}\u001b[39;00m\u001b[33m\"\u001b[39m)\n",
      "\u001b[31mValueError\u001b[39m: Invalid Attribute context Load"
     ]
    }
   ],
   "source": [
    "redd_res = nilmtk.api.API(experiment1)"
   ]
  },
  {
   "cell_type": "code",
   "execution_count": null,
   "id": "cef61809-8450-4b5f-9bf6-88be28a2a533",
   "metadata": {},
   "outputs": [],
   "source": []
  }
 ],
 "metadata": {
  "kernelspec": {
   "display_name": "Python 3 (ipykernel)",
   "language": "python",
   "name": "python3"
  },
  "language_info": {
   "codemirror_mode": {
    "name": "ipython",
    "version": 3
   },
   "file_extension": ".py",
   "mimetype": "text/x-python",
   "name": "python",
   "nbconvert_exporter": "python",
   "pygments_lexer": "ipython3",
   "version": "3.12.11"
  }
 },
 "nbformat": 4,
 "nbformat_minor": 5
}
