{
 "cells": [
  {
   "cell_type": "code",
   "execution_count": 1,
   "id": "ce2293af-e0bf-45f8-88a7-124ba18bd1cd",
   "metadata": {},
   "outputs": [],
   "source": [
    "import nilmtk"
   ]
  },
  {
   "cell_type": "code",
   "execution_count": 2,
   "id": "9bd468f8-2529-4010-a5df-955a01125ec1",
   "metadata": {},
   "outputs": [],
   "source": [
    "# Create object for ukdale\n",
    "redd = nilmtk.DataSet(\"redd.h5\")"
   ]
  },
  {
   "cell_type": "code",
   "execution_count": 3,
   "id": "2884f764-9cb2-4fc4-ad77-66e34920ab68",
   "metadata": {},
   "outputs": [],
   "source": [
    "# Create object for house data\n",
    "house_data = redd.buildings[1].elec"
   ]
  },
  {
   "cell_type": "code",
   "execution_count": 4,
   "id": "b2e30e04-7a84-478b-a121-a97b87dc70bc",
   "metadata": {},
   "outputs": [
    {
     "data": {
      "text/plain": [
       "MeterGroup(meters=\n",
       "  ElecMeter(instance=1, building=1, dataset='REDD', site_meter, appliances=[])\n",
       "  ElecMeter(instance=2, building=1, dataset='REDD', site_meter, appliances=[])\n",
       ")"
      ]
     },
     "execution_count": 4,
     "metadata": {},
     "output_type": "execute_result"
    }
   ],
   "source": [
    "house_data.mains()"
   ]
  },
  {
   "cell_type": "code",
   "execution_count": null,
   "id": "bb44a14a-57a7-4f94-a3c6-05596f1f52a2",
   "metadata": {},
   "outputs": [],
   "source": [
    "house_data.mains()[1].power_series_all_data().plot.line()"
   ]
  },
  {
   "cell_type": "code",
   "execution_count": 6,
   "id": "cc30a8bd-a592-414f-ab62-b065deb82d9f",
   "metadata": {},
   "outputs": [
    {
     "data": {
      "text/plain": [
       "['apparent', 'active']"
      ]
     },
     "execution_count": 6,
     "metadata": {},
     "output_type": "execute_result"
    }
   ],
   "source": [
    "house_data.available_ac_types('power')"
   ]
  },
  {
   "cell_type": "code",
   "execution_count": 7,
   "id": "571a984b-0bce-4424-a117-4124c1005537",
   "metadata": {},
   "outputs": [
    {
     "data": {
      "text/plain": [
       "['active']"
      ]
     },
     "execution_count": 7,
     "metadata": {},
     "output_type": "execute_result"
    }
   ],
   "source": [
    "house_data.submeters().available_ac_types('power')"
   ]
  },
  {
   "cell_type": "code",
   "execution_count": 8,
   "id": "48065f50-c850-446d-bd39-85dbe272d9d8",
   "metadata": {},
   "outputs": [
    {
     "data": {
      "text/plain": [
       "MeterGroup(meters=\n",
       "  ElecMeter(instance=5, building=1, dataset='REDD', appliances=[Appliance(type='fridge', instance=1)])\n",
       "  ElecMeter(instance=6, building=1, dataset='REDD', appliances=[Appliance(type='dish washer', instance=1)])\n",
       "  ElecMeter(instance=7, building=1, dataset='REDD', appliances=[Appliance(type='sockets', instance=1)])\n",
       "  ElecMeter(instance=8, building=1, dataset='REDD', appliances=[Appliance(type='sockets', instance=2)])\n",
       "  ElecMeter(instance=9, building=1, dataset='REDD', appliances=[Appliance(type='light', instance=1)])\n",
       "  ElecMeter(instance=11, building=1, dataset='REDD', appliances=[Appliance(type='microwave', instance=1)])\n",
       "  ElecMeter(instance=12, building=1, dataset='REDD', appliances=[Appliance(type='unknown', instance=1)])\n",
       "  ElecMeter(instance=13, building=1, dataset='REDD', appliances=[Appliance(type='electric space heater', instance=1)])\n",
       "  ElecMeter(instance=14, building=1, dataset='REDD', appliances=[Appliance(type='electric stove', instance=1)])\n",
       "  ElecMeter(instance=15, building=1, dataset='REDD', appliances=[Appliance(type='sockets', instance=3)])\n",
       "  ElecMeter(instance=16, building=1, dataset='REDD', appliances=[Appliance(type='sockets', instance=4)])\n",
       "  ElecMeter(instance=17, building=1, dataset='REDD', appliances=[Appliance(type='light', instance=2)])\n",
       "  ElecMeter(instance=18, building=1, dataset='REDD', appliances=[Appliance(type='light', instance=3)])\n",
       "  ElecMeter(instance=19, building=1, dataset='REDD', appliances=[Appliance(type='unknown', instance=2)])\n",
       "  MeterGroup(meters=\n",
       "    ElecMeter(instance=3, building=1, dataset='REDD', appliances=[Appliance(type='electric oven', instance=1)])\n",
       "    ElecMeter(instance=4, building=1, dataset='REDD', appliances=[Appliance(type='electric oven', instance=1)])\n",
       "  )\n",
       "  MeterGroup(meters=\n",
       "    ElecMeter(instance=10, building=1, dataset='REDD', appliances=[Appliance(type='washer dryer', instance=1)])\n",
       "    ElecMeter(instance=20, building=1, dataset='REDD', appliances=[Appliance(type='washer dryer', instance=1)])\n",
       "  )\n",
       ")"
      ]
     },
     "execution_count": 8,
     "metadata": {},
     "output_type": "execute_result"
    }
   ],
   "source": [
    "house_data.submeters()"
   ]
  },
  {
   "cell_type": "code",
   "execution_count": 10,
   "id": "f62819de-0d4d-4416-845f-a21699228e23",
   "metadata": {
    "scrolled": true
   },
   "outputs": [
    {
     "name": "stdout",
     "output_type": "stream",
     "text": [
      "Loading data for meter ElecMeterID(instance=3, building=1, dataset='REDD')     "
     ]
    },
    {
     "name": "stderr",
     "output_type": "stream",
     "text": [
      "C:\\Users\\nhw120\\Desktop\\tsetlin.py\\dataset\\.venv\\Lib\\site-packages\\nilmtk\\utils.py:338: FutureWarning: 'S' is deprecated and will be removed in a future version, please use 's' instead.\n",
      "  resampled = series.resample(freq).mean()\n",
      "C:\\Users\\nhw120\\Desktop\\tsetlin.py\\dataset\\.venv\\Lib\\site-packages\\nilmtk\\metergroup.py:718: FutureWarning: 'S' is deprecated and will be removed in a future version, please use 's' instead.\n",
      "  index = pd.date_range(\n",
      "C:\\Users\\nhw120\\Desktop\\tsetlin.py\\dataset\\.venv\\Lib\\site-packages\\nilmtk\\utils.py:501: FutureWarning: 'S' is deprecated and will be removed in a future version, please use 's' instead.\n",
      "  return fill_method(how(data.resample(rule, **resample_kwargs)))\n"
     ]
    },
    {
     "name": "stdout",
     "output_type": "stream",
     "text": [
      "Loading data for meter ElecMeterID(instance=4, building=1, dataset='REDD')     "
     ]
    },
    {
     "name": "stderr",
     "output_type": "stream",
     "text": [
      "C:\\Users\\nhw120\\Desktop\\tsetlin.py\\dataset\\.venv\\Lib\\site-packages\\nilmtk\\utils.py:501: FutureWarning: 'S' is deprecated and will be removed in a future version, please use 's' instead.\n",
      "  return fill_method(how(data.resample(rule, **resample_kwargs)))\n"
     ]
    },
    {
     "name": "stdout",
     "output_type": "stream",
     "text": [
      "\n",
      "Done loading data all meters for this chunk.\n",
      "Loading data for meter ElecMeterID(instance=10, building=1, dataset='REDD')     "
     ]
    },
    {
     "name": "stderr",
     "output_type": "stream",
     "text": [
      "C:\\Users\\nhw120\\Desktop\\tsetlin.py\\dataset\\.venv\\Lib\\site-packages\\nilmtk\\utils.py:338: FutureWarning: 'S' is deprecated and will be removed in a future version, please use 's' instead.\n",
      "  resampled = series.resample(freq).mean()\n",
      "C:\\Users\\nhw120\\Desktop\\tsetlin.py\\dataset\\.venv\\Lib\\site-packages\\nilmtk\\metergroup.py:718: FutureWarning: 'S' is deprecated and will be removed in a future version, please use 's' instead.\n",
      "  index = pd.date_range(\n",
      "C:\\Users\\nhw120\\Desktop\\tsetlin.py\\dataset\\.venv\\Lib\\site-packages\\nilmtk\\utils.py:501: FutureWarning: 'S' is deprecated and will be removed in a future version, please use 's' instead.\n",
      "  return fill_method(how(data.resample(rule, **resample_kwargs)))\n"
     ]
    },
    {
     "name": "stdout",
     "output_type": "stream",
     "text": [
      "Loading data for meter ElecMeterID(instance=20, building=1, dataset='REDD')     "
     ]
    },
    {
     "name": "stderr",
     "output_type": "stream",
     "text": [
      "C:\\Users\\nhw120\\Desktop\\tsetlin.py\\dataset\\.venv\\Lib\\site-packages\\nilmtk\\utils.py:501: FutureWarning: 'S' is deprecated and will be removed in a future version, please use 's' instead.\n",
      "  return fill_method(how(data.resample(rule, **resample_kwargs)))\n"
     ]
    },
    {
     "name": "stdout",
     "output_type": "stream",
     "text": [
      "\n",
      "Done loading data all meters for this chunk.\n"
     ]
    },
    {
     "data": {
      "text/plain": [
       "<Axes: >"
      ]
     },
     "execution_count": 10,
     "metadata": {},
     "output_type": "execute_result"
    },
    {
     "data": {
      "image/png": "[encoded data removed]",
      "text/plain": [
       "<Figure size 640x480 with 1 Axes>"
      ]
     },
     "metadata": {},
     "output_type": "display_data"
    }
   ],
   "source": [
    "house_data.plot_when_on(on_power_threshold = 40)"
   ]
  },
  {
   "cell_type": "markdown",
   "id": "bd1146ee-0041-427e-b671-389cf150a275",
   "metadata": {},
   "source": [
    "## Fridge"
   ]
  },
  {
   "cell_type": "code",
   "execution_count": 11,
   "id": "296161d0-b0d5-44b1-b57f-a3647d4c779c",
   "metadata": {},
   "outputs": [],
   "source": [
    "main_meter = house_data.mains()[1]"
   ]
  },
  {
   "cell_type": "code",
   "execution_count": 12,
   "id": "70a7ce80-d2b6-4c0b-b16c-22e6ddcf45ab",
   "metadata": {},
   "outputs": [],
   "source": [
    "fridge = house_data['fridge']"
   ]
  },
  {
   "cell_type": "code",
   "execution_count": 13,
   "id": "00ed09cf-2bfd-45f0-bb59-1eeadea81a9f",
   "metadata": {
    "scrolled": true
   },
   "outputs": [
    {
     "name": "stderr",
     "output_type": "stream",
     "text": [
      "C:\\Users\\nhw120\\Desktop\\tsetlin.py\\dataset\\.venv\\Lib\\site-packages\\nilmtk\\results.py:77: FutureWarning: The behavior of array concatenation with empty entries is deprecated. In a future version, this will no longer exclude empty items when determining the result dtype. To retain the old behavior, exclude the empty entries before the concat operation.\n",
      "  self._data = pd.concat([self._data, row], verify_integrity=True, sort=False)\n",
      "C:\\Users\\nhw120\\Desktop\\tsetlin.py\\dataset\\.venv\\Lib\\site-packages\\nilmtk\\results.py:77: FutureWarning: The behavior of DataFrame concatenation with empty or all-NA entries is deprecated. In a future version, this will no longer exclude empty or all-NA columns when determining the result dtypes. To retain the old behavior, exclude the relevant entries before the concat operation.\n",
      "  self._data = pd.concat([self._data, row], verify_integrity=True, sort=False)\n",
      "C:\\Users\\nhw120\\Desktop\\tsetlin.py\\dataset\\.venv\\Lib\\site-packages\\nilmtk\\results.py:108: FutureWarning: The behavior of array concatenation with empty entries is deprecated. In a future version, this will no longer exclude empty items when determining the result dtype. To retain the old behavior, exclude the empty entries before the concat operation.\n",
      "  self._data = pd.concat([self._data, new_result._data], sort=False)\n",
      "C:\\Users\\nhw120\\Desktop\\tsetlin.py\\dataset\\.venv\\Lib\\site-packages\\nilmtk\\results.py:108: FutureWarning: The behavior of DataFrame concatenation with empty or all-NA entries is deprecated. In a future version, this will no longer exclude empty or all-NA columns when determining the result dtypes. To retain the old behavior, exclude the relevant entries before the concat operation.\n",
      "  self._data = pd.concat([self._data, new_result._data], sort=False)\n",
      "C:\\Users\\nhw120\\Desktop\\tsetlin.py\\dataset\\.venv\\Lib\\site-packages\\nilmtk\\stats\\totalenergyresults.py:42: FutureWarning: errors='ignore' is deprecated and will raise in a future version. Use to_numeric without passing `errors` and catch exceptions explicitly instead\n",
      "  return self._data.fillna(0).apply(pd.to_numeric, errors='ignore')\n"
     ]
    },
    {
     "data": {
      "text/plain": [
       "active    44.750925\n",
       "dtype: float64"
      ]
     },
     "execution_count": 13,
     "metadata": {},
     "output_type": "execute_result"
    }
   ],
   "source": [
    "fridge.total_energy()"
   ]
  },
  {
   "cell_type": "code",
   "execution_count": 14,
   "id": "4084af1b-eab2-43f9-a659-d3b683521f1a",
   "metadata": {},
   "outputs": [
    {
     "name": "stderr",
     "output_type": "stream",
     "text": [
      "C:\\Users\\nhw120\\Desktop\\tsetlin.py\\dataset\\.venv\\Lib\\site-packages\\nilmtk\\results.py:77: FutureWarning: The behavior of array concatenation with empty entries is deprecated. In a future version, this will no longer exclude empty items when determining the result dtype. To retain the old behavior, exclude the empty entries before the concat operation.\n",
      "  self._data = pd.concat([self._data, row], verify_integrity=True, sort=False)\n",
      "C:\\Users\\nhw120\\Desktop\\tsetlin.py\\dataset\\.venv\\Lib\\site-packages\\nilmtk\\results.py:77: FutureWarning: The behavior of DataFrame concatenation with empty or all-NA entries is deprecated. In a future version, this will no longer exclude empty or all-NA columns when determining the result dtypes. To retain the old behavior, exclude the relevant entries before the concat operation.\n",
      "  self._data = pd.concat([self._data, row], verify_integrity=True, sort=False)\n",
      "C:\\Users\\nhw120\\Desktop\\tsetlin.py\\dataset\\.venv\\Lib\\site-packages\\nilmtk\\results.py:108: FutureWarning: The behavior of array concatenation with empty entries is deprecated. In a future version, this will no longer exclude empty items when determining the result dtype. To retain the old behavior, exclude the empty entries before the concat operation.\n",
      "  self._data = pd.concat([self._data, new_result._data], sort=False)\n",
      "C:\\Users\\nhw120\\Desktop\\tsetlin.py\\dataset\\.venv\\Lib\\site-packages\\nilmtk\\results.py:108: FutureWarning: The behavior of DataFrame concatenation with empty or all-NA entries is deprecated. In a future version, this will no longer exclude empty or all-NA columns when determining the result dtypes. To retain the old behavior, exclude the relevant entries before the concat operation.\n",
      "  self._data = pd.concat([self._data, new_result._data], sort=False)\n",
      "C:\\Users\\nhw120\\Desktop\\tsetlin.py\\dataset\\.venv\\Lib\\site-packages\\nilmtk\\stats\\totalenergyresults.py:42: FutureWarning: errors='ignore' is deprecated and will raise in a future version. Use to_numeric without passing `errors` and catch exceptions explicitly instead\n",
      "  return self._data.fillna(0).apply(pd.to_numeric, errors='ignore')\n"
     ]
    },
    {
     "data": {
      "text/plain": [
       "apparent    99.271439\n",
       "dtype: float64"
      ]
     },
     "execution_count": 14,
     "metadata": {},
     "output_type": "execute_result"
    }
   ],
   "source": [
    "main_meter.total_energy()"
   ]
  },
  {
   "cell_type": "code",
   "execution_count": 15,
   "id": "9ecc48e8-1ab8-47f7-b088-f318bc0a9fb7",
   "metadata": {},
   "outputs": [
    {
     "data": {
      "text/plain": [
       "{'submeter_of': 0,\n",
       " 'device_model': 'eMonitor',\n",
       " 'data_location': '/building1/elec/meter5',\n",
       " 'device': {'model': 'eMonitor',\n",
       "  'manufacturer': 'Powerhouse Dynamics',\n",
       "  'manufacturer_url': 'http://powerhousedynamics.com',\n",
       "  'description': 'Measures circuit-level power demand.  Comes with 24 CTs. This FAQ page suggests the eMonitor measures real (active) power: http://www.energycircle.com/node/14103  although the REDD readme.txt says all channels record apparent power.\\n',\n",
       "  'sample_period': 3,\n",
       "  'max_sample_period': 50,\n",
       "  'measurements': [{'physical_quantity': 'power',\n",
       "    'type': 'active',\n",
       "    'upper_limit': 5000,\n",
       "    'lower_limit': 0}],\n",
       "  'wireless': False}}"
      ]
     },
     "execution_count": 15,
     "metadata": {},
     "output_type": "execute_result"
    }
   ],
   "source": [
    "fridge.metadata"
   ]
  },
  {
   "cell_type": "code",
   "execution_count": 16,
   "id": "8580d36f-66b2-4526-9a86-5be5fad50fa7",
   "metadata": {},
   "outputs": [
    {
     "name": "stderr",
     "output_type": "stream",
     "text": [
      "C:\\Users\\nhw120\\Desktop\\tsetlin.py\\dataset\\.venv\\Lib\\site-packages\\nilmtk\\utils.py:501: FutureWarning: 'S' is deprecated and will be removed in a future version, please use 's' instead.\n",
      "  return fill_method(how(data.resample(rule, **resample_kwargs)))\n"
     ]
    },
    {
     "data": {
      "text/plain": [
       "<Axes: ylabel='Power (W)'>"
      ]
     },
     "execution_count": 16,
     "metadata": {},
     "output_type": "execute_result"
    },
    {
     "data": {
      "image/png": "[encoded data removed]",
      "text/plain": [
       "<Figure size 640x480 with 1 Axes>"
      ]
     },
     "metadata": {},
     "output_type": "display_data"
    }
   ],
   "source": [
    "fridge.plot()"
   ]
  },
  {
   "cell_type": "code",
   "execution_count": 17,
   "id": "e5ffd2f9-0591-441d-a930-94e9e1a91877",
   "metadata": {},
   "outputs": [
    {
     "data": {
      "text/plain": [
       "2011-04-18 09:22:13-04:00      6.0\n",
       "2011-04-18 09:22:16-04:00      6.0\n",
       "2011-04-18 09:22:20-04:00      6.0\n",
       "2011-04-18 09:22:23-04:00      6.0\n",
       "2011-04-18 09:22:26-04:00      6.0\n",
       "                             ...  \n",
       "2011-05-24 15:56:20-04:00    186.0\n",
       "2011-05-24 15:56:23-04:00    187.0\n",
       "2011-05-24 15:56:27-04:00    190.0\n",
       "2011-05-24 15:56:30-04:00    189.0\n",
       "2011-05-24 15:56:34-04:00    186.0\n",
       "Name: (power, active), Length: 745878, dtype: float32"
      ]
     },
     "execution_count": 17,
     "metadata": {},
     "output_type": "execute_result"
    }
   ],
   "source": [
    "fridge.power_series_all_data()"
   ]
  },
  {
   "cell_type": "markdown",
   "id": "bc298ad6-0fdd-4f4d-ba82-7c1f7cc70bc4",
   "metadata": {},
   "source": [
    "## Bug (Python 3.12)"
   ]
  },
  {
   "cell_type": "code",
   "execution_count": 16,
   "id": "afdfc190-5ebb-4394-b623-5218ef6d8fa0",
   "metadata": {},
   "outputs": [],
   "source": [
    "# from nilmtk.timeframe import TimeFrame"
   ]
  },
  {
   "cell_type": "code",
   "execution_count": 14,
   "id": "947988cf-9eb8-42b3-8f00-d29907cad896",
   "metadata": {},
   "outputs": [
    {
     "name": "stdout",
     "output_type": "stream",
     "text": [
      "2011-04-18 09:22:13-04:00      6.0\n",
      "2011-04-18 09:22:16-04:00      6.0\n",
      "2011-04-18 09:22:20-04:00      6.0\n",
      "2011-04-18 09:22:23-04:00      6.0\n",
      "2011-04-18 09:22:26-04:00      6.0\n",
      "                             ...  \n",
      "2011-05-24 15:56:20-04:00    186.0\n",
      "2011-05-24 15:56:23-04:00    187.0\n",
      "2011-05-24 15:56:27-04:00    190.0\n",
      "2011-05-24 15:56:30-04:00    189.0\n",
      "2011-05-24 15:56:34-04:00    186.0\n",
      "Name: (power, active), Length: 745878, dtype: float32\n"
     ]
    }
   ],
   "source": [
    "# for data in fridge.power_series():\n",
    "#     print(data)"
   ]
  },
  {
   "cell_type": "code",
   "execution_count": 31,
   "id": "bd9f9584-befd-4307-b606-36a9eefa8767",
   "metadata": {},
   "outputs": [],
   "source": [
    "# kw = {'sections': [TimeFrame(start='2011-04-18 09:22:13-04:00', end='2011-05-24 15:56:34-04:00')], 'sample_period': 3918, 'resample': True}"
   ]
  },
  {
   "cell_type": "code",
   "execution_count": 29,
   "id": "84b14a26-9fe6-43c5-8710-ba49ccc1ab8f",
   "metadata": {},
   "outputs": [],
   "source": [
    "# kw = {'sample_period': 3918, 'resample': True}"
   ]
  },
  {
   "cell_type": "code",
   "execution_count": 32,
   "id": "d8553ddb-e90d-498f-b4b6-81d98e70ec71",
   "metadata": {
    "scrolled": true
   },
   "outputs": [
    {
     "ename": "ValueError",
     "evalue": "Invalid Attribute context Load",
     "output_type": "error",
     "traceback": [
      "\u001b[31m---------------------------------------------------------------------------\u001b[39m",
      "\u001b[31mValueError\u001b[39m                                Traceback (most recent call last)",
      "\u001b[36mCell\u001b[39m\u001b[36m \u001b[39m\u001b[32mIn[32]\u001b[39m\u001b[32m, line 1\u001b[39m\n\u001b[32m----> \u001b[39m\u001b[32m1\u001b[39m \u001b[38;5;28;43;01mfor\u001b[39;49;00m\u001b[43m \u001b[49m\u001b[43mdata\u001b[49m\u001b[43m \u001b[49m\u001b[38;5;129;43;01min\u001b[39;49;00m\u001b[43m \u001b[49m\u001b[43mfridge\u001b[49m\u001b[43m.\u001b[49m\u001b[43mpower_series\u001b[49m\u001b[43m(\u001b[49m\u001b[43m*\u001b[49m\u001b[43m*\u001b[49m\u001b[43mkw\u001b[49m\u001b[43m)\u001b[49m\u001b[43m:\u001b[49m\n\u001b[32m      2\u001b[39m \u001b[43m    \u001b[49m\u001b[38;5;28;43mprint\u001b[39;49m\u001b[43m(\u001b[49m\u001b[43mdata\u001b[49m\u001b[43m)\u001b[49m\n",
      "\u001b[36mFile \u001b[39m\u001b[32m~\\Desktop\\tsetlin.py\\.venv\\Lib\\site-packages\\nilmtk\\electric.py:629\u001b[39m, in \u001b[36mElectric.load_series\u001b[39m\u001b[34m(self, **kwargs)\u001b[39m\n\u001b[32m    627\u001b[39m physical_quantity = kwargs[\u001b[33m'\u001b[39m\u001b[33mphysical_quantity\u001b[39m\u001b[33m'\u001b[39m]\n\u001b[32m    628\u001b[39m generator = \u001b[38;5;28mself\u001b[39m.load(**kwargs)\n\u001b[32m--> \u001b[39m\u001b[32m629\u001b[39m \u001b[43m\u001b[49m\u001b[38;5;28;43;01mfor\u001b[39;49;00m\u001b[43m \u001b[49m\u001b[43mchunk\u001b[49m\u001b[43m \u001b[49m\u001b[38;5;129;43;01min\u001b[39;49;00m\u001b[43m \u001b[49m\u001b[43mgenerator\u001b[49m\u001b[43m:\u001b[49m\n\u001b[32m    630\u001b[39m \u001b[43m    \u001b[49m\u001b[38;5;28;43;01mif\u001b[39;49;00m\u001b[43m \u001b[49m\u001b[43mchunk\u001b[49m\u001b[43m.\u001b[49m\u001b[43mempty\u001b[49m\u001b[43m:\u001b[49m\n\u001b[32m    631\u001b[39m \u001b[43m        \u001b[49m\u001b[38;5;28;43;01myield\u001b[39;49;00m\u001b[43m \u001b[49m\u001b[43mchunk\u001b[49m\n",
      "\u001b[36mFile \u001b[39m\u001b[32m~\\Desktop\\tsetlin.py\\.venv\\Lib\\site-packages\\nilmtk\\preprocessing\\apply.py:13\u001b[39m, in \u001b[36mApply.process\u001b[39m\u001b[34m(self)\u001b[39m\n\u001b[32m     11\u001b[39m \u001b[38;5;28;01mdef\u001b[39;00m\u001b[38;5;250m \u001b[39m\u001b[34mprocess\u001b[39m(\u001b[38;5;28mself\u001b[39m):\n\u001b[32m     12\u001b[39m     \u001b[38;5;28mself\u001b[39m.check_requirements()\n\u001b[32m---> \u001b[39m\u001b[32m13\u001b[39m \u001b[43m    \u001b[49m\u001b[38;5;28;43;01mfor\u001b[39;49;00m\u001b[43m \u001b[49m\u001b[43mchunk\u001b[49m\u001b[43m \u001b[49m\u001b[38;5;129;43;01min\u001b[39;49;00m\u001b[43m \u001b[49m\u001b[38;5;28;43mself\u001b[39;49m\u001b[43m.\u001b[49m\u001b[43mupstream\u001b[49m\u001b[43m.\u001b[49m\u001b[43mprocess\u001b[49m\u001b[43m(\u001b[49m\u001b[43m)\u001b[49m\u001b[43m:\u001b[49m\n\u001b[32m     14\u001b[39m \u001b[43m        \u001b[49m\u001b[43mnew_chunk\u001b[49m\u001b[43m \u001b[49m\u001b[43m=\u001b[49m\u001b[43m \u001b[49m\u001b[38;5;28;43mself\u001b[39;49m\u001b[43m.\u001b[49m\u001b[43mfunc\u001b[49m\u001b[43m(\u001b[49m\u001b[43mchunk\u001b[49m\u001b[43m)\u001b[49m\n\u001b[32m     15\u001b[39m \u001b[43m        \u001b[49m\u001b[43mnew_chunk\u001b[49m\u001b[43m.\u001b[49m\u001b[43mtimeframe\u001b[49m\u001b[43m \u001b[49m\u001b[43m=\u001b[49m\u001b[43m \u001b[49m\u001b[43mchunk\u001b[49m\u001b[43m.\u001b[49m\u001b[43mtimeframe\u001b[49m\n",
      "\u001b[36mFile \u001b[39m\u001b[32m~\\Desktop\\tsetlin.py\\.venv\\Lib\\site-packages\\nilmtk\\datastore\\hdfdatastore.py:84\u001b[39m, in \u001b[36mHDFDataStore.load\u001b[39m\u001b[34m(self, key, columns, sections, n_look_ahead_rows, chunksize, verbose)\u001b[39m\n\u001b[32m     82\u001b[39m \u001b[38;5;28;01melse\u001b[39;00m:\n\u001b[32m     83\u001b[39m     \u001b[38;5;28;01mtry\u001b[39;00m:\n\u001b[32m---> \u001b[39m\u001b[32m84\u001b[39m         coords = \u001b[38;5;28;43mself\u001b[39;49m\u001b[43m.\u001b[49m\u001b[43mstore\u001b[49m\u001b[43m.\u001b[49m\u001b[43mselect_as_coordinates\u001b[49m\u001b[43m(\u001b[49m\u001b[43mkey\u001b[49m\u001b[43m=\u001b[49m\u001b[43mkey\u001b[49m\u001b[43m,\u001b[49m\u001b[43m \u001b[49m\u001b[43mwhere\u001b[49m\u001b[43m=\u001b[49m\u001b[43mterms\u001b[49m\u001b[43m)\u001b[49m\n\u001b[32m     85\u001b[39m     \u001b[38;5;28;01mexcept\u001b[39;00m \u001b[38;5;167;01mAttributeError\u001b[39;00m \u001b[38;5;28;01mas\u001b[39;00m e:\n\u001b[32m     86\u001b[39m         \u001b[38;5;28;01mif\u001b[39;00m \u001b[38;5;28mstr\u001b[39m(e) == (\u001b[33m\"\u001b[39m\u001b[33m'\u001b[39m\u001b[33mNoneType\u001b[39m\u001b[33m'\u001b[39m\u001b[33m object has no attribute \u001b[39m\u001b[33m\"\u001b[39m\n\u001b[32m     87\u001b[39m                       \u001b[33m\"\u001b[39m\u001b[33m'\u001b[39m\u001b[33mread_coordinates\u001b[39m\u001b[33m'\u001b[39m\u001b[33m\"\u001b[39m):\n",
      "\u001b[36mFile \u001b[39m\u001b[32m~\\Desktop\\tsetlin.py\\.venv\\Lib\\site-packages\\pandas\\io\\pytables.py:938\u001b[39m, in \u001b[36mHDFStore.select_as_coordinates\u001b[39m\u001b[34m(self, key, where, start, stop)\u001b[39m\n\u001b[32m    936\u001b[39m \u001b[38;5;28;01mif\u001b[39;00m \u001b[38;5;129;01mnot\u001b[39;00m \u001b[38;5;28misinstance\u001b[39m(tbl, Table):\n\u001b[32m    937\u001b[39m     \u001b[38;5;28;01mraise\u001b[39;00m \u001b[38;5;167;01mTypeError\u001b[39;00m(\u001b[33m\"\u001b[39m\u001b[33mcan only read_coordinates with a table\u001b[39m\u001b[33m\"\u001b[39m)\n\u001b[32m--> \u001b[39m\u001b[32m938\u001b[39m \u001b[38;5;28;01mreturn\u001b[39;00m \u001b[43mtbl\u001b[49m\u001b[43m.\u001b[49m\u001b[43mread_coordinates\u001b[49m\u001b[43m(\u001b[49m\u001b[43mwhere\u001b[49m\u001b[43m=\u001b[49m\u001b[43mwhere\u001b[49m\u001b[43m,\u001b[49m\u001b[43m \u001b[49m\u001b[43mstart\u001b[49m\u001b[43m=\u001b[49m\u001b[43mstart\u001b[49m\u001b[43m,\u001b[49m\u001b[43m \u001b[49m\u001b[43mstop\u001b[49m\u001b[43m=\u001b[49m\u001b[43mstop\u001b[49m\u001b[43m)\u001b[49m\n",
      "\u001b[36mFile \u001b[39m\u001b[32m~\\Desktop\\tsetlin.py\\.venv\\Lib\\site-packages\\pandas\\io\\pytables.py:4286\u001b[39m, in \u001b[36mTable.read_coordinates\u001b[39m\u001b[34m(self, where, start, stop)\u001b[39m\n\u001b[32m   4283\u001b[39m     \u001b[38;5;28;01mreturn\u001b[39;00m \u001b[38;5;28;01mFalse\u001b[39;00m\n\u001b[32m   4285\u001b[39m \u001b[38;5;66;03m# create the selection\u001b[39;00m\n\u001b[32m-> \u001b[39m\u001b[32m4286\u001b[39m selection = \u001b[43mSelection\u001b[49m\u001b[43m(\u001b[49m\u001b[38;5;28;43mself\u001b[39;49m\u001b[43m,\u001b[49m\u001b[43m \u001b[49m\u001b[43mwhere\u001b[49m\u001b[43m=\u001b[49m\u001b[43mwhere\u001b[49m\u001b[43m,\u001b[49m\u001b[43m \u001b[49m\u001b[43mstart\u001b[49m\u001b[43m=\u001b[49m\u001b[43mstart\u001b[49m\u001b[43m,\u001b[49m\u001b[43m \u001b[49m\u001b[43mstop\u001b[49m\u001b[43m=\u001b[49m\u001b[43mstop\u001b[49m\u001b[43m)\u001b[49m\n\u001b[32m   4287\u001b[39m coords = selection.select_coords()\n\u001b[32m   4288\u001b[39m \u001b[38;5;28;01mif\u001b[39;00m selection.filter \u001b[38;5;129;01mis\u001b[39;00m \u001b[38;5;129;01mnot\u001b[39;00m \u001b[38;5;28;01mNone\u001b[39;00m:\n",
      "\u001b[36mFile \u001b[39m\u001b[32m~\\Desktop\\tsetlin.py\\.venv\\Lib\\site-packages\\pandas\\io\\pytables.py:5358\u001b[39m, in \u001b[36mSelection.__init__\u001b[39m\u001b[34m(self, table, where, start, stop)\u001b[39m\n\u001b[32m   5355\u001b[39m                 \u001b[38;5;28mself\u001b[39m.coordinates = where\n\u001b[32m   5357\u001b[39m \u001b[38;5;28;01mif\u001b[39;00m \u001b[38;5;28mself\u001b[39m.coordinates \u001b[38;5;129;01mis\u001b[39;00m \u001b[38;5;28;01mNone\u001b[39;00m:\n\u001b[32m-> \u001b[39m\u001b[32m5358\u001b[39m     \u001b[38;5;28mself\u001b[39m.terms = \u001b[38;5;28;43mself\u001b[39;49m\u001b[43m.\u001b[49m\u001b[43mgenerate\u001b[49m\u001b[43m(\u001b[49m\u001b[43mwhere\u001b[49m\u001b[43m)\u001b[49m\n\u001b[32m   5360\u001b[39m     \u001b[38;5;66;03m# create the numexpr & the filter\u001b[39;00m\n\u001b[32m   5361\u001b[39m     \u001b[38;5;28;01mif\u001b[39;00m \u001b[38;5;28mself\u001b[39m.terms \u001b[38;5;129;01mis\u001b[39;00m \u001b[38;5;129;01mnot\u001b[39;00m \u001b[38;5;28;01mNone\u001b[39;00m:\n",
      "\u001b[36mFile \u001b[39m\u001b[32m~\\Desktop\\tsetlin.py\\.venv\\Lib\\site-packages\\pandas\\io\\pytables.py:5371\u001b[39m, in \u001b[36mSelection.generate\u001b[39m\u001b[34m(self, where)\u001b[39m\n\u001b[32m   5369\u001b[39m q = \u001b[38;5;28mself\u001b[39m.table.queryables()\n\u001b[32m   5370\u001b[39m \u001b[38;5;28;01mtry\u001b[39;00m:\n\u001b[32m-> \u001b[39m\u001b[32m5371\u001b[39m     \u001b[38;5;28;01mreturn\u001b[39;00m \u001b[43mPyTablesExpr\u001b[49m\u001b[43m(\u001b[49m\u001b[43mwhere\u001b[49m\u001b[43m,\u001b[49m\u001b[43m \u001b[49m\u001b[43mqueryables\u001b[49m\u001b[43m=\u001b[49m\u001b[43mq\u001b[49m\u001b[43m,\u001b[49m\u001b[43m \u001b[49m\u001b[43mencoding\u001b[49m\u001b[43m=\u001b[49m\u001b[38;5;28;43mself\u001b[39;49m\u001b[43m.\u001b[49m\u001b[43mtable\u001b[49m\u001b[43m.\u001b[49m\u001b[43mencoding\u001b[49m\u001b[43m)\u001b[49m\n\u001b[32m   5372\u001b[39m \u001b[38;5;28;01mexcept\u001b[39;00m \u001b[38;5;167;01mNameError\u001b[39;00m \u001b[38;5;28;01mas\u001b[39;00m err:\n\u001b[32m   5373\u001b[39m     \u001b[38;5;66;03m# raise a nice message, suggesting that the user should use\u001b[39;00m\n\u001b[32m   5374\u001b[39m     \u001b[38;5;66;03m# data_columns\u001b[39;00m\n\u001b[32m   5375\u001b[39m     qkeys = \u001b[33m\"\u001b[39m\u001b[33m,\u001b[39m\u001b[33m\"\u001b[39m.join(q.keys())\n",
      "\u001b[36mFile \u001b[39m\u001b[32m~\\Desktop\\tsetlin.py\\.venv\\Lib\\site-packages\\pandas\\core\\computation\\pytables.py:610\u001b[39m, in \u001b[36mPyTablesExpr.__init__\u001b[39m\u001b[34m(self, where, queryables, encoding, scope_level)\u001b[39m\n\u001b[32m    602\u001b[39m \u001b[38;5;28mself\u001b[39m.env.queryables.update(queryables)\n\u001b[32m    603\u001b[39m \u001b[38;5;28mself\u001b[39m._visitor = PyTablesExprVisitor(\n\u001b[32m    604\u001b[39m     \u001b[38;5;28mself\u001b[39m.env,\n\u001b[32m    605\u001b[39m     queryables=queryables,\n\u001b[32m   (...)\u001b[39m\u001b[32m    608\u001b[39m     encoding=encoding,\n\u001b[32m    609\u001b[39m )\n\u001b[32m--> \u001b[39m\u001b[32m610\u001b[39m \u001b[38;5;28mself\u001b[39m.terms = \u001b[38;5;28;43mself\u001b[39;49m\u001b[43m.\u001b[49m\u001b[43mparse\u001b[49m\u001b[43m(\u001b[49m\u001b[43m)\u001b[49m\n",
      "\u001b[36mFile \u001b[39m\u001b[32m~\\Desktop\\tsetlin.py\\.venv\\Lib\\site-packages\\pandas\\core\\computation\\expr.py:824\u001b[39m, in \u001b[36mExpr.parse\u001b[39m\u001b[34m(self)\u001b[39m\n\u001b[32m    820\u001b[39m \u001b[38;5;28;01mdef\u001b[39;00m\u001b[38;5;250m \u001b[39m\u001b[34mparse\u001b[39m(\u001b[38;5;28mself\u001b[39m):\n\u001b[32m    821\u001b[39m \u001b[38;5;250m    \u001b[39m\u001b[33;03m\"\"\"\u001b[39;00m\n\u001b[32m    822\u001b[39m \u001b[33;03m    Parse an expression.\u001b[39;00m\n\u001b[32m    823\u001b[39m \u001b[33;03m    \"\"\"\u001b[39;00m\n\u001b[32m--> \u001b[39m\u001b[32m824\u001b[39m     \u001b[38;5;28;01mreturn\u001b[39;00m \u001b[38;5;28;43mself\u001b[39;49m\u001b[43m.\u001b[49m\u001b[43m_visitor\u001b[49m\u001b[43m.\u001b[49m\u001b[43mvisit\u001b[49m\u001b[43m(\u001b[49m\u001b[38;5;28;43mself\u001b[39;49m\u001b[43m.\u001b[49m\u001b[43mexpr\u001b[49m\u001b[43m)\u001b[49m\n",
      "\u001b[36mFile \u001b[39m\u001b[32m~\\Desktop\\tsetlin.py\\.venv\\Lib\\site-packages\\pandas\\core\\computation\\expr.py:411\u001b[39m, in \u001b[36mBaseExprVisitor.visit\u001b[39m\u001b[34m(self, node, **kwargs)\u001b[39m\n\u001b[32m    409\u001b[39m method = \u001b[33mf\u001b[39m\u001b[33m\"\u001b[39m\u001b[33mvisit_\u001b[39m\u001b[38;5;132;01m{\u001b[39;00m\u001b[38;5;28mtype\u001b[39m(node).\u001b[34m__name__\u001b[39m\u001b[38;5;132;01m}\u001b[39;00m\u001b[33m\"\u001b[39m\n\u001b[32m    410\u001b[39m visitor = \u001b[38;5;28mgetattr\u001b[39m(\u001b[38;5;28mself\u001b[39m, method)\n\u001b[32m--> \u001b[39m\u001b[32m411\u001b[39m \u001b[38;5;28;01mreturn\u001b[39;00m \u001b[43mvisitor\u001b[49m\u001b[43m(\u001b[49m\u001b[43mnode\u001b[49m\u001b[43m,\u001b[49m\u001b[43m \u001b[49m\u001b[43m*\u001b[49m\u001b[43m*\u001b[49m\u001b[43mkwargs\u001b[49m\u001b[43m)\u001b[49m\n",
      "\u001b[36mFile \u001b[39m\u001b[32m~\\Desktop\\tsetlin.py\\.venv\\Lib\\site-packages\\pandas\\core\\computation\\expr.py:417\u001b[39m, in \u001b[36mBaseExprVisitor.visit_Module\u001b[39m\u001b[34m(self, node, **kwargs)\u001b[39m\n\u001b[32m    415\u001b[39m     \u001b[38;5;28;01mraise\u001b[39;00m \u001b[38;5;167;01mSyntaxError\u001b[39;00m(\u001b[33m\"\u001b[39m\u001b[33monly a single expression is allowed\u001b[39m\u001b[33m\"\u001b[39m)\n\u001b[32m    416\u001b[39m expr = node.body[\u001b[32m0\u001b[39m]\n\u001b[32m--> \u001b[39m\u001b[32m417\u001b[39m \u001b[38;5;28;01mreturn\u001b[39;00m \u001b[38;5;28;43mself\u001b[39;49m\u001b[43m.\u001b[49m\u001b[43mvisit\u001b[49m\u001b[43m(\u001b[49m\u001b[43mexpr\u001b[49m\u001b[43m,\u001b[49m\u001b[43m \u001b[49m\u001b[43m*\u001b[49m\u001b[43m*\u001b[49m\u001b[43mkwargs\u001b[49m\u001b[43m)\u001b[49m\n",
      "\u001b[36mFile \u001b[39m\u001b[32m~\\Desktop\\tsetlin.py\\.venv\\Lib\\site-packages\\pandas\\core\\computation\\expr.py:411\u001b[39m, in \u001b[36mBaseExprVisitor.visit\u001b[39m\u001b[34m(self, node, **kwargs)\u001b[39m\n\u001b[32m    409\u001b[39m method = \u001b[33mf\u001b[39m\u001b[33m\"\u001b[39m\u001b[33mvisit_\u001b[39m\u001b[38;5;132;01m{\u001b[39;00m\u001b[38;5;28mtype\u001b[39m(node).\u001b[34m__name__\u001b[39m\u001b[38;5;132;01m}\u001b[39;00m\u001b[33m\"\u001b[39m\n\u001b[32m    410\u001b[39m visitor = \u001b[38;5;28mgetattr\u001b[39m(\u001b[38;5;28mself\u001b[39m, method)\n\u001b[32m--> \u001b[39m\u001b[32m411\u001b[39m \u001b[38;5;28;01mreturn\u001b[39;00m \u001b[43mvisitor\u001b[49m\u001b[43m(\u001b[49m\u001b[43mnode\u001b[49m\u001b[43m,\u001b[49m\u001b[43m \u001b[49m\u001b[43m*\u001b[49m\u001b[43m*\u001b[49m\u001b[43mkwargs\u001b[49m\u001b[43m)\u001b[49m\n",
      "\u001b[36mFile \u001b[39m\u001b[32m~\\Desktop\\tsetlin.py\\.venv\\Lib\\site-packages\\pandas\\core\\computation\\expr.py:420\u001b[39m, in \u001b[36mBaseExprVisitor.visit_Expr\u001b[39m\u001b[34m(self, node, **kwargs)\u001b[39m\n\u001b[32m    419\u001b[39m \u001b[38;5;28;01mdef\u001b[39;00m\u001b[38;5;250m \u001b[39m\u001b[34mvisit_Expr\u001b[39m(\u001b[38;5;28mself\u001b[39m, node, **kwargs):\n\u001b[32m--> \u001b[39m\u001b[32m420\u001b[39m     \u001b[38;5;28;01mreturn\u001b[39;00m \u001b[38;5;28;43mself\u001b[39;49m\u001b[43m.\u001b[49m\u001b[43mvisit\u001b[49m\u001b[43m(\u001b[49m\u001b[43mnode\u001b[49m\u001b[43m.\u001b[49m\u001b[43mvalue\u001b[49m\u001b[43m,\u001b[49m\u001b[43m \u001b[49m\u001b[43m*\u001b[49m\u001b[43m*\u001b[49m\u001b[43mkwargs\u001b[49m\u001b[43m)\u001b[49m\n",
      "\u001b[36mFile \u001b[39m\u001b[32m~\\Desktop\\tsetlin.py\\.venv\\Lib\\site-packages\\pandas\\core\\computation\\expr.py:411\u001b[39m, in \u001b[36mBaseExprVisitor.visit\u001b[39m\u001b[34m(self, node, **kwargs)\u001b[39m\n\u001b[32m    409\u001b[39m method = \u001b[33mf\u001b[39m\u001b[33m\"\u001b[39m\u001b[33mvisit_\u001b[39m\u001b[38;5;132;01m{\u001b[39;00m\u001b[38;5;28mtype\u001b[39m(node).\u001b[34m__name__\u001b[39m\u001b[38;5;132;01m}\u001b[39;00m\u001b[33m\"\u001b[39m\n\u001b[32m    410\u001b[39m visitor = \u001b[38;5;28mgetattr\u001b[39m(\u001b[38;5;28mself\u001b[39m, method)\n\u001b[32m--> \u001b[39m\u001b[32m411\u001b[39m \u001b[38;5;28;01mreturn\u001b[39;00m \u001b[43mvisitor\u001b[49m\u001b[43m(\u001b[49m\u001b[43mnode\u001b[49m\u001b[43m,\u001b[49m\u001b[43m \u001b[49m\u001b[43m*\u001b[49m\u001b[43m*\u001b[49m\u001b[43mkwargs\u001b[49m\u001b[43m)\u001b[49m\n",
      "\u001b[36mFile \u001b[39m\u001b[32m~\\Desktop\\tsetlin.py\\.venv\\Lib\\site-packages\\pandas\\core\\computation\\expr.py:742\u001b[39m, in \u001b[36mBaseExprVisitor.visit_BoolOp\u001b[39m\u001b[34m(self, node, **kwargs)\u001b[39m\n\u001b[32m    739\u001b[39m     \u001b[38;5;28;01mreturn\u001b[39;00m \u001b[38;5;28mself\u001b[39m._maybe_evaluate_binop(op, node.op, lhs, rhs)\n\u001b[32m    741\u001b[39m operands = node.values\n\u001b[32m--> \u001b[39m\u001b[32m742\u001b[39m \u001b[38;5;28;01mreturn\u001b[39;00m \u001b[43mreduce\u001b[49m\u001b[43m(\u001b[49m\u001b[43mvisitor\u001b[49m\u001b[43m,\u001b[49m\u001b[43m \u001b[49m\u001b[43moperands\u001b[49m\u001b[43m)\u001b[49m\n",
      "\u001b[36mFile \u001b[39m\u001b[32m~\\Desktop\\tsetlin.py\\.venv\\Lib\\site-packages\\pandas\\core\\computation\\expr.py:735\u001b[39m, in \u001b[36mBaseExprVisitor.visit_BoolOp.<locals>.visitor\u001b[39m\u001b[34m(x, y)\u001b[39m\n\u001b[32m    734\u001b[39m \u001b[38;5;28;01mdef\u001b[39;00m\u001b[38;5;250m \u001b[39m\u001b[34mvisitor\u001b[39m(x, y):\n\u001b[32m--> \u001b[39m\u001b[32m735\u001b[39m     lhs = \u001b[38;5;28;43mself\u001b[39;49m\u001b[43m.\u001b[49m\u001b[43m_try_visit_binop\u001b[49m\u001b[43m(\u001b[49m\u001b[43mx\u001b[49m\u001b[43m)\u001b[49m\n\u001b[32m    736\u001b[39m     rhs = \u001b[38;5;28mself\u001b[39m._try_visit_binop(y)\n\u001b[32m    738\u001b[39m     op, op_class, lhs, rhs = \u001b[38;5;28mself\u001b[39m._maybe_transform_eq_ne(node, lhs, rhs)\n",
      "\u001b[36mFile \u001b[39m\u001b[32m~\\Desktop\\tsetlin.py\\.venv\\Lib\\site-packages\\pandas\\core\\computation\\expr.py:731\u001b[39m, in \u001b[36mBaseExprVisitor._try_visit_binop\u001b[39m\u001b[34m(self, bop)\u001b[39m\n\u001b[32m    729\u001b[39m \u001b[38;5;28;01mif\u001b[39;00m \u001b[38;5;28misinstance\u001b[39m(bop, (Op, Term)):\n\u001b[32m    730\u001b[39m     \u001b[38;5;28;01mreturn\u001b[39;00m bop\n\u001b[32m--> \u001b[39m\u001b[32m731\u001b[39m \u001b[38;5;28;01mreturn\u001b[39;00m \u001b[38;5;28;43mself\u001b[39;49m\u001b[43m.\u001b[49m\u001b[43mvisit\u001b[49m\u001b[43m(\u001b[49m\u001b[43mbop\u001b[49m\u001b[43m)\u001b[49m\n",
      "\u001b[36mFile \u001b[39m\u001b[32m~\\Desktop\\tsetlin.py\\.venv\\Lib\\site-packages\\pandas\\core\\computation\\expr.py:411\u001b[39m, in \u001b[36mBaseExprVisitor.visit\u001b[39m\u001b[34m(self, node, **kwargs)\u001b[39m\n\u001b[32m    409\u001b[39m method = \u001b[33mf\u001b[39m\u001b[33m\"\u001b[39m\u001b[33mvisit_\u001b[39m\u001b[38;5;132;01m{\u001b[39;00m\u001b[38;5;28mtype\u001b[39m(node).\u001b[34m__name__\u001b[39m\u001b[38;5;132;01m}\u001b[39;00m\u001b[33m\"\u001b[39m\n\u001b[32m    410\u001b[39m visitor = \u001b[38;5;28mgetattr\u001b[39m(\u001b[38;5;28mself\u001b[39m, method)\n\u001b[32m--> \u001b[39m\u001b[32m411\u001b[39m \u001b[38;5;28;01mreturn\u001b[39;00m \u001b[43mvisitor\u001b[49m\u001b[43m(\u001b[49m\u001b[43mnode\u001b[49m\u001b[43m,\u001b[49m\u001b[43m \u001b[49m\u001b[43m*\u001b[49m\u001b[43m*\u001b[49m\u001b[43mkwargs\u001b[49m\u001b[43m)\u001b[49m\n",
      "\u001b[36mFile \u001b[39m\u001b[32m~\\Desktop\\tsetlin.py\\.venv\\Lib\\site-packages\\pandas\\core\\computation\\expr.py:715\u001b[39m, in \u001b[36mBaseExprVisitor.visit_Compare\u001b[39m\u001b[34m(self, node, **kwargs)\u001b[39m\n\u001b[32m    713\u001b[39m     op = \u001b[38;5;28mself\u001b[39m.translate_In(ops[\u001b[32m0\u001b[39m])\n\u001b[32m    714\u001b[39m     binop = ast.BinOp(op=op, left=node.left, right=comps[\u001b[32m0\u001b[39m])\n\u001b[32m--> \u001b[39m\u001b[32m715\u001b[39m     \u001b[38;5;28;01mreturn\u001b[39;00m \u001b[38;5;28;43mself\u001b[39;49m\u001b[43m.\u001b[49m\u001b[43mvisit\u001b[49m\u001b[43m(\u001b[49m\u001b[43mbinop\u001b[49m\u001b[43m)\u001b[49m\n\u001b[32m    717\u001b[39m \u001b[38;5;66;03m# recursive case: we have a chained comparison, a CMP b CMP c, etc.\u001b[39;00m\n\u001b[32m    718\u001b[39m left = node.left\n",
      "\u001b[36mFile \u001b[39m\u001b[32m~\\Desktop\\tsetlin.py\\.venv\\Lib\\site-packages\\pandas\\core\\computation\\expr.py:411\u001b[39m, in \u001b[36mBaseExprVisitor.visit\u001b[39m\u001b[34m(self, node, **kwargs)\u001b[39m\n\u001b[32m    409\u001b[39m method = \u001b[33mf\u001b[39m\u001b[33m\"\u001b[39m\u001b[33mvisit_\u001b[39m\u001b[38;5;132;01m{\u001b[39;00m\u001b[38;5;28mtype\u001b[39m(node).\u001b[34m__name__\u001b[39m\u001b[38;5;132;01m}\u001b[39;00m\u001b[33m\"\u001b[39m\n\u001b[32m    410\u001b[39m visitor = \u001b[38;5;28mgetattr\u001b[39m(\u001b[38;5;28mself\u001b[39m, method)\n\u001b[32m--> \u001b[39m\u001b[32m411\u001b[39m \u001b[38;5;28;01mreturn\u001b[39;00m \u001b[43mvisitor\u001b[49m\u001b[43m(\u001b[49m\u001b[43mnode\u001b[49m\u001b[43m,\u001b[49m\u001b[43m \u001b[49m\u001b[43m*\u001b[49m\u001b[43m*\u001b[49m\u001b[43mkwargs\u001b[49m\u001b[43m)\u001b[49m\n",
      "\u001b[36mFile \u001b[39m\u001b[32m~\\Desktop\\tsetlin.py\\.venv\\Lib\\site-packages\\pandas\\core\\computation\\expr.py:531\u001b[39m, in \u001b[36mBaseExprVisitor.visit_BinOp\u001b[39m\u001b[34m(self, node, **kwargs)\u001b[39m\n\u001b[32m    530\u001b[39m \u001b[38;5;28;01mdef\u001b[39;00m\u001b[38;5;250m \u001b[39m\u001b[34mvisit_BinOp\u001b[39m(\u001b[38;5;28mself\u001b[39m, node, **kwargs):\n\u001b[32m--> \u001b[39m\u001b[32m531\u001b[39m     op, op_class, left, right = \u001b[38;5;28;43mself\u001b[39;49m\u001b[43m.\u001b[49m\u001b[43m_maybe_transform_eq_ne\u001b[49m\u001b[43m(\u001b[49m\u001b[43mnode\u001b[49m\u001b[43m)\u001b[49m\n\u001b[32m    532\u001b[39m     left, right = \u001b[38;5;28mself\u001b[39m._maybe_downcast_constants(left, right)\n\u001b[32m    533\u001b[39m     \u001b[38;5;28;01mreturn\u001b[39;00m \u001b[38;5;28mself\u001b[39m._maybe_evaluate_binop(op, op_class, left, right)\n",
      "\u001b[36mFile \u001b[39m\u001b[32m~\\Desktop\\tsetlin.py\\.venv\\Lib\\site-packages\\pandas\\core\\computation\\expr.py:453\u001b[39m, in \u001b[36mBaseExprVisitor._maybe_transform_eq_ne\u001b[39m\u001b[34m(self, node, left, right)\u001b[39m\n\u001b[32m    451\u001b[39m     left = \u001b[38;5;28mself\u001b[39m.visit(node.left, side=\u001b[33m\"\u001b[39m\u001b[33mleft\u001b[39m\u001b[33m\"\u001b[39m)\n\u001b[32m    452\u001b[39m \u001b[38;5;28;01mif\u001b[39;00m right \u001b[38;5;129;01mis\u001b[39;00m \u001b[38;5;28;01mNone\u001b[39;00m:\n\u001b[32m--> \u001b[39m\u001b[32m453\u001b[39m     right = \u001b[38;5;28;43mself\u001b[39;49m\u001b[43m.\u001b[49m\u001b[43mvisit\u001b[49m\u001b[43m(\u001b[49m\u001b[43mnode\u001b[49m\u001b[43m.\u001b[49m\u001b[43mright\u001b[49m\u001b[43m,\u001b[49m\u001b[43m \u001b[49m\u001b[43mside\u001b[49m\u001b[43m=\u001b[49m\u001b[33;43m\"\u001b[39;49m\u001b[33;43mright\u001b[39;49m\u001b[33;43m\"\u001b[39;49m\u001b[43m)\u001b[49m\n\u001b[32m    454\u001b[39m op, op_class, left, right = \u001b[38;5;28mself\u001b[39m._rewrite_membership_op(node, left, right)\n\u001b[32m    455\u001b[39m \u001b[38;5;28;01mreturn\u001b[39;00m op, op_class, left, right\n",
      "\u001b[36mFile \u001b[39m\u001b[32m~\\Desktop\\tsetlin.py\\.venv\\Lib\\site-packages\\pandas\\core\\computation\\expr.py:411\u001b[39m, in \u001b[36mBaseExprVisitor.visit\u001b[39m\u001b[34m(self, node, **kwargs)\u001b[39m\n\u001b[32m    409\u001b[39m method = \u001b[33mf\u001b[39m\u001b[33m\"\u001b[39m\u001b[33mvisit_\u001b[39m\u001b[38;5;132;01m{\u001b[39;00m\u001b[38;5;28mtype\u001b[39m(node).\u001b[34m__name__\u001b[39m\u001b[38;5;132;01m}\u001b[39;00m\u001b[33m\"\u001b[39m\n\u001b[32m    410\u001b[39m visitor = \u001b[38;5;28mgetattr\u001b[39m(\u001b[38;5;28mself\u001b[39m, method)\n\u001b[32m--> \u001b[39m\u001b[32m411\u001b[39m \u001b[38;5;28;01mreturn\u001b[39;00m \u001b[43mvisitor\u001b[49m\u001b[43m(\u001b[49m\u001b[43mnode\u001b[49m\u001b[43m,\u001b[49m\u001b[43m \u001b[49m\u001b[43m*\u001b[49m\u001b[43m*\u001b[49m\u001b[43mkwargs\u001b[49m\u001b[43m)\u001b[49m\n",
      "\u001b[36mFile \u001b[39m\u001b[32m~\\Desktop\\tsetlin.py\\.venv\\Lib\\site-packages\\pandas\\core\\computation\\pytables.py:496\u001b[39m, in \u001b[36mPyTablesExprVisitor.visit_Attribute\u001b[39m\u001b[34m(self, node, **kwargs)\u001b[39m\n\u001b[32m    493\u001b[39m         \u001b[38;5;28;01mif\u001b[39;00m \u001b[38;5;28misinstance\u001b[39m(value, ast.Name) \u001b[38;5;129;01mand\u001b[39;00m value.id == attr:\n\u001b[32m    494\u001b[39m             \u001b[38;5;28;01mreturn\u001b[39;00m resolved\n\u001b[32m--> \u001b[39m\u001b[32m496\u001b[39m \u001b[38;5;28;01mraise\u001b[39;00m \u001b[38;5;167;01mValueError\u001b[39;00m(\u001b[33mf\u001b[39m\u001b[33m\"\u001b[39m\u001b[33mInvalid Attribute context \u001b[39m\u001b[38;5;132;01m{\u001b[39;00mctx.\u001b[34m__name__\u001b[39m\u001b[38;5;132;01m}\u001b[39;00m\u001b[33m\"\u001b[39m)\n",
      "\u001b[31mValueError\u001b[39m: Invalid Attribute context Load"
     ]
    }
   ],
   "source": [
    "# for data in fridge.power_series(**kw):\n",
    "#     print(data)"
   ]
  },
  {
   "cell_type": "markdown",
   "id": "8ae9739e-21d2-4c62-aa42-d1244551afaa",
   "metadata": {},
   "source": [
    "## Experiment"
   ]
  },
  {
   "cell_type": "code",
   "execution_count": 27,
   "id": "37179c65-237a-4451-b0cb-b06fd96ec2f9",
   "metadata": {},
   "outputs": [],
   "source": [
    "from nilmtk.api import API"
   ]
  },
  {
   "cell_type": "code",
   "execution_count": 28,
   "id": "b6c57919-cd92-4239-b26c-dcbaca4b9816",
   "metadata": {},
   "outputs": [],
   "source": [
    "from nilmtk.disaggregate import CO, FHMMExact, Hart85, Mean"
   ]
  },
  {
   "cell_type": "code",
   "execution_count": 29,
   "id": "8c74d927-35ae-4e7d-ae92-ba98a5853d14",
   "metadata": {},
   "outputs": [],
   "source": [
    "experiment1 = {\n",
    "  'power': {'mains': ['apparent','active'],'appliance': ['apparent','active']},\n",
    "  'sample_rate': 1,\n",
    "  'appliances': ['fridge', 'microwave'],\n",
    "  'methods': {\"Mean\":Mean({}), \"Hart85\":Hart85({}) , \"FHMM_EXACT\":FHMMExact({'num_of_states':2}), \"CO\":CO({})},\n",
    "  'train': {    \n",
    "    'datasets': {\n",
    "        'REDD': {\n",
    "            'path': './redd.h5',\n",
    "            'buildings': {\n",
    "                1: {\n",
    "                    'start_time': '2011-04-18',\n",
    "                    'end_time': '2011-05-18'\n",
    "                    }\n",
    "                }                \n",
    "            }\n",
    "        }\n",
    "    },\n",
    "  'test': {\n",
    "    'datasets': {\n",
    "        'REDD': {\n",
    "            'path': './redd.h5',\n",
    "            'buildings': {\n",
    "                1: {\n",
    "                    'start_time': '2011-05-19',\n",
    "                    'end_time': '2011-05-24'\n",
    "                    }\n",
    "                }\n",
    "            }\n",
    "        },\n",
    "        'metrics':['rmse', 'mae']\n",
    "    }\n",
    "}"
   ]
  },
  {
   "cell_type": "code",
   "execution_count": 30,
   "id": "6821a8c4-0563-4c4c-9d54-accd112c7fb3",
   "metadata": {},
   "outputs": [
    {
     "name": "stdout",
     "output_type": "stream",
     "text": [
      "Joint Testing for all algorithms\n",
      "Loading data for  REDD  dataset\n",
      "Loading data for meter ElecMeterID(instance=1, building=1, dataset='REDD')     "
     ]
    },
    {
     "name": "stderr",
     "output_type": "stream",
     "text": [
      "C:\\Users\\nhw120\\Desktop\\tsetlin.py\\dataset\\.venv\\Lib\\site-packages\\nilmtk\\utils.py:338: FutureWarning: 'S' is deprecated and will be removed in a future version, please use 's' instead.\n",
      "  resampled = series.resample(freq).mean()\n",
      "C:\\Users\\nhw120\\Desktop\\tsetlin.py\\dataset\\.venv\\Lib\\site-packages\\nilmtk\\metergroup.py:718: FutureWarning: 'S' is deprecated and will be removed in a future version, please use 's' instead.\n",
      "  index = pd.date_range(\n",
      "C:\\Users\\nhw120\\Desktop\\tsetlin.py\\dataset\\.venv\\Lib\\site-packages\\nilmtk\\utils.py:501: FutureWarning: 'S' is deprecated and will be removed in a future version, please use 's' instead.\n",
      "  return fill_method(how(data.resample(rule, **resample_kwargs)))\n"
     ]
    },
    {
     "name": "stdout",
     "output_type": "stream",
     "text": [
      "Loading data for meter ElecMeterID(instance=2, building=1, dataset='REDD')     "
     ]
    },
    {
     "name": "stderr",
     "output_type": "stream",
     "text": [
      "C:\\Users\\nhw120\\Desktop\\tsetlin.py\\dataset\\.venv\\Lib\\site-packages\\nilmtk\\utils.py:501: FutureWarning: 'S' is deprecated and will be removed in a future version, please use 's' instead.\n",
      "  return fill_method(how(data.resample(rule, **resample_kwargs)))\n"
     ]
    },
    {
     "name": "stdout",
     "output_type": "stream",
     "text": [
      "\n",
      "Done loading data all meters for this chunk.\n",
      "Dropping missing values\n",
      "Generating predictions for : Mean\n",
      "Generating predictions for : Hart85\n",
      "Finding Edges, please wait ...\n"
     ]
    },
    {
     "name": "stderr",
     "output_type": "stream",
     "text": [
      "C:\\Users\\nhw120\\Desktop\\tsetlin.py\\dataset\\.venv\\Lib\\site-packages\\nilmtk\\elecmeter.py:431: UserWarning: The provided sample_period (1) is shorter than the meter's sample_period (3)\n",
      "  warn(\"The provided sample_period ({}) is shorter than the meter's sample_period ({})\".format(\n",
      "C:\\Users\\nhw120\\Desktop\\tsetlin.py\\dataset\\.venv\\Lib\\site-packages\\nilmtk\\utils.py:501: FutureWarning: 'S' is deprecated and will be removed in a future version, please use 's' instead.\n",
      "  return fill_method(how(data.resample(rule, **resample_kwargs)))\n",
      "C:\\Users\\nhw120\\Desktop\\tsetlin.py\\dataset\\.venv\\Lib\\site-packages\\nilmtk\\elecmeter.py:431: UserWarning: The provided sample_period (1) is shorter than the meter's sample_period (3)\n",
      "  warn(\"The provided sample_period ({}) is shorter than the meter's sample_period ({})\".format(\n",
      "C:\\Users\\nhw120\\Desktop\\tsetlin.py\\dataset\\.venv\\Lib\\site-packages\\nilmtk\\utils.py:501: FutureWarning: 'S' is deprecated and will be removed in a future version, please use 's' instead.\n",
      "  return fill_method(how(data.resample(rule, **resample_kwargs)))\n"
     ]
    },
    {
     "name": "stdout",
     "output_type": "stream",
     "text": [
      "Edge detection complete.\n",
      "Creating transition frame ...\n",
      "Transition frame created.\n",
      "Creating states frame ...\n",
      "States frame created.\n",
      "Finished.\n"
     ]
    },
    {
     "name": "stderr",
     "output_type": "stream",
     "text": [
      "C:\\Users\\nhw120\\Desktop\\tsetlin.py\\dataset\\.venv\\Lib\\site-packages\\nilmtk\\disaggregate\\hart_85.py:450: FutureWarning: ChainedAssignmentError: behaviour will change in pandas 3.0!\n",
      "You are setting values through chained assignment. Currently this works in certain cases, but when using Copy-on-Write (which will become the default behaviour in pandas 3.0) this will never work to update the original DataFrame or Series, because the intermediate object on which we are setting values will behave as a copy.\n",
      "A typical example is when you are setting values in a column of a DataFrame, like:\n",
      "\n",
      "df[\"col\"][row_indexer] = value\n",
      "\n",
      "Use `df.loc[row_indexer, \"col\"] = values` instead, to perform the assignment in a single step and ensure this keeps updating the original `df`.\n",
      "\n",
      "See the caveats in the documentation: https://pandas.pydata.org/pandas-docs/stable/user_guide/indexing.html#returning-a-view-versus-a-copy\n",
      "\n",
      "  states.loc[transient_tuple[0]][index_least_delta] = 1\n",
      "C:\\Users\\nhw120\\Desktop\\tsetlin.py\\dataset\\.venv\\Lib\\site-packages\\nilmtk\\disaggregate\\hart_85.py:453: FutureWarning: ChainedAssignmentError: behaviour will change in pandas 3.0!\n",
      "You are setting values through chained assignment. Currently this works in certain cases, but when using Copy-on-Write (which will become the default behaviour in pandas 3.0) this will never work to update the original DataFrame or Series, because the intermediate object on which we are setting values will behave as a copy.\n",
      "A typical example is when you are setting values in a column of a DataFrame, like:\n",
      "\n",
      "df[\"col\"][row_indexer] = value\n",
      "\n",
      "Use `df.loc[row_indexer, \"col\"] = values` instead, to perform the assignment in a single step and ensure this keeps updating the original `df`.\n",
      "\n",
      "See the caveats in the documentation: https://pandas.pydata.org/pandas-docs/stable/user_guide/indexing.html#returning-a-view-versus-a-copy\n",
      "\n",
      "  states.loc[transient_tuple[0]][index_least_delta] = 0\n"
     ]
    },
    {
     "name": "stdout",
     "output_type": "stream",
     "text": [
      "Generating predictions for : FHMM\n",
      "Generating predictions for : CO\n",
      "...............CO disaggregate_chunk running.............\n",
      "............  rmse  ..............wave'\n",
      "                 Mean      Hart85  FHMM_EXACT          CO\n",
      "fridge     100.525038   80.206265  161.587764  517.280449\n",
      "microwave  197.930997  223.477619  399.994512  565.301828\n",
      "............  mae  ..............\n",
      "                Mean      Hart85  FHMM_EXACT          CO\n",
      "fridge     80.646576   39.132835  137.027817  220.371689\n",
      "microwave  43.504715  100.524963  198.319153  264.143524\n"
     ]
    }
   ],
   "source": [
    "api_results_experiment_1 = API(experiment1)"
   ]
  },
  {
   "cell_type": "code",
   "execution_count": null,
   "id": "93592fd4-1553-427f-a243-652e1d7b4f95",
   "metadata": {},
   "outputs": [],
   "source": []
  }
 ],
 "metadata": {
  "kernelspec": {
   "display_name": "Python 3 (ipykernel)",
   "language": "python",
   "name": "python3"
  },
  "language_info": {
   "codemirror_mode": {
    "name": "ipython",
    "version": 3
   },
   "file_extension": ".py",
   "mimetype": "text/x-python",
   "name": "python",
   "nbconvert_exporter": "python",
   "pygments_lexer": "ipython3",
   "version": "3.11.13"
  }
 },
 "nbformat": 4,
 "nbformat_minor": 5
}
