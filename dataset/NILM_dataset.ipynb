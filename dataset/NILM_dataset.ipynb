{
 "cells": [
  {
   "cell_type": "markdown",
   "id": "e5325cfa-517f-4597-b514-523013b4f1e4",
   "metadata": {},
   "source": [
    "# Load the Dataset"
   ]
  },
  {
   "cell_type": "code",
   "execution_count": 5,
   "id": "221f2685-b46c-47c8-96a7-f354d60ebf87",
   "metadata": {},
   "outputs": [],
   "source": [
    "from nilmtk import DataSet\n",
    "from nilmtk.utils import print_dict"
   ]
  },
  {
   "cell_type": "markdown",
   "id": "397e5ff7-52c0-4f51-a4e7-b4293d124daf",
   "metadata": {},
   "source": [
    "## AMPDS"
   ]
  },
  {
   "cell_type": "code",
   "execution_count": 4,
   "id": "7d2a1bee-c3e7-4072-a1af-2bcd0dd3624e",
   "metadata": {},
   "outputs": [],
   "source": [
    "ampds = DataSet(\"AMPds2.h5\")"
   ]
  },
  {
   "cell_type": "code",
   "execution_count": 6,
   "id": "643cebf2-631d-4e03-9dfd-ed162cd60c44",
   "metadata": {},
   "outputs": [
    {
     "data": {
      "text/html": [
       "<ul><li><strong>name</strong>: AMPds</li><li><strong>long_name</strong>: The Almanac of Minutely Power Dataset</li><li><strong>creators</strong>: <ul><li>Makonin, Stephen</li><li>Popowich, Fred</li><li>Bartram, Lyn</li><li>Gill, Bob</li><li>Bajic, Ivan V.</li></ul></li><li><strong>publication_date</strong>: 2013, 2014</li><li><strong>institution</strong>: Simon Fraser University (SFU)</li><li><strong>contact</strong>: stephen@makonin.com</li><li><strong>description</strong>: a dataset consisting of electricity, water, and natural gas consumption for 2 years</li><li><strong>subject</strong>: First dataset from Canada</li><li><strong>number_of_buildings</strong>: 1</li><li><strong>timezone</strong>: America/Vancouver</li><li><strong>geo_location</strong>: <ul><li><strong>locality</strong>: Burnaby</li><li><strong>country</strong>: CA</li><li><strong>latitude</strong>: 49.269</li><li><strong>longitude</strong>: -122.992</li></ul></li><li><strong>related_documents</strong>: <ul><li><a href=\"http://ampds.org\">http://ampds.org</a></li><li>Stephen Makonin and Fred Popowich and Lyn Bartram and Bob Gill and Ivan V. Bajic AMPds: A Public Dataset for Load Disaggregation and Eco-Feedback Research In proceedings of the 2013 IEEE Electrical Power and Energy Conference  (EPEC 2013) <a href=\"http://ampds.org/EPEC_2013.pdf\">http://ampds.org/EPEC_2013.pdf</a>\n",
       "</li></ul></li><li><strong>schema</strong>: <a href=\"https://github.com/nilmtk/nilm_metadata/tree/v0.2\">https://github.com/nilmtk/nilm_metadata/tree/v0.2</a></li><li><strong>meter_devices</strong>: <ul><li><strong>PS18</strong>: <ul><li><strong>model</strong>: PowerScout 18</li><li><strong>manufacturer</strong>: DENT Instruments</li><li><strong>manufacturer_url</strong>: <a href=\"http://www.dentinstruments.com\">http://www.dentinstruments.com</a></li><li><strong>description</strong>: Branch curcuit power meter (18)</li><li><strong>sample_period</strong>: 60</li><li><strong>max_sample_period</strong>: 60</li><li><strong>measurements</strong>: <ul><li>{'physical_quantity': 'voltage', 'type': 'apparent', 'upper_limit': 270, 'lower_limit': 0}</li><li>{'physical_quantity': 'current', 'type': 'apparent', 'upper_limit': 400, 'lower_limit': 0}</li><li>{'physical_quantity': 'frequency', 'type': 'apparent', 'upper_limit': 70, 'lower_limit': 0}</li><li>{'physical_quantity': 'power factor', 'type': 'apparent', 'upper_limit': 1, 'lower_limit': 0}</li><li>{'physical_quantity': 'power factor', 'type': 'real', 'upper_limit': 1, 'lower_limit': 0}</li><li>{'physical_quantity': 'power', 'type': 'active', 'upper_limit': 96000, 'lower_limit': 0}</li><li>{'physical_quantity': 'cumulative energy', 'type': 'active', 'upper_limit': 500000000, 'lower_limit': 0}</li><li>{'physical_quantity': 'power', 'type': 'reactive', 'upper_limit': 96000, 'lower_limit': 0}</li><li>{'physical_quantity': 'cumulative energy', 'type': 'reactive', 'upper_limit': 500000000, 'lower_limit': 0}</li><li>{'physical_quantity': 'power', 'type': 'apparent', 'upper_limit': 96000, 'lower_limit': 0}</li><li>{'physical_quantity': 'cumulative energy', 'type': 'apparent', 'upper_limit': 500000000, 'lower_limit': 0}</li></ul></li></ul></li></ul></li></ul>"
      ],
      "text/plain": [
       "<IPython.core.display.HTML object>"
      ]
     },
     "metadata": {},
     "output_type": "display_data"
    }
   ],
   "source": [
    "print_dict(ampds.metadata)"
   ]
  },
  {
   "cell_type": "markdown",
   "id": "86d7e92b-1205-4f0e-a234-2ced8ffb025b",
   "metadata": {},
   "source": [
    "## IAWE"
   ]
  },
  {
   "cell_type": "code",
   "execution_count": 9,
   "id": "bd40f330-3359-4864-9477-d5d8fb35c453",
   "metadata": {},
   "outputs": [],
   "source": [
    "iawe = DataSet(\"iawe.h5\")"
   ]
  },
  {
   "cell_type": "code",
   "execution_count": 11,
   "id": "3911006b-8b6a-4bde-bdcf-57311e34f181",
   "metadata": {},
   "outputs": [
    {
     "data": {
      "text/html": [
       "<ul><li><strong>meter_devices</strong>: <ul><li><strong>current_cost</strong>: <ul><li><strong>max_sample_period</strong>: 300</li><li><strong>measurements</strong>: <ul><li>{'type': 'active', 'upper_limit': 5000, 'lower_limit': 0, 'physical_quantity': 'power'}</li></ul></li><li><strong>description</strong>: None</li><li><strong>sample_period</strong>: 6</li></ul></li><li><strong>EM6400</strong>: <ul><li><strong>max_sample_period</strong>: 300</li><li><strong>description</strong>: Multifunction meter for feeders</li><li><strong>manufacturer_url</strong>: <a href=\"http://www.schneider-electric.com/\">http://www.schneider-electric.com/</a></li><li><strong>model</strong>: EM6400</li><li><strong>measurements</strong>: <ul><li>{'type': 'active', 'upper_limit': 10000, 'lower_limit': 0, 'physical_quantity': 'power'}</li><li>{'type': 'apparent', 'upper_limit': 10000, 'lower_limit': 0, 'physical_quantity': 'power'}</li><li>{'type': 'reactive', 'upper_limit': 10000, 'lower_limit': 0, 'physical_quantity': 'power'}</li><li>{'type': 'apparent', 'upper_limit': 70, 'lower_limit': 0, 'physical_quantity': 'frequency'}</li><li>{'type': 'apparent', 'upper_limit': 270, 'lower_limit': 0, 'physical_quantity': 'voltage'}</li><li>{'type': None, 'upper_limit': 1, 'lower_limit': 0, 'physical_quantity': 'power factor'}</li><li>{'type': None, 'upper_limit': 100, 'lower_limit': 0, 'physical_quantity': 'current'}</li></ul></li><li><strong>manufacturer</strong>: Schneider Electric</li><li><strong>sample_period</strong>: 1</li></ul></li><li><strong>jplug</strong>: <ul><li><strong>max_sample_period</strong>: 300</li><li><strong>wireless</strong>: True</li><li><strong>measurements</strong>: <ul><li>{'type': 'active', 'upper_limit': 10000, 'lower_limit': 0, 'physical_quantity': 'power'}</li><li>{'type': 'apparent', 'upper_limit': 10000, 'lower_limit': 0, 'physical_quantity': 'power'}</li><li>{'type': 'reactive', 'upper_limit': 10000, 'lower_limit': 0, 'physical_quantity': 'power'}</li><li>{'type': None, 'upper_limit': 70, 'lower_limit': 0, 'physical_quantity': 'frequency'}</li><li>{'type': None, 'upper_limit': 270, 'lower_limit': 0, 'physical_quantity': 'voltage'}</li><li>{'type': None, 'upper_limit': 100, 'lower_limit': 0, 'physical_quantity': 'current'}</li><li>{'type': None, 'upper_limit': 1, 'lower_limit': 0, 'physical_quantity': 'power factor'}</li></ul></li><li><strong>description</strong>: None</li><li><strong>sample_period</strong>: 1</li></ul></li></ul></li><li><strong>creators</strong>: <ul><li>Batra, Nipun</li><li>Gulati, Manoj</li><li>Singh, Amarjeet</li><li>Srivastava, Mani</li></ul></li><li><strong>name</strong>: iAWE</li><li><strong>description</strong>: 73 days of ambient, water and electricity data for a home in Delhi</li><li><strong>number_of_buildings</strong>: 1</li><li><strong>related_documents</strong>: <ul><li><a href=\"http://iawe.github.io\">http://iawe.github.io</a></li><li>Nipun Batra and Manoj Gulati and Amarjeet Singh and Mani Srivastava It's Different: Insights into home energy consumption in India. In proceedings of the 5th ACM Workshop On Embedded Systems  For Energy-Efficient Buildings (Buildsys 2013) <a href=\"http://nipunbatra.github.io/downloads/files/buildsys_2013.pdf\">http://nipunbatra.github.io/downloads/files/buildsys_2013.pdf</a>\n",
       "</li></ul></li><li><strong>long_name</strong>: Indian dataset for ambient, water and electricity sensing</li><li><strong>contact</strong>: nipunb@iiitd.ac.in</li><li><strong>geo_location</strong>: <ul><li><strong>latitude</strong>: 28.64</li><li><strong>country</strong>: IN</li><li><strong>longitude</strong>: 77.11</li><li><strong>locality</strong>: Delhi</li></ul></li><li><strong>publication_date</strong>: 2013</li><li><strong>timezone</strong>: Asia/Kolkata</li><li><strong>subject</strong>: First dataset from a developing country</li><li><strong>institution</strong>: Indraprastha Institute of Information Technology Delhi (IIITD)</li><li><strong>schema</strong>: <a href=\"https://github.com/nilmtk/nilm_metadata/tree/v0.2\">https://github.com/nilmtk/nilm_metadata/tree/v0.2</a></li></ul>"
      ],
      "text/plain": [
       "<IPython.core.display.HTML object>"
      ]
     },
     "metadata": {},
     "output_type": "display_data"
    }
   ],
   "source": [
    "print_dict(iawe.metadata)"
   ]
  },
  {
   "cell_type": "markdown",
   "id": "21fb02ce-760e-4479-85a0-2ed8b72d4029",
   "metadata": {},
   "source": [
    "## COMBED"
   ]
  },
  {
   "cell_type": "code",
   "execution_count": 13,
   "id": "67b4c9f7-8006-4044-ad7e-918f89c6d3bd",
   "metadata": {},
   "outputs": [],
   "source": [
    "combed = DataSet(\"combed.h5\")"
   ]
  },
  {
   "cell_type": "code",
   "execution_count": 14,
   "id": "2972f19c-0f50-4138-b8bc-8f7ce8733520",
   "metadata": {},
   "outputs": [
    {
     "data": {
      "text/html": [
       "<ul><li><strong>meter_devices</strong>: <ul><li><strong>EM6400</strong>: <ul><li><strong>max_sample_period</strong>: 300</li><li><strong>description</strong>: Multifunction meter for feeders</li><li><strong>manufacturer_url</strong>: <a href=\"http://www.schneider-electric.com/\">http://www.schneider-electric.com/</a></li><li><strong>model</strong>: EM6400</li><li><strong>measurements</strong>: <ul><li>{'type': 'active', 'upper_limit': 1000000, 'lower_limit': 0, 'physical_quantity': 'power'}</li><li>{'type': 'active', 'upper_limit': 500000000000, 'lower_limit': 0, 'physical_quantity': 'energy'}</li><li>{'type': None, 'upper_limit': 1000, 'lower_limit': 0, 'physical_quantity': 'current'}</li></ul></li><li><strong>manufacturer</strong>: Schneider Electric</li><li><strong>sample_period</strong>: 30</li></ul></li></ul></li><li><strong>creators</strong>: <ul><li>Batra, Nipun</li><li>Parson, Oliver</li><li>Berges, Mario</li><li>Singh, Amarjeet</li><li>Rogers, Alex</li></ul></li><li><strong>name</strong>: combed</li><li><strong>description</strong>: 30 days of electricity data from IIITD campus</li><li><strong>number_of_buildings</strong>: 2</li><li><strong>related_documents</strong>: <ul><li><a href=\"http://combed.github.io\">http://combed.github.io</a></li><li>A comparison of non-intrusive load monitoring methods for commercial and residential buildings\n",
       "</li></ul></li><li><strong>long_name</strong>: Commercial Building Energy Dataset</li><li><strong>contact</strong>: nipunb@iiitd.ac.in</li><li><strong>geo_location</strong>: <ul><li><strong>latitude</strong>: 28.54</li><li><strong>country</strong>: IN</li><li><strong>longitude</strong>: 77.27</li><li><strong>locality</strong>: Delhi</li></ul></li><li><strong>publication_date</strong>: 2014</li><li><strong>timezone</strong>: Asia/Kolkata</li><li><strong>subject</strong>: First public data set from an educational campus</li><li><strong>institution</strong>: Indraprastha Institute of Information Technology Delhi (IIITD)</li><li><strong>schema</strong>: <a href=\"https://github.com/nilmtk/nilm_metadata/tree/v0.2\">https://github.com/nilmtk/nilm_metadata/tree/v0.2</a></li></ul>"
      ],
      "text/plain": [
       "<IPython.core.display.HTML object>"
      ]
     },
     "metadata": {},
     "output_type": "display_data"
    }
   ],
   "source": [
    "print_dict(combed.metadata)"
   ]
  },
  {
   "cell_type": "markdown",
   "id": "3ff8e8e8-af63-4f9d-b735-da3e335e7018",
   "metadata": {},
   "source": [
    "## GREEND"
   ]
  },
  {
   "cell_type": "code",
   "execution_count": 15,
   "id": "54cbbad4-fa93-42ec-a8b3-0913da4190e9",
   "metadata": {},
   "outputs": [
    {
     "name": "stderr",
     "output_type": "stream",
     "text": [
      "E:\\UK-DALE\\.venv\\Lib\\site-packages\\nilmtk\\metergroup.py:85: RuntimeWarning: Building 7 has an empty 'appliances' list.\n",
      "  warnings.warn(\"Building {} has an empty 'appliances' list.\"\n"
     ]
    }
   ],
   "source": [
    "greend = DataSet(\"greend.h5\")"
   ]
  },
  {
   "cell_type": "code",
   "execution_count": 16,
   "id": "91abb7ae-318a-4336-9b7c-cd37e4a385f2",
   "metadata": {},
   "outputs": [
    {
     "data": {
      "text/html": [
       "<ul><li><strong>meter_devices</strong>: <ul><li><strong>circle</strong>: <ul><li><strong>max_sample_period</strong>: 30</li><li><strong>model_url</strong>: <a href=\"http://www.plugwise.com/product/circle\">http://www.plugwise.com/product/circle</a></li><li><strong>description</strong>: des</li><li><strong>manufacturer_url</strong>: <a href=\"http://www.plugwise.com\">http://www.plugwise.com</a></li><li><strong>measurements</strong>: <ul><li>{'type': 'active', 'upper_limit': 3000, 'lower_limit': 0, 'physical_quantity': 'power'}</li></ul></li><li><strong>data_logger</strong>: log</li><li><strong>sample_period</strong>: 1</li><li><strong>wireless</strong>: True</li><li><strong>model</strong>: circle</li><li><strong>pre_pay</strong>: False</li><li><strong>manufacturer</strong>: Plugwise</li><li><strong>wireless_configuration</strong>: <ul><li><strong>base</strong>: Raspberry Pi</li><li><strong>protocol</strong>: zigbee</li><li><strong>carrier_frequency</strong>: 2400</li></ul></li></ul></li></ul></li><li><strong>name</strong>: GREEND</li><li><strong>number_of_buildings</strong>: 8</li><li><strong>related_documents</strong>: <ul><li><a href=\"http://arxiv.org/abs/1405.3100\">http://arxiv.org/abs/1405.3100</a></li></ul></li><li><strong>long_name</strong>: GREEND Electrical ENergy Dataset</li><li><strong>geo_location</strong>: <ul><li><strong>latitude</strong>: 46.61415</li><li><strong>country</strong>: AT</li><li><strong>longitude</strong>: 14.263321</li><li><strong>locality</strong>: Klagenfurt</li></ul></li><li><strong>timezone</strong>: Europe/Vienna</li><li><strong>creators</strong>: <ul><li>Egarter, Dominik</li><li>Elmenreich, Wilfried</li><li>Monacchi, Andrea</li><li>Pöchacker, Manfred</li></ul></li><li><strong>institution</strong>: Alpen-Adria-Universität</li><li><strong>schema</strong>: <a href=\"https://github.com/nilmtk/nilm_metadata/tree/v0.2\">https://github.com/nilmtk/nilm_metadata/tree/v0.2</a></li></ul>"
      ],
      "text/plain": [
       "<IPython.core.display.HTML object>"
      ]
     },
     "metadata": {},
     "output_type": "display_data"
    }
   ],
   "source": [
    "print_dict(greend.metadata)"
   ]
  },
  {
   "cell_type": "markdown",
   "id": "a89614bf-a20d-49be-8272-9181490c4c7b",
   "metadata": {},
   "source": [
    "## UKDALE"
   ]
  },
  {
   "cell_type": "code",
   "execution_count": 17,
   "id": "980ea97d-53bb-4ca0-9920-e2002c1916c7",
   "metadata": {},
   "outputs": [],
   "source": [
    "ukdale_2015 = DataSet(\"ukdale_2015.h5\")"
   ]
  },
  {
   "cell_type": "code",
   "execution_count": 18,
   "id": "274d7868-a7d8-42a6-a026-1fa46d4a11a3",
   "metadata": {},
   "outputs": [],
   "source": [
    "ukdale_2017 = DataSet(\"ukdale_2017.h5\")"
   ]
  },
  {
   "cell_type": "code",
   "execution_count": 19,
   "id": "7e099914-040b-4e4e-b386-fb02e30165f2",
   "metadata": {},
   "outputs": [
    {
     "data": {
      "text/html": [
       "<ul><li><strong>description_of_subjects</strong>: 4 MSc students and 1 PhD student.</li><li><strong>meter_devices</strong>: <ul><li><strong>EcoManagerTxPlug</strong>: <ul><li><strong>max_sample_period</strong>: 120</li><li><strong>model_url</strong>: <a href=\"https://shop.edfenergy.com/Item.aspx?id=540\">https://shop.edfenergy.com/Item.aspx?id=540</a></li><li><strong>wireless_configuration</strong>: <ul><li><strong>base</strong>: creators: [Jack Kelly] model: rfm_edf_ecomanager model_url: <a href=\"https://github.com/JackKelly/rfm_edf_ecomanager/\">https://github.com/JackKelly/rfm_edf_ecomanager/</a>\n",
       "</li><li><strong>protocol</strong>: custom</li><li><strong>carrier_frequency</strong>: 434</li></ul></li><li><strong>brand</strong>: EcoManager</li><li><strong>measurements</strong>: <ul><li>{'lower_limit': 0, 'upper_limit': 3300, 'physical_quantity': 'power', 'type': 'active'}</li></ul></li><li><strong>data_logger</strong>: <ul><li><strong>model</strong>: rfm_ecomanager_logger</li><li><strong>creators</strong>: <ul><li>Jack Kelly</li></ul></li><li><strong>model_url</strong>: <a href=\"https://github.com/JackKelly/rfm_ecomanager_logger\">https://github.com/JackKelly/rfm_ecomanager_logger</a></li></ul></li><li><strong>sample_period</strong>: 6</li><li><strong>wireless</strong>: True</li><li><strong>brand_url</strong>: <a href=\"http://www.edfenergy.com/products-services/for-your-home/ecomanager\">http://www.edfenergy.com/products-services/for-your-home/ecomanager</a></li><li><strong>model</strong>: EcoManagerTxPlug</li><li><strong>seller</strong>: EDF Energy</li><li><strong>manufacturer</strong>: Current Cost / Sailwider</li></ul></li><li><strong>CurrentCostTx</strong>: <ul><li><strong>max_sample_period</strong>: 120</li><li><strong>model_url</strong>: <a href=\"http://www.currentcost.com/product-transmitter.html\">http://www.currentcost.com/product-transmitter.html</a></li><li><strong>wireless_configuration</strong>: <ul><li><strong>base</strong>: creators: [Jack Kelly] model: rfm_edf_ecomanager model_url: <a href=\"https://github.com/JackKelly/rfm_edf_ecomanager/\">https://github.com/JackKelly/rfm_edf_ecomanager/</a>\n",
       "</li><li><strong>protocol</strong>: custom</li><li><strong>carrier_frequency</strong>: 434</li></ul></li><li><strong>measurements</strong>: <ul><li>{'lower_limit': 0, 'upper_limit': 25000, 'physical_quantity': 'power', 'type': 'apparent'}</li></ul></li><li><strong>data_logger</strong>: <ul><li><strong>model</strong>: rfm_ecomanager_logger</li><li><strong>creators</strong>: <ul><li>Jack Kelly</li></ul></li><li><strong>model_url</strong>: <a href=\"https://github.com/JackKelly/rfm_ecomanager_logger\">https://github.com/JackKelly/rfm_ecomanager_logger</a></li></ul></li><li><strong>sample_period</strong>: 6</li><li><strong>wireless</strong>: True</li><li><strong>model</strong>: CurrentCost Tx</li><li><strong>manufacturer</strong>: Current Cost</li></ul></li><li><strong>SoundCardPowerMeter</strong>: <ul><li><strong>max_sample_period</strong>: 3</li><li><strong>wireless</strong>: False</li><li><strong>model_url</strong>: <a href=\"https://github.com/JackKelly/snd_card_power_meter\">https://github.com/JackKelly/snd_card_power_meter</a></li><li><strong>model</strong>: Sound Card Power Meter</li><li><strong>measurements</strong>: <ul><li>{'lower_limit': 0, 'upper_limit': 25000, 'physical_quantity': 'power', 'type': 'active'}</li><li>{'lower_limit': 0, 'upper_limit': 25000, 'physical_quantity': 'power', 'type': 'apparent'}</li><li>{'lower_limit': 180, 'upper_limit': 275, 'physical_quantity': 'voltage', 'description': 'RMS voltage'}</li></ul></li><li><strong>manufacturer</strong>: Jack Kelly / Imperial College London</li><li><strong>sample_period</strong>: 1</li></ul></li><li><strong>EcoManagerWholeHouseTx</strong>: <ul><li><strong>max_sample_period</strong>: 120</li><li><strong>model_url</strong>: <a href=\"https://shop.edfenergy.com/Item.aspx?id=547\">https://shop.edfenergy.com/Item.aspx?id=547</a></li><li><strong>wireless_configuration</strong>: <ul><li><strong>base</strong>: creators: [Jack Kelly] model: rfm_edf_ecomanager model_url: <a href=\"https://github.com/JackKelly/rfm_edf_ecomanager/\">https://github.com/JackKelly/rfm_edf_ecomanager/</a>\n",
       "</li><li><strong>protocol</strong>: custom</li><li><strong>carrier_frequency</strong>: 434</li></ul></li><li><strong>brand</strong>: EcoManager</li><li><strong>measurements</strong>: <ul><li>{'lower_limit': 0, 'upper_limit': 25000, 'physical_quantity': 'power', 'type': 'apparent'}</li></ul></li><li><strong>data_logger</strong>: <ul><li><strong>model</strong>: rfm_ecomanager_logger</li><li><strong>creators</strong>: <ul><li>Jack Kelly</li></ul></li><li><strong>model_url</strong>: <a href=\"https://github.com/JackKelly/rfm_ecomanager_logger\">https://github.com/JackKelly/rfm_ecomanager_logger</a></li></ul></li><li><strong>sample_period</strong>: 6</li><li><strong>wireless</strong>: True</li><li><strong>brand_url</strong>: <a href=\"http://www.edfenergy.com/products-services/for-your-home/ecomanager\">http://www.edfenergy.com/products-services/for-your-home/ecomanager</a></li><li><strong>model</strong>: EcoManagerWholeHouseTx</li><li><strong>seller</strong>: EDF Energy</li><li><strong>site_meter</strong>: True</li><li><strong>manufacturer</strong>: Current Cost / Sailwider</li></ul></li></ul></li><li><strong>description</strong>: Appliance-by-appliance and whole-home power demand for 5 UK homes. Appliance power demand was recorded once every 6 seconds. Whole-home power demand was recorded once every 6 seconds for all homes and additionally at 16kHz for homes 1, 2 and 5. Detailed metadata is included.</li><li><strong>rights_list</strong>: <ul><li>{'name': 'Creative Commons Attribution 4.0 International (CC BY 4.0)', 'uri': 'http://creativecommons.org/licenses/by/4.0/'}</li></ul></li><li><strong>long_name</strong>: UK Domestic Appliance-Level Electricity</li><li><strong>geo_location</strong>: <ul><li><strong>latitude</strong>: 51.464462</li><li><strong>country</strong>: GB</li><li><strong>longitude</strong>: -0.076544</li><li><strong>locality</strong>: London</li></ul></li><li><strong>date</strong>: 2015-01-05</li><li><strong>timezone</strong>: Europe/London</li><li><strong>institution</strong>: Imperial College London</li><li><strong>subject</strong>: Disaggregated domestic electricity demand</li><li><strong>publisher</strong>: UK Energy Research Centre Energy Data Centre (UKERC EDC)</li><li><strong>funding</strong>: <ul><li>Jack Kelly's PhD is funded by an EPSRC DTA</li><li>Hardware necessary for this project was funded from Jack Kelly's Intel EU PhD Fellowship</li></ul></li><li><strong>name</strong>: UK-DALE</li><li><strong>number_of_buildings</strong>: 5</li><li><strong>related_documents</strong>: <ul><li>Dataset is available for download from <a href=\"http://www.doc.ic.ac.uk/~dk3810/data/\">http://www.doc.ic.ac.uk/~dk3810/data/</a></li><li>Dataset is also available from the UK Energy Research Council's Energy Data Centre: The 1-second data is available from <a href=\"http://data.ukedc.rl.ac.uk/cgi-bin/dataset_catalogue/view.cgi.py?id=19\">http://data.ukedc.rl.ac.uk/cgi-bin/dataset_catalogue/view.cgi.py?id=19</a> and the 6-second data is available from <a href=\"http://data.ukedc.rl.ac.uk/cgi-bin/dataset_catalogue/view.cgi.py?id=18\">http://data.ukedc.rl.ac.uk/cgi-bin/dataset_catalogue/view.cgi.py?id=18</a> but please note that this archive is updated less frequently than the data on www.doc.ic.ac.uk/~dk3810/data/</li><li>This research paper describes the data collection: <a href=\"http://arxiv.org/abs/1404.0284\">http://arxiv.org/abs/1404.0284</a></li><li>The following poster describes the metering setup and provides some analyses: Jack Kelly and William Knottenbelt. Smart Meter Disaggregation: Data Collection & Analysis. UK Energy Research Council Summer School Ph.D. poster session. June 2013. PDF: <a href=\"http://www.doc.ic.ac.uk/~dk3810/writing/UKERC_poster2013_v2.pdf\">http://www.doc.ic.ac.uk/~dk3810/writing/UKERC_poster2013_v2.pdf</a></li></ul></li><li><strong>contact</strong>: jack.kelly@imperial.ac.uk</li><li><strong>timeframe</strong>: <ul><li><strong>start</strong>: 2012-11-09T22:28:15+00:00</li><li><strong>end</strong>: 2015-01-05T06:26:44+00:00</li></ul></li><li><strong>geospatial_coverage</strong>: Southern England</li><li><strong>creators</strong>: <ul><li>Kelly, Jack</li></ul></li><li><strong>schema</strong>: <a href=\"https://github.com/nilmtk/nilm_metadata/tree/v0.2\">https://github.com/nilmtk/nilm_metadata/tree/v0.2</a></li></ul>"
      ],
      "text/plain": [
       "<IPython.core.display.HTML object>"
      ]
     },
     "metadata": {},
     "output_type": "display_data"
    }
   ],
   "source": [
    "print_dict(ukdale_2015.metadata)"
   ]
  },
  {
   "cell_type": "code",
   "execution_count": 20,
   "id": "80a78939-67c3-4891-8582-659ce4e4d9a0",
   "metadata": {},
   "outputs": [
    {
     "data": {
      "text/html": [
       "<ul><li><strong>description_of_subjects</strong>: 4 MSc students and 1 PhD student.</li><li><strong>meter_devices</strong>: <ul><li><strong>EcoManagerTxPlug</strong>: <ul><li><strong>max_sample_period</strong>: 120</li><li><strong>model_url</strong>: <a href=\"https://shop.edfenergy.com/Item.aspx?id=540\">https://shop.edfenergy.com/Item.aspx?id=540</a></li><li><strong>wireless_configuration</strong>: <ul><li><strong>base</strong>: creators: [Jack Kelly] model: rfm_edf_ecomanager model_url: <a href=\"https://github.com/JackKelly/rfm_edf_ecomanager/\">https://github.com/JackKelly/rfm_edf_ecomanager/</a>\n",
       "</li><li><strong>protocol</strong>: custom</li><li><strong>carrier_frequency</strong>: 434</li></ul></li><li><strong>brand</strong>: EcoManager</li><li><strong>measurements</strong>: <ul><li>{'lower_limit': 0, 'upper_limit': 3300, 'physical_quantity': 'power', 'type': 'active'}</li></ul></li><li><strong>data_logger</strong>: <ul><li><strong>model</strong>: rfm_ecomanager_logger</li><li><strong>creators</strong>: <ul><li>Jack Kelly</li></ul></li><li><strong>model_url</strong>: <a href=\"https://github.com/JackKelly/rfm_ecomanager_logger\">https://github.com/JackKelly/rfm_ecomanager_logger</a></li></ul></li><li><strong>sample_period</strong>: 6</li><li><strong>wireless</strong>: True</li><li><strong>brand_url</strong>: <a href=\"http://www.edfenergy.com/products-services/for-your-home/ecomanager\">http://www.edfenergy.com/products-services/for-your-home/ecomanager</a></li><li><strong>model</strong>: EcoManagerTxPlug</li><li><strong>seller</strong>: EDF Energy</li><li><strong>manufacturer</strong>: Current Cost / Sailwider</li></ul></li><li><strong>CurrentCostTx</strong>: <ul><li><strong>max_sample_period</strong>: 120</li><li><strong>model_url</strong>: <a href=\"http://www.currentcost.com/product-transmitter.html\">http://www.currentcost.com/product-transmitter.html</a></li><li><strong>wireless_configuration</strong>: <ul><li><strong>base</strong>: creators: [Jack Kelly] model: rfm_edf_ecomanager model_url: <a href=\"https://github.com/JackKelly/rfm_edf_ecomanager/\">https://github.com/JackKelly/rfm_edf_ecomanager/</a>\n",
       "</li><li><strong>protocol</strong>: custom</li><li><strong>carrier_frequency</strong>: 434</li></ul></li><li><strong>measurements</strong>: <ul><li>{'lower_limit': 0, 'upper_limit': 25000, 'physical_quantity': 'power', 'type': 'apparent'}</li></ul></li><li><strong>data_logger</strong>: <ul><li><strong>model</strong>: rfm_ecomanager_logger</li><li><strong>creators</strong>: <ul><li>Jack Kelly</li></ul></li><li><strong>model_url</strong>: <a href=\"https://github.com/JackKelly/rfm_ecomanager_logger\">https://github.com/JackKelly/rfm_ecomanager_logger</a></li></ul></li><li><strong>sample_period</strong>: 6</li><li><strong>wireless</strong>: True</li><li><strong>model</strong>: CurrentCost Tx</li><li><strong>manufacturer</strong>: Current Cost</li></ul></li><li><strong>SoundCardPowerMeter</strong>: <ul><li><strong>max_sample_period</strong>: 3</li><li><strong>wireless</strong>: False</li><li><strong>model_url</strong>: <a href=\"https://github.com/JackKelly/snd_card_power_meter\">https://github.com/JackKelly/snd_card_power_meter</a></li><li><strong>model</strong>: Sound Card Power Meter</li><li><strong>measurements</strong>: <ul><li>{'lower_limit': 0, 'upper_limit': 25000, 'physical_quantity': 'power', 'type': 'active'}</li><li>{'lower_limit': 0, 'upper_limit': 25000, 'physical_quantity': 'power', 'type': 'apparent'}</li><li>{'lower_limit': 180, 'upper_limit': 275, 'physical_quantity': 'voltage', 'description': 'RMS voltage'}</li></ul></li><li><strong>manufacturer</strong>: Jack Kelly / Imperial College London</li><li><strong>sample_period</strong>: 1</li></ul></li><li><strong>EcoManagerWholeHouseTx</strong>: <ul><li><strong>max_sample_period</strong>: 120</li><li><strong>model_url</strong>: <a href=\"https://shop.edfenergy.com/Item.aspx?id=547\">https://shop.edfenergy.com/Item.aspx?id=547</a></li><li><strong>wireless_configuration</strong>: <ul><li><strong>base</strong>: creators: [Jack Kelly] model: rfm_edf_ecomanager model_url: <a href=\"https://github.com/JackKelly/rfm_edf_ecomanager/\">https://github.com/JackKelly/rfm_edf_ecomanager/</a>\n",
       "</li><li><strong>protocol</strong>: custom</li><li><strong>carrier_frequency</strong>: 434</li></ul></li><li><strong>brand</strong>: EcoManager</li><li><strong>measurements</strong>: <ul><li>{'lower_limit': 0, 'upper_limit': 25000, 'physical_quantity': 'power', 'type': 'apparent'}</li></ul></li><li><strong>data_logger</strong>: <ul><li><strong>model</strong>: rfm_ecomanager_logger</li><li><strong>creators</strong>: <ul><li>Jack Kelly</li></ul></li><li><strong>model_url</strong>: <a href=\"https://github.com/JackKelly/rfm_ecomanager_logger\">https://github.com/JackKelly/rfm_ecomanager_logger</a></li></ul></li><li><strong>sample_period</strong>: 6</li><li><strong>wireless</strong>: True</li><li><strong>brand_url</strong>: <a href=\"http://www.edfenergy.com/products-services/for-your-home/ecomanager\">http://www.edfenergy.com/products-services/for-your-home/ecomanager</a></li><li><strong>model</strong>: EcoManagerWholeHouseTx</li><li><strong>seller</strong>: EDF Energy</li><li><strong>site_meter</strong>: True</li><li><strong>manufacturer</strong>: Current Cost / Sailwider</li></ul></li></ul></li><li><strong>description</strong>: Appliance-by-appliance and whole-home power demand for 5 UK homes. Appliance power demand was recorded once every 6 seconds. Whole-home power demand was recorded once every 6 seconds for all homes and additionally at 16kHz for homes 1, 2 and 5. Detailed metadata is included.</li><li><strong>rights_list</strong>: <ul><li>{'name': 'Creative Commons Attribution 4.0 International (CC BY 4.0)', 'uri': 'http://creativecommons.org/licenses/by/4.0/'}</li></ul></li><li><strong>long_name</strong>: UK Domestic Appliance-Level Electricity</li><li><strong>geo_location</strong>: <ul><li><strong>latitude</strong>: 51.464462</li><li><strong>country</strong>: GB</li><li><strong>longitude</strong>: -0.076544</li><li><strong>locality</strong>: London</li></ul></li><li><strong>date</strong>: 2017-04-26</li><li><strong>timezone</strong>: Europe/London</li><li><strong>institution</strong>: Imperial College London</li><li><strong>subject</strong>: Disaggregated domestic electricity demand</li><li><strong>publisher</strong>: UK Energy Research Centre Energy Data Centre (UKERC EDC)</li><li><strong>funding</strong>: <ul><li>Jack Kelly's PhD is funded by an EPSRC DTA</li><li>Hardware necessary for this project was funded from Jack Kelly's Intel EU PhD Fellowship</li></ul></li><li><strong>name</strong>: UK-DALE</li><li><strong>number_of_buildings</strong>: 5</li><li><strong>related_documents</strong>: <ul><li>Jack Kelly and William Knottenbelt. The UK-DALE dataset, domestic appliance-level electricity demand and whole-house demand from five UK homes.  To appear in Scientific Data 2:150007.  DOI:10.1038/sdata.2015.7 arXiv:1404.0284 (2015).</li><li>Dataset is available for download from <a href=\"http://www.doc.ic.ac.uk/~dk3810/data/\">http://www.doc.ic.ac.uk/~dk3810/data/</a></li><li>Dataset is also available from the UK Energy Research Council's Energy Data Centre: The 1-second data is available from <a href=\"http://data.ukedc.rl.ac.uk/cgi-bin/dataset_catalogue/view.cgi.py?id=19\">http://data.ukedc.rl.ac.uk/cgi-bin/dataset_catalogue/view.cgi.py?id=19</a> and the 6-second data is available from <a href=\"http://data.ukedc.rl.ac.uk/cgi-bin/dataset_catalogue/view.cgi.py?id=18\">http://data.ukedc.rl.ac.uk/cgi-bin/dataset_catalogue/view.cgi.py?id=18</a> but please note that this archive is updated less frequently than the data on www.doc.ic.ac.uk/~dk3810/data/</li></ul></li><li><strong>contact</strong>: jack.kelly@imperial.ac.uk</li><li><strong>timeframe</strong>: <ul><li><strong>start</strong>: 2012-11-09T22:28:15+00:00</li><li><strong>end</strong>: 2017-04-26T18:35:53+01:00</li></ul></li><li><strong>geospatial_coverage</strong>: Southern England</li><li><strong>creators</strong>: <ul><li>Kelly, Jack</li></ul></li><li><strong>schema</strong>: <a href=\"https://github.com/nilmtk/nilm_metadata/tree/v0.2\">https://github.com/nilmtk/nilm_metadata/tree/v0.2</a></li></ul>"
      ],
      "text/plain": [
       "<IPython.core.display.HTML object>"
      ]
     },
     "metadata": {},
     "output_type": "display_data"
    }
   ],
   "source": [
    "print_dict(ukdale_2017.metadata)"
   ]
  },
  {
   "cell_type": "markdown",
   "id": "c03bd682-4027-40ae-a5c7-0f17ce2bfcf2",
   "metadata": {},
   "source": [
    "## REDD"
   ]
  },
  {
   "cell_type": "code",
   "execution_count": 1,
   "id": "2a2f4b2e-2fd5-466f-8155-72572afd6f4e",
   "metadata": {},
   "outputs": [],
   "source": [
    "from nilmtk.dataset_converters import convert_redd"
   ]
  },
  {
   "cell_type": "markdown",
   "id": "62f5f956-bdc3-4c3c-bd8a-c6d2aaf5ddc4",
   "metadata": {},
   "source": [
    "Dataset folder structure:"
   ]
  },
  {
   "cell_type": "code",
   "execution_count": 2,
   "id": "cb973901-ccfb-411d-a581-e1d63fe05bf6",
   "metadata": {
    "scrolled": true
   },
   "outputs": [
    {
     "name": "stdout",
     "output_type": "stream",
     "text": [
      "Found directories: ['house_1', 'house_2', 'house_3', 'house_4', 'house_5', 'house_6']\n",
      "Found houses: [1, 2, 3, 4, 5, 6]\n",
      "Loading house 1... 1 "
     ]
    },
    {
     "ename": "ValueError",
     "evalue": "could not convert string to float: 'dryer,main'",
     "output_type": "error",
     "traceback": [
      "\u001b[31m---------------------------------------------------------------------------\u001b[39m",
      "\u001b[31mTypeError\u001b[39m                                 Traceback (most recent call last)",
      "\u001b[36mFile \u001b[39m\u001b[32mparsers.pyx:1161\u001b[39m, in \u001b[36mpandas._libs.parsers.TextReader._convert_tokens\u001b[39m\u001b[34m()\u001b[39m\n",
      "\u001b[31mTypeError\u001b[39m: Cannot cast array data from dtype('O') to dtype('float32') according to the rule 'safe'",
      "\nDuring handling of the above exception, another exception occurred:\n",
      "\u001b[31mValueError\u001b[39m                                Traceback (most recent call last)",
      "\u001b[36mCell\u001b[39m\u001b[36m \u001b[39m\u001b[32mIn[2]\u001b[39m\u001b[32m, line 1\u001b[39m\n\u001b[32m----> \u001b[39m\u001b[32m1\u001b[39m \u001b[43mconvert_redd\u001b[49m\u001b[43m(\u001b[49m\u001b[33;43m'\u001b[39;49m\u001b[33;43m./redd\u001b[39;49m\u001b[33;43m'\u001b[39;49m\u001b[43m,\u001b[49m\u001b[43m \u001b[49m\u001b[33;43m'\u001b[39;49m\u001b[33;43m./redd.h5\u001b[39;49m\u001b[33;43m'\u001b[39;49m\u001b[43m)\u001b[49m\n",
      "\u001b[36mFile \u001b[39m\u001b[32mE:\\UK-DALE\\.venv\\Lib\\site-packages\\nilmtk\\dataset_converters\\redd\\convert_redd.py:43\u001b[39m, in \u001b[36mconvert_redd\u001b[39m\u001b[34m(redd_path, output_filename, format)\u001b[39m\n\u001b[32m     40\u001b[39m store = get_datastore(output_filename, \u001b[38;5;28mformat\u001b[39m, mode=\u001b[33m'\u001b[39m\u001b[33mw\u001b[39m\u001b[33m'\u001b[39m)\n\u001b[32m     42\u001b[39m \u001b[38;5;66;03m# Convert raw data to DataStore\u001b[39;00m\n\u001b[32m---> \u001b[39m\u001b[32m43\u001b[39m \u001b[43m_convert\u001b[49m\u001b[43m(\u001b[49m\u001b[43mredd_path\u001b[49m\u001b[43m,\u001b[49m\u001b[43m \u001b[49m\u001b[43mstore\u001b[49m\u001b[43m,\u001b[49m\u001b[43m \u001b[49m\u001b[43m_redd_measurement_mapping_func\u001b[49m\u001b[43m,\u001b[49m\u001b[43m \u001b[49m\u001b[33;43m'\u001b[39;49m\u001b[33;43mUS/Eastern\u001b[39;49m\u001b[33;43m'\u001b[39;49m\u001b[43m)\u001b[49m\n\u001b[32m     45\u001b[39m s=join(get_module_directory(),\n\u001b[32m     46\u001b[39m                           \u001b[33m'\u001b[39m\u001b[33mdataset_converters\u001b[39m\u001b[33m'\u001b[39m,\n\u001b[32m     47\u001b[39m                           \u001b[33m'\u001b[39m\u001b[33mredd\u001b[39m\u001b[33m'\u001b[39m,\n\u001b[32m     48\u001b[39m                           \u001b[33m'\u001b[39m\u001b[33mmetadata\u001b[39m\u001b[33m'\u001b[39m)\n\u001b[32m     51\u001b[39m \u001b[38;5;66;03m# Add metadata\u001b[39;00m\n",
      "\u001b[36mFile \u001b[39m\u001b[32mE:\\UK-DALE\\.venv\\Lib\\site-packages\\nilmtk\\dataset_converters\\redd\\convert_redd.py:98\u001b[39m, in \u001b[36m_convert\u001b[39m\u001b[34m(input_path, store, measurement_mapping_func, tz, sort_index, drop_duplicates)\u001b[39m\n\u001b[32m     96\u001b[39m     measurements = measurement_mapping_func(house_id, chan_id)\n\u001b[32m     97\u001b[39m     csv_filename = _get_csv_filename(input_path, key)\n\u001b[32m---> \u001b[39m\u001b[32m98\u001b[39m     df = \u001b[43m_load_csv\u001b[49m\u001b[43m(\u001b[49m\u001b[43mcsv_filename\u001b[49m\u001b[43m,\u001b[49m\u001b[43m \u001b[49m\u001b[43mmeasurements\u001b[49m\u001b[43m,\u001b[49m\u001b[43m \u001b[49m\u001b[43mtz\u001b[49m\u001b[43m,\u001b[49m\u001b[43m \u001b[49m\n\u001b[32m     99\u001b[39m \u001b[43m        \u001b[49m\u001b[43msort_index\u001b[49m\u001b[43m=\u001b[49m\u001b[43msort_index\u001b[49m\u001b[43m,\u001b[49m\u001b[43m \u001b[49m\n\u001b[32m    100\u001b[39m \u001b[43m        \u001b[49m\u001b[43mdrop_duplicates\u001b[49m\u001b[43m=\u001b[49m\u001b[43mdrop_duplicates\u001b[49m\n\u001b[32m    101\u001b[39m \u001b[43m    \u001b[49m\u001b[43m)\u001b[49m\n\u001b[32m    103\u001b[39m     store.put(\u001b[38;5;28mstr\u001b[39m(key), df)\n\u001b[32m    104\u001b[39m \u001b[38;5;28mprint\u001b[39m()\n",
      "\u001b[36mFile \u001b[39m\u001b[32mE:\\UK-DALE\\.venv\\Lib\\site-packages\\nilmtk\\dataset_converters\\redd\\convert_redd.py:201\u001b[39m, in \u001b[36m_load_csv\u001b[39m\u001b[34m(filename, columns, tz, drop_duplicates, sort_index)\u001b[39m\n\u001b[32m    183\u001b[39m \u001b[38;5;250m\u001b[39m\u001b[33;03m\"\"\"\u001b[39;00m\n\u001b[32m    184\u001b[39m \u001b[33;03mParameters\u001b[39;00m\n\u001b[32m    185\u001b[39m \u001b[33;03m----------\u001b[39;00m\n\u001b[32m   (...)\u001b[39m\u001b[32m    198\u001b[39m \u001b[33;03mpandas.DataFrame\u001b[39;00m\n\u001b[32m    199\u001b[39m \u001b[33;03m\"\"\"\u001b[39;00m\n\u001b[32m    200\u001b[39m \u001b[38;5;66;03m# Load data\u001b[39;00m\n\u001b[32m--> \u001b[39m\u001b[32m201\u001b[39m df = \u001b[43mpd\u001b[49m\u001b[43m.\u001b[49m\u001b[43mread_csv\u001b[49m\u001b[43m(\u001b[49m\u001b[43mfilename\u001b[49m\u001b[43m,\u001b[49m\u001b[43m \u001b[49m\u001b[43msep\u001b[49m\u001b[43m=\u001b[49m\u001b[33;43m'\u001b[39;49m\u001b[33;43m \u001b[39;49m\u001b[33;43m'\u001b[39;49m\u001b[43m,\u001b[49m\u001b[43m \u001b[49m\u001b[43mnames\u001b[49m\u001b[43m=\u001b[49m\u001b[43mcolumns\u001b[49m\u001b[43m,\u001b[49m\n\u001b[32m    202\u001b[39m \u001b[43m                 \u001b[49m\u001b[43mdtype\u001b[49m\u001b[43m=\u001b[49m\u001b[43m{\u001b[49m\u001b[43mm\u001b[49m\u001b[43m:\u001b[49m\u001b[43mnp\u001b[49m\u001b[43m.\u001b[49m\u001b[43mfloat32\u001b[49m\u001b[43m \u001b[49m\u001b[38;5;28;43;01mfor\u001b[39;49;00m\u001b[43m \u001b[49m\u001b[43mm\u001b[49m\u001b[43m \u001b[49m\u001b[38;5;129;43;01min\u001b[39;49;00m\u001b[43m \u001b[49m\u001b[43mcolumns\u001b[49m\u001b[43m}\u001b[49m\u001b[43m)\u001b[49m\n\u001b[32m    204\u001b[39m \u001b[38;5;66;03m# Modify the column labels to reflect the power measurements recorded.\u001b[39;00m\n\u001b[32m    205\u001b[39m df.columns.set_names(LEVEL_NAMES, inplace=\u001b[38;5;28;01mTrue\u001b[39;00m)\n",
      "\u001b[36mFile \u001b[39m\u001b[32mE:\\UK-DALE\\.venv\\Lib\\site-packages\\pandas\\io\\parsers\\readers.py:1026\u001b[39m, in \u001b[36mread_csv\u001b[39m\u001b[34m(filepath_or_buffer, sep, delimiter, header, names, index_col, usecols, dtype, engine, converters, true_values, false_values, skipinitialspace, skiprows, skipfooter, nrows, na_values, keep_default_na, na_filter, verbose, skip_blank_lines, parse_dates, infer_datetime_format, keep_date_col, date_parser, date_format, dayfirst, cache_dates, iterator, chunksize, compression, thousands, decimal, lineterminator, quotechar, quoting, doublequote, escapechar, comment, encoding, encoding_errors, dialect, on_bad_lines, delim_whitespace, low_memory, memory_map, float_precision, storage_options, dtype_backend)\u001b[39m\n\u001b[32m   1013\u001b[39m kwds_defaults = _refine_defaults_read(\n\u001b[32m   1014\u001b[39m     dialect,\n\u001b[32m   1015\u001b[39m     delimiter,\n\u001b[32m   (...)\u001b[39m\u001b[32m   1022\u001b[39m     dtype_backend=dtype_backend,\n\u001b[32m   1023\u001b[39m )\n\u001b[32m   1024\u001b[39m kwds.update(kwds_defaults)\n\u001b[32m-> \u001b[39m\u001b[32m1026\u001b[39m \u001b[38;5;28;01mreturn\u001b[39;00m \u001b[43m_read\u001b[49m\u001b[43m(\u001b[49m\u001b[43mfilepath_or_buffer\u001b[49m\u001b[43m,\u001b[49m\u001b[43m \u001b[49m\u001b[43mkwds\u001b[49m\u001b[43m)\u001b[49m\n",
      "\u001b[36mFile \u001b[39m\u001b[32mE:\\UK-DALE\\.venv\\Lib\\site-packages\\pandas\\io\\parsers\\readers.py:626\u001b[39m, in \u001b[36m_read\u001b[39m\u001b[34m(filepath_or_buffer, kwds)\u001b[39m\n\u001b[32m    623\u001b[39m     \u001b[38;5;28;01mreturn\u001b[39;00m parser\n\u001b[32m    625\u001b[39m \u001b[38;5;28;01mwith\u001b[39;00m parser:\n\u001b[32m--> \u001b[39m\u001b[32m626\u001b[39m     \u001b[38;5;28;01mreturn\u001b[39;00m \u001b[43mparser\u001b[49m\u001b[43m.\u001b[49m\u001b[43mread\u001b[49m\u001b[43m(\u001b[49m\u001b[43mnrows\u001b[49m\u001b[43m)\u001b[49m\n",
      "\u001b[36mFile \u001b[39m\u001b[32mE:\\UK-DALE\\.venv\\Lib\\site-packages\\pandas\\io\\parsers\\readers.py:1923\u001b[39m, in \u001b[36mTextFileReader.read\u001b[39m\u001b[34m(self, nrows)\u001b[39m\n\u001b[32m   1916\u001b[39m nrows = validate_integer(\u001b[33m\"\u001b[39m\u001b[33mnrows\u001b[39m\u001b[33m\"\u001b[39m, nrows)\n\u001b[32m   1917\u001b[39m \u001b[38;5;28;01mtry\u001b[39;00m:\n\u001b[32m   1918\u001b[39m     \u001b[38;5;66;03m# error: \"ParserBase\" has no attribute \"read\"\u001b[39;00m\n\u001b[32m   1919\u001b[39m     (\n\u001b[32m   1920\u001b[39m         index,\n\u001b[32m   1921\u001b[39m         columns,\n\u001b[32m   1922\u001b[39m         col_dict,\n\u001b[32m-> \u001b[39m\u001b[32m1923\u001b[39m     ) = \u001b[38;5;28;43mself\u001b[39;49m\u001b[43m.\u001b[49m\u001b[43m_engine\u001b[49m\u001b[43m.\u001b[49m\u001b[43mread\u001b[49m\u001b[43m(\u001b[49m\u001b[43m  \u001b[49m\u001b[38;5;66;43;03m# type: ignore[attr-defined]\u001b[39;49;00m\n\u001b[32m   1924\u001b[39m \u001b[43m        \u001b[49m\u001b[43mnrows\u001b[49m\n\u001b[32m   1925\u001b[39m \u001b[43m    \u001b[49m\u001b[43m)\u001b[49m\n\u001b[32m   1926\u001b[39m \u001b[38;5;28;01mexcept\u001b[39;00m \u001b[38;5;167;01mException\u001b[39;00m:\n\u001b[32m   1927\u001b[39m     \u001b[38;5;28mself\u001b[39m.close()\n",
      "\u001b[36mFile \u001b[39m\u001b[32mE:\\UK-DALE\\.venv\\Lib\\site-packages\\pandas\\io\\parsers\\c_parser_wrapper.py:234\u001b[39m, in \u001b[36mCParserWrapper.read\u001b[39m\u001b[34m(self, nrows)\u001b[39m\n\u001b[32m    232\u001b[39m \u001b[38;5;28;01mtry\u001b[39;00m:\n\u001b[32m    233\u001b[39m     \u001b[38;5;28;01mif\u001b[39;00m \u001b[38;5;28mself\u001b[39m.low_memory:\n\u001b[32m--> \u001b[39m\u001b[32m234\u001b[39m         chunks = \u001b[38;5;28;43mself\u001b[39;49m\u001b[43m.\u001b[49m\u001b[43m_reader\u001b[49m\u001b[43m.\u001b[49m\u001b[43mread_low_memory\u001b[49m\u001b[43m(\u001b[49m\u001b[43mnrows\u001b[49m\u001b[43m)\u001b[49m\n\u001b[32m    235\u001b[39m         \u001b[38;5;66;03m# destructive to chunks\u001b[39;00m\n\u001b[32m    236\u001b[39m         data = _concatenate_chunks(chunks)\n",
      "\u001b[36mFile \u001b[39m\u001b[32mparsers.pyx:838\u001b[39m, in \u001b[36mpandas._libs.parsers.TextReader.read_low_memory\u001b[39m\u001b[34m()\u001b[39m\n",
      "\u001b[36mFile \u001b[39m\u001b[32mparsers.pyx:921\u001b[39m, in \u001b[36mpandas._libs.parsers.TextReader._read_rows\u001b[39m\u001b[34m()\u001b[39m\n",
      "\u001b[36mFile \u001b[39m\u001b[32mparsers.pyx:1066\u001b[39m, in \u001b[36mpandas._libs.parsers.TextReader._convert_column_data\u001b[39m\u001b[34m()\u001b[39m\n",
      "\u001b[36mFile \u001b[39m\u001b[32mparsers.pyx:1167\u001b[39m, in \u001b[36mpandas._libs.parsers.TextReader._convert_tokens\u001b[39m\u001b[34m()\u001b[39m\n",
      "\u001b[31mValueError\u001b[39m: could not convert string to float: 'dryer,main'"
     ]
    }
   ],
   "source": [
    "convert_redd('./redd', './redd.h5')"
   ]
  },
  {
   "cell_type": "markdown",
   "id": "91c7bfb8-e264-4d8c-a1ce-3e38dfcf5b17",
   "metadata": {},
   "source": [
    "## REFIT"
   ]
  },
  {
   "cell_type": "code",
   "execution_count": 15,
   "id": "a6e6c2ae-885d-4214-a140-a684f89fdc3f",
   "metadata": {},
   "outputs": [],
   "source": [
    "# from nilmtk.dataset_converters import convert_refit"
   ]
  },
  {
   "cell_type": "code",
   "execution_count": 16,
   "id": "aee47a33-ef73-4ffc-b6e8-831dbd16251b",
   "metadata": {},
   "outputs": [],
   "source": [
    "# convert_refit(\"./refit_clean/\", \"./refit.h5\")"
   ]
  },
  {
   "cell_type": "markdown",
   "id": "1274b072-9547-4ecd-acfe-e1d90b7c2207",
   "metadata": {},
   "source": [
    "```\n",
    "Loading house 1... Using original filenames (House_XX.csv)\n",
    "1 2 3 4 5 6 7 8 9 10 \n",
    "Loading house 2... 1 2 3 4 5 6 7 8 9 10 \n",
    "Loading house 3... 1 2 3 4 5 6 7 8 9 10 \n",
    "Loading house 4... 1 2 3 4 5 6 7 8 9 10 \n",
    "Loading house 5... 1 2 3 4 5 6 7 8 9 10 \n",
    "Loading house 6... 1 2 3 4 5 6 7 8 9 10 \n",
    "Loading house 7... 1 2 3 4 5 6 7 8 9 10 \n",
    "Loading house 8... 1 2 3 4 5 6 7 8 9 10 \n",
    "Loading house 9... 1 2 3 4 5 6 7 8 9 10 \n",
    "Loading house 10... 1 2 3 4 5 6 7 8 9 10 \n",
    "Loading house 11... 1 2 3 4 5 6 7 8 9 10 \n",
    "Loading house 12... 1 2 3 4 5 6 7 8 9 10 \n",
    "Loading house 13... 1 2 3 4 5 6 7 8 9 10 \n",
    "Loading house 15... 1 2 3 4 5 6 7 8 9 10 \n",
    "Loading house 16... 1 2 3 4 5 6 7 8 9 10 \n",
    "Loading house 17... 1 2 3 4 5 6 7 8 9 10 \n",
    "Loading house 18... 1 2 3 4 5 6 7 8 9 10 \n",
    "Loading house 19... 1 2 3 4 5 6 7 8 9 10 \n",
    "Loading house 20... 1 2 3 4 5 6 7 8 9 10 \n",
    "Loading house 21... 1 2 3 4 5 6 7 8 9 10 \n",
    "Loaded metadata\n",
    "Done converting YAML metadata to HDF5!\n",
    "Done converting REFIT to HDF5!\n",
    "```"
   ]
  },
  {
   "cell_type": "code",
   "execution_count": 10,
   "id": "cfa3889d-ae0d-44d8-bb25-d1c59d8b1a8d",
   "metadata": {},
   "outputs": [],
   "source": [
    "refit = DataSet('refit.h5')"
   ]
  },
  {
   "cell_type": "code",
   "execution_count": 11,
   "id": "2c3a2ea9-ba1a-48bd-9e24-71bbef2cf963",
   "metadata": {},
   "outputs": [
    {
     "data": {
      "text/html": [
       "<ul><li><strong>name</strong>: REFIT</li><li><strong>long_name</strong>: REFIT Electrical Load Measurements dataset</li><li><strong>creators</strong>: <ul><li>Murray, David</li><li>Stankovic, Lina</li></ul></li><li><strong>publication_date</strong>: 2015</li><li><strong>institution</strong>: University of Strathclyde</li><li><strong>contact</strong>: david.murray.2013@uni.strath.ac.uk</li><li><strong>description</strong>: Up to 2 years of power data for 20 UK homes.</li><li><strong>subject</strong>: Disaggregated power demand from domestic buildings.</li><li><strong>number_of_buildings</strong>: 20</li><li><strong>timezone</strong>: Europe/London</li><li><strong>geo_location</strong>: <ul><li><strong>locality</strong>: Loughborough</li><li><strong>country</strong>: UK</li><li><strong>latitude</strong>: 52.769655</li><li><strong>longitude</strong>: -1.225061</li></ul></li><li><strong>related_documents</strong>: <ul><li><a href=\"http://iet.jrc.ec.europa.eu/energyefficiency/sites/energyefficiency/files/events/EEDAL15/S25_Smart_Meters/eedal15_submission_124.pdf\">http://iet.jrc.ec.europa.eu/energyefficiency/sites/energyefficiency/files/events/EEDAL15/S25_Smart_Meters/eedal15_submission_124.pdf</a></li><li>David Murray, Jing Liao, Lina Stankovic, Vladimir Stankovic, Richard Hauxwell-Baldwin, Charlie Wilson, Michael Coleman, Tom Kane, Steven Firth. A data management platform for personalised real-time energy feedback. In Procededings of the 8th International Conference on Energy Efficiency in Domestic Appliances and Lighting, 2015.\n",
       "</li></ul></li><li><strong>schema</strong>: <a href=\"https://github.com/nilmtk/nilm_metadata/tree/v0.2\">https://github.com/nilmtk/nilm_metadata/tree/v0.2</a></li><li><strong>meter_devices</strong>: <ul><li><strong>IAM</strong>: <ul><li><strong>model</strong>: unknown</li><li><strong>manufacturer</strong>: unknown</li><li><strong>manufacturer_url</strong>: unknown</li><li><strong>description</strong>: individual appliance monitor</li><li><strong>sample_period</strong>: 7</li><li><strong>max_sample_period</strong>: 120</li><li><strong>measurements</strong>: <ul><li>{'physical_quantity': 'power', 'type': 'active', 'upper_limit': 5000, 'lower_limit': 0}</li></ul></li><li><strong>wireless</strong>: True</li></ul></li><li><strong>Clamp</strong>: <ul><li><strong>model</strong>: unknown</li><li><strong>manufacturer</strong>: unknown</li><li><strong>manufacturer_url</strong>: unknown</li><li><strong>description</strong>: current clamp</li><li><strong>sample_period</strong>: 7</li><li><strong>max_sample_period</strong>: 120</li><li><strong>measurements</strong>: <ul><li>{'physical_quantity': 'power', 'type': 'active', 'upper_limit': 5000, 'lower_limit': 0}</li></ul></li><li><strong>wireless</strong>: True</li></ul></li></ul></li></ul>"
      ],
      "text/plain": [
       "<IPython.core.display.HTML object>"
      ]
     },
     "metadata": {},
     "output_type": "display_data"
    }
   ],
   "source": [
    "print_dict(refit.metadata)"
   ]
  },
  {
   "cell_type": "markdown",
   "id": "0a5ac972-2a6c-41ca-92b9-a9814366ff04",
   "metadata": {},
   "source": [
    "## HIPE"
   ]
  },
  {
   "cell_type": "code",
   "execution_count": 1,
   "id": "6e403632-23d7-4d0e-8b11-c7d4e4ef20b5",
   "metadata": {},
   "outputs": [],
   "source": [
    "# from nilmtk.dataset_converters import convert_hipe"
   ]
  },
  {
   "cell_type": "markdown",
   "id": "e89fec0f-b9f3-4188-a0d6-3f287410888d",
   "metadata": {},
   "source": [
    "Fix: Add `format='mixed'` to line 99 in `convert_hipe.py`\n",
    "```python\n",
    "df.index = pd.to_datetime(df.index, utc=True, format='mixed')\n",
    "```"
   ]
  },
  {
   "cell_type": "markdown",
   "id": "a02ae392-aa6c-41bf-9687-7bb7d45caee9",
   "metadata": {},
   "source": [
    "Fix: Change `metadata` path to be:\n",
    "\n",
    "```python\n",
    "metadata_path = join(get_module_directory(),\n",
    "                              'dataset_converters', \n",
    "                              'hipe', \n",
    "                              'metadata')\n",
    "```"
   ]
  },
  {
   "cell_type": "code",
   "execution_count": 3,
   "id": "b3448315-c187-4eff-b0e0-5684163f51c9",
   "metadata": {},
   "outputs": [],
   "source": [
    "# convert_hipe(\"./hipe_cleaned_v1.0.1_geq_2017-10-23_lt_2017-10-30\", \"hipe.h5\")"
   ]
  },
  {
   "cell_type": "markdown",
   "id": "c85db451-abeb-4b31-9e83-2ebc4c4e88ff",
   "metadata": {},
   "source": [
    "```\n",
    "Loading factory 1...... \n",
    "1 Processing ./hipe_cleaned_v1.0.1_geq_2017-10-23_lt_2017-10-30\\MainTerminal_PhaseCount_3_geq_2017-10-23_lt_2017-10-30.csv\n",
    "2 Processing ./hipe_cleaned_v1.0.1_geq_2017-10-23_lt_2017-10-30\\ChipPress_PhaseCount_3_geq_2017-10-23_lt_2017-10-30.csv\n",
    "3 Processing ./hipe_cleaned_v1.0.1_geq_2017-10-23_lt_2017-10-30\\ChipSaw_PhaseCount_3_geq_2017-10-23_lt_2017-10-30.csv\n",
    "4 Processing ./hipe_cleaned_v1.0.1_geq_2017-10-23_lt_2017-10-30\\HighTemperatureOven_PhaseCount_3_geq_2017-10-23_lt_2017-10-30.csv\n",
    "5 Processing ./hipe_cleaned_v1.0.1_geq_2017-10-23_lt_2017-10-30\\PickAndPlaceUnit_PhaseCount_2_geq_2017-10-23_lt_2017-10-30.csv\n",
    "6 Processing ./hipe_cleaned_v1.0.1_geq_2017-10-23_lt_2017-10-30\\ScreenPrinter_PhaseCount_2_geq_2017-10-23_lt_2017-10-30.csv\n",
    "7 Processing ./hipe_cleaned_v1.0.1_geq_2017-10-23_lt_2017-10-30\\SolderingOven_PhaseCount_3_geq_2017-10-23_lt_2017-10-30.csv\n",
    "8 Processing ./hipe_cleaned_v1.0.1_geq_2017-10-23_lt_2017-10-30\\VacuumOven_PhaseCount_3_geq_2017-10-23_lt_2017-10-30.csv\n",
    "9 Processing ./hipe_cleaned_v1.0.1_geq_2017-10-23_lt_2017-10-30\\VacuumPump1_PhaseCount_3_geq_2017-10-23_lt_2017-10-30.csv\n",
    "10 Processing ./hipe_cleaned_v1.0.1_geq_2017-10-23_lt_2017-10-30\\VacuumPump2_PhaseCount_2_geq_2017-10-23_lt_2017-10-30.csv\n",
    "11 Processing ./hipe_cleaned_v1.0.1_geq_2017-10-23_lt_2017-10-30\\WashingMachine_PhaseCount_3_geq_2017-10-23_lt_2017-10-30.csv\n",
    "\n",
    "E:\\UK-DALE\\.venv\\Lib\\site-packages\\nilmtk\\dataset_converters\\hipe\\metadata\n",
    "Loaded metadata\n",
    "Done converting YAML metadata to HDF5!\n",
    "Done converting HIPE!\n",
    "```"
   ]
  },
  {
   "cell_type": "code",
   "execution_count": 6,
   "id": "d2b0a280-7c5a-417d-b275-4c447ae4affa",
   "metadata": {},
   "outputs": [],
   "source": [
    "hipe = DataSet(\"hipe.h5\")"
   ]
  },
  {
   "cell_type": "code",
   "execution_count": 7,
   "id": "054e69f8-5d86-43d3-9e20-6bcf6c664387",
   "metadata": {},
   "outputs": [
    {
     "data": {
      "text/html": [
       "<ul><li><strong>name</strong>: HIPE</li><li><strong>long_name</strong>: An Energy-Status-Data Set from Industrial Production</li><li><strong>creators</strong>: <ul><li>Bischof, Simon</li><li>Trittenbach, Holger</li><li>Vollmer, Michael</li><li>Werle, Dominik</li><li>Blank, Thomas</li><li>Boehm, Klemens</li></ul></li><li><strong>publication_date</strong>: 2018</li><li><strong>institution</strong>: Karlsruhe Institute of Technology (KIT)</li><li><strong>contact</strong>: firstname.lastname@kit.edu</li><li><strong>description</strong>: High-resolution Industrial Production Energy data set</li><li><strong>subject</strong>: None</li><li><strong>number_of_buildings</strong>: 1</li><li><strong>timezone</strong>: Europe/Berlin</li><li><strong>geo_location</strong>: <ul><li><strong>locality</strong>: Karlsruhe</li><li><strong>country</strong>: DE</li><li><strong>latitude</strong>: 49.099398</li><li><strong>longitude</strong>: 8.433545</li></ul></li><li><strong>related_documents</strong>: <ul><li><a href=\"https://www.energystatusdata.kit.edu/hipe.php\">https://www.energystatusdata.kit.edu/hipe.php</a></li><li>Simon Bischof, Holger Trittenbach, Michael Vollmer, Dominik Werle, Thomas Blank, Klemens Böhm: HIPE: An Energy-Status-Data Set from Industrial Production. e-Energy 2018: 599-603. <a href=\"https://doi.org/10.1145/3208903.3210278\">https://doi.org/10.1145/3208903.3210278</a>\n",
       "</li><li>Florian Kalinke, Pawel Bielski, Snigdha Singh, Edouard Fouché, Klemens Böhm: An Evaluation of NILM Approaches on Industrial Energy-Consumption Data. e-Energy 2021: 239-243. <a href=\"https://doi.org/10.1145/3447555.3464863\">https://doi.org/10.1145/3447555.3464863</a>\n",
       "</li></ul></li><li><strong>meter_devices</strong>: <ul><li><strong>HIPE_EEM_MA600</strong>: <ul><li><strong>model</strong>: EEM MA600</li><li><strong>manufacturer</strong>: Phoenix Contact</li><li><strong>manufacturer_url</strong>: <a href=\"https://www.phoenixcontact.com\">https://www.phoenixcontact.com</a></li><li><strong>description</strong>: Energy measurement device to measure electrical parameters in low voltage installations up to 700 V, acquisition of individual harmonic oscillations - can be extended with communication and special functional modules.\n",
       "</li><li><strong>sample_period</strong>: 5</li><li><strong>max_sample_period</strong>: 50</li><li><strong>measurements</strong>: <ul><li>{'physical_quantity': 'power', 'type': 'active', 'upper_limit': 5000, 'lower_limit': 0}</li></ul></li><li><strong>wireless</strong>: False</li></ul></li><li><strong>HIPE_EEM_MA600_apparent</strong>: <ul><li><strong>model</strong>: EEM MA600</li><li><strong>manufacturer</strong>: Phoenix Contact</li><li><strong>manufacturer_url</strong>: <a href=\"https://www.phoenixcontact.com\">https://www.phoenixcontact.com</a></li><li><strong>description</strong>: Energy measurement device to measure electrical parameters in low voltage installations up to 700 V, acquisition of individual harmonic oscillations - can be extended with communication and special functional modules.\n",
       "</li><li><strong>sample_period</strong>: 5</li><li><strong>max_sample_period</strong>: 50</li><li><strong>measurements</strong>: <ul><li>{'physical_quantity': 'power', 'type': 'apparent', 'upper_limit': 5000, 'lower_limit': 0}</li></ul></li><li><strong>wireless</strong>: False</li></ul></li></ul></li></ul>"
      ],
      "text/plain": [
       "<IPython.core.display.HTML object>"
      ]
     },
     "metadata": {},
     "output_type": "display_data"
    }
   ],
   "source": [
    "print_dict(hipe.metadata)"
   ]
  },
  {
   "cell_type": "code",
   "execution_count": null,
   "id": "7fa25449-8535-4f3a-ab94-f6c5fbd83298",
   "metadata": {},
   "outputs": [],
   "source": []
  }
 ],
 "metadata": {
  "kernelspec": {
   "display_name": "Python 3 (ipykernel)",
   "language": "python",
   "name": "python3"
  },
  "language_info": {
   "codemirror_mode": {
    "name": "ipython",
    "version": 3
   },
   "file_extension": ".py",
   "mimetype": "text/x-python",
   "name": "python",
   "nbconvert_exporter": "python",
   "pygments_lexer": "ipython3",
   "version": "3.12.11"
  }
 },
 "nbformat": 4,
 "nbformat_minor": 5
}
